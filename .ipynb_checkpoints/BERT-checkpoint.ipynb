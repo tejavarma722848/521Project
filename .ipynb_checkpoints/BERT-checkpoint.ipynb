{
 "cells": [
  {
   "cell_type": "code",
   "execution_count": null,
   "metadata": {
    "colab": {
     "base_uri": "https://localhost:8080/",
     "height": 51
    },
    "colab_type": "code",
    "id": "WQvg58kWzZJ1",
    "outputId": "06b4acb1-cb02-42b0-d89a-7af088632b5d"
   },
   "outputs": [],
   "source": [
    "from sklearn.model_selection import train_test_split\n",
    "import pandas as pd\n",
    "import numpy as np\n",
    "import tensorflow as tf\n",
    "import tensorflow_hub as hub\n",
    "from datetime import datetime"
   ]
  },
  {
   "cell_type": "code",
   "execution_count": 1,
   "metadata": {
    "colab": {
     "base_uri": "https://localhost:8080/",
     "height": 139
    },
    "colab_type": "code",
    "id": "v98ZqJVRzgDf",
    "outputId": "279a0f21-6297-452f-d539-8f5f124fe0a5"
   },
   "outputs": [
    {
     "name": "stdout",
     "output_type": "stream",
     "text": [
      "Collecting bert-tensorflow\n",
      "  Downloading bert_tensorflow-1.0.4-py2.py3-none-any.whl.metadata (619 bytes)\n",
      "Requirement already satisfied: six in /opt/anaconda3/lib/python3.11/site-packages (from bert-tensorflow) (1.16.0)\n",
      "Downloading bert_tensorflow-1.0.4-py2.py3-none-any.whl (64 kB)\n",
      "\u001b[2K   \u001b[90m━━━━━━━━━━━━━━━━━━━━━━━━━━━━━━━━━━━━━━━━\u001b[0m \u001b[32m64.4/64.4 kB\u001b[0m \u001b[31m2.6 MB/s\u001b[0m eta \u001b[36m0:00:00\u001b[0m\n",
      "\u001b[?25hInstalling collected packages: bert-tensorflow\n",
      "Successfully installed bert-tensorflow-1.0.4\n"
     ]
    }
   ],
   "source": [
    "!pip install bert-tensorflow"
   ]
  },
  {
   "cell_type": "code",
   "execution_count": null,
   "metadata": {
    "colab": {},
    "colab_type": "code",
    "id": "kL0dlIAAziSX"
   },
   "outputs": [],
   "source": [
    "import bert\n",
    "from bert import run_classifier\n",
    "from bert import optimization\n",
    "from bert import tokenization"
   ]
  },
  {
   "cell_type": "code",
   "execution_count": null,
   "metadata": {
    "colab": {
     "base_uri": "https://localhost:8080/",
     "height": 34
    },
    "colab_type": "code",
    "id": "4USIFU1V3QOr",
    "outputId": "ad93b308-05d3-4862-f0da-489fd1660655"
   },
   "outputs": [],
   "source": [
    "import tensorflow as tf\n",
    "\n",
    "# Set the output directory for saving model file\n",
    "# Optionally, set a GCP bucket location\n",
    "\n",
    "OUTPUT_DIR = 'OUTPUT_DIR_NAME'#@param {type:\"string\"}\n",
    "#@markdown Whether or not to clear/delete the directory and create a new one\n",
    "DO_DELETE = False #@param {type:\"boolean\"}\n",
    "#@markdown Set USE_BUCKET and BUCKET if you want to (optionally) store model output on GCP bucket.\n",
    "USE_BUCKET = False #@param {type:\"boolean\"}\n",
    "BUCKET = 'BUCKET_NAME' #@param {type:\"string\"}\n",
    "\n",
    "if USE_BUCKET:\n",
    "  OUTPUT_DIR = 'gs://{}/{}'.format(BUCKET, OUTPUT_DIR)\n",
    "  from google.colab import auth\n",
    "  auth.authenticate_user()\n",
    "\n",
    "if DO_DELETE:\n",
    "  try:\n",
    "    tf.gfile.DeleteRecursively(OUTPUT_DIR)\n",
    "  except:\n",
    "    # Doesn't matter if the directory didn't exist\n",
    "    pass\n",
    "tf.gfile.MakeDirs(OUTPUT_DIR)\n",
    "print('***** Model output directory: {} *****'.format(OUTPUT_DIR))\n"
   ]
  },
  {
   "cell_type": "code",
   "execution_count": null,
   "metadata": {
    "colab": {},
    "colab_type": "code",
    "id": "Ut9eyOtezph8"
   },
   "outputs": [],
   "source": [
    "from tensorflow import keras\n",
    "import os\n",
    "import re"
   ]
  },
  {
   "cell_type": "code",
   "execution_count": null,
   "metadata": {
    "colab": {
     "base_uri": "https://localhost:8080/",
     "height": 51
    },
    "colab_type": "code",
    "id": "pPamR-mLzqJv",
    "outputId": "edbeb350-92b9-4069-a13f-58a1c9701eed"
   },
   "outputs": [
    {
     "name": "stdout",
     "output_type": "stream",
     "text": [
      "\u001b[?25l\r",
      "\u001b[K     |▎                               | 10kB 22.3MB/s eta 0:00:01\r",
      "\u001b[K     |▋                               | 20kB 1.8MB/s eta 0:00:01\r",
      "\u001b[K     |█                               | 30kB 2.7MB/s eta 0:00:01\r",
      "\u001b[K     |█▎                              | 40kB 1.7MB/s eta 0:00:01\r",
      "\u001b[K     |█▋                              | 51kB 2.2MB/s eta 0:00:01\r",
      "\u001b[K     |██                              | 61kB 2.6MB/s eta 0:00:01\r",
      "\u001b[K     |██▎                             | 71kB 3.0MB/s eta 0:00:01\r",
      "\u001b[K     |██▋                             | 81kB 3.4MB/s eta 0:00:01\r",
      "\u001b[K     |███                             | 92kB 3.8MB/s eta 0:00:01\r",
      "\u001b[K     |███▎                            | 102kB 2.9MB/s eta 0:00:01\r",
      "\u001b[K     |███▋                            | 112kB 2.9MB/s eta 0:00:01\r",
      "\u001b[K     |████                            | 122kB 2.9MB/s eta 0:00:01\r",
      "\u001b[K     |████▎                           | 133kB 2.9MB/s eta 0:00:01\r",
      "\u001b[K     |████▋                           | 143kB 2.9MB/s eta 0:00:01\r",
      "\u001b[K     |█████                           | 153kB 2.9MB/s eta 0:00:01\r",
      "\u001b[K     |█████▎                          | 163kB 2.9MB/s eta 0:00:01\r",
      "\u001b[K     |█████▋                          | 174kB 2.9MB/s eta 0:00:01\r",
      "\u001b[K     |██████                          | 184kB 2.9MB/s eta 0:00:01\r",
      "\u001b[K     |██████▎                         | 194kB 2.9MB/s eta 0:00:01\r",
      "\u001b[K     |██████▋                         | 204kB 2.9MB/s eta 0:00:01\r",
      "\u001b[K     |███████                         | 215kB 2.9MB/s eta 0:00:01\r",
      "\u001b[K     |███████▎                        | 225kB 2.9MB/s eta 0:00:01\r",
      "\u001b[K     |███████▋                        | 235kB 2.9MB/s eta 0:00:01\r",
      "\u001b[K     |████████                        | 245kB 2.9MB/s eta 0:00:01\r",
      "\u001b[K     |████████▎                       | 256kB 2.9MB/s eta 0:00:01\r",
      "\u001b[K     |████████▋                       | 266kB 2.9MB/s eta 0:00:01\r",
      "\u001b[K     |█████████                       | 276kB 2.9MB/s eta 0:00:01\r",
      "\u001b[K     |█████████▎                      | 286kB 2.9MB/s eta 0:00:01\r",
      "\u001b[K     |█████████▋                      | 296kB 2.9MB/s eta 0:00:01\r",
      "\u001b[K     |██████████                      | 307kB 2.9MB/s eta 0:00:01\r",
      "\u001b[K     |██████████▎                     | 317kB 2.9MB/s eta 0:00:01\r",
      "\u001b[K     |██████████▋                     | 327kB 2.9MB/s eta 0:00:01\r",
      "\u001b[K     |███████████                     | 337kB 2.9MB/s eta 0:00:01\r",
      "\u001b[K     |███████████▎                    | 348kB 2.9MB/s eta 0:00:01\r",
      "\u001b[K     |███████████▋                    | 358kB 2.9MB/s eta 0:00:01\r",
      "\u001b[K     |████████████                    | 368kB 2.9MB/s eta 0:00:01\r",
      "\u001b[K     |████████████▎                   | 378kB 2.9MB/s eta 0:00:01\r",
      "\u001b[K     |████████████▋                   | 389kB 2.9MB/s eta 0:00:01\r",
      "\u001b[K     |█████████████                   | 399kB 2.9MB/s eta 0:00:01\r",
      "\u001b[K     |█████████████▎                  | 409kB 2.9MB/s eta 0:00:01\r",
      "\u001b[K     |█████████████▋                  | 419kB 2.9MB/s eta 0:00:01\r",
      "\u001b[K     |██████████████                  | 430kB 2.9MB/s eta 0:00:01\r",
      "\u001b[K     |██████████████▎                 | 440kB 2.9MB/s eta 0:00:01\r",
      "\u001b[K     |██████████████▋                 | 450kB 2.9MB/s eta 0:00:01\r",
      "\u001b[K     |███████████████                 | 460kB 2.9MB/s eta 0:00:01\r",
      "\u001b[K     |███████████████▎                | 471kB 2.9MB/s eta 0:00:01\r",
      "\u001b[K     |███████████████▋                | 481kB 2.9MB/s eta 0:00:01\r",
      "\u001b[K     |████████████████                | 491kB 2.9MB/s eta 0:00:01\r",
      "\u001b[K     |████████████████▎               | 501kB 2.9MB/s eta 0:00:01\r",
      "\u001b[K     |████████████████▋               | 512kB 2.9MB/s eta 0:00:01\r",
      "\u001b[K     |█████████████████               | 522kB 2.9MB/s eta 0:00:01\r",
      "\u001b[K     |█████████████████▎              | 532kB 2.9MB/s eta 0:00:01\r",
      "\u001b[K     |█████████████████▋              | 542kB 2.9MB/s eta 0:00:01\r",
      "\u001b[K     |██████████████████              | 552kB 2.9MB/s eta 0:00:01\r",
      "\u001b[K     |██████████████████▎             | 563kB 2.9MB/s eta 0:00:01\r",
      "\u001b[K     |██████████████████▋             | 573kB 2.9MB/s eta 0:00:01\r",
      "\u001b[K     |███████████████████             | 583kB 2.9MB/s eta 0:00:01\r",
      "\u001b[K     |███████████████████▎            | 593kB 2.9MB/s eta 0:00:01\r",
      "\u001b[K     |███████████████████▋            | 604kB 2.9MB/s eta 0:00:01\r",
      "\u001b[K     |████████████████████            | 614kB 2.9MB/s eta 0:00:01\r",
      "\u001b[K     |████████████████████▎           | 624kB 2.9MB/s eta 0:00:01\r",
      "\u001b[K     |████████████████████▋           | 634kB 2.9MB/s eta 0:00:01\r",
      "\u001b[K     |█████████████████████           | 645kB 2.9MB/s eta 0:00:01\r",
      "\u001b[K     |█████████████████████▎          | 655kB 2.9MB/s eta 0:00:01\r",
      "\u001b[K     |█████████████████████▋          | 665kB 2.9MB/s eta 0:00:01\r",
      "\u001b[K     |██████████████████████          | 675kB 2.9MB/s eta 0:00:01\r",
      "\u001b[K     |██████████████████████▎         | 686kB 2.9MB/s eta 0:00:01\r",
      "\u001b[K     |██████████████████████▋         | 696kB 2.9MB/s eta 0:00:01\r",
      "\u001b[K     |███████████████████████         | 706kB 2.9MB/s eta 0:00:01\r",
      "\u001b[K     |███████████████████████▎        | 716kB 2.9MB/s eta 0:00:01\r",
      "\u001b[K     |███████████████████████▋        | 727kB 2.9MB/s eta 0:00:01\r",
      "\u001b[K     |████████████████████████        | 737kB 2.9MB/s eta 0:00:01\r",
      "\u001b[K     |████████████████████████▎       | 747kB 2.9MB/s eta 0:00:01\r",
      "\u001b[K     |████████████████████████▋       | 757kB 2.9MB/s eta 0:00:01\r",
      "\u001b[K     |████████████████████████▉       | 768kB 2.9MB/s eta 0:00:01\r",
      "\u001b[K     |█████████████████████████▏      | 778kB 2.9MB/s eta 0:00:01\r",
      "\u001b[K     |█████████████████████████▌      | 788kB 2.9MB/s eta 0:00:01\r",
      "\u001b[K     |█████████████████████████▉      | 798kB 2.9MB/s eta 0:00:01\r",
      "\u001b[K     |██████████████████████████▏     | 808kB 2.9MB/s eta 0:00:01\r",
      "\u001b[K     |██████████████████████████▌     | 819kB 2.9MB/s eta 0:00:01\r",
      "\u001b[K     |██████████████████████████▉     | 829kB 2.9MB/s eta 0:00:01\r",
      "\u001b[K     |███████████████████████████▏    | 839kB 2.9MB/s eta 0:00:01\r",
      "\u001b[K     |███████████████████████████▌    | 849kB 2.9MB/s eta 0:00:01\r",
      "\u001b[K     |███████████████████████████▉    | 860kB 2.9MB/s eta 0:00:01\r",
      "\u001b[K     |████████████████████████████▏   | 870kB 2.9MB/s eta 0:00:01\r",
      "\u001b[K     |████████████████████████████▌   | 880kB 2.9MB/s eta 0:00:01\r",
      "\u001b[K     |████████████████████████████▉   | 890kB 2.9MB/s eta 0:00:01\r",
      "\u001b[K     |█████████████████████████████▏  | 901kB 2.9MB/s eta 0:00:01\r",
      "\u001b[K     |█████████████████████████████▌  | 911kB 2.9MB/s eta 0:00:01\r",
      "\u001b[K     |█████████████████████████████▉  | 921kB 2.9MB/s eta 0:00:01\r",
      "\u001b[K     |██████████████████████████████▏ | 931kB 2.9MB/s eta 0:00:01\r",
      "\u001b[K     |██████████████████████████████▌ | 942kB 2.9MB/s eta 0:00:01\r",
      "\u001b[K     |██████████████████████████████▉ | 952kB 2.9MB/s eta 0:00:01\r",
      "\u001b[K     |███████████████████████████████▏| 962kB 2.9MB/s eta 0:00:01\r",
      "\u001b[K     |███████████████████████████████▌| 972kB 2.9MB/s eta 0:00:01\r",
      "\u001b[K     |███████████████████████████████▉| 983kB 2.9MB/s eta 0:00:01\r",
      "\u001b[K     |████████████████████████████████| 993kB 2.9MB/s \n",
      "\u001b[?25h  Building wheel for PyDrive (setup.py) ... \u001b[?25l\u001b[?25hdone\n"
     ]
    }
   ],
   "source": [
    "# Code to read csv file into Colaboratory:\n",
    "!pip install -U -q PyDrive\n",
    "from pydrive.auth import GoogleAuth\n",
    "from pydrive.drive import GoogleDrive\n",
    "from google.colab import auth\n",
    "from oauth2client.client import GoogleCredentials\n",
    "# Authenticate and create the PyDrive client.\n",
    "auth.authenticate_user()\n",
    "gauth = GoogleAuth()\n",
    "gauth.credentials = GoogleCredentials.get_application_default()\n",
    "drive = GoogleDrive(gauth)\n"
   ]
  },
  {
   "cell_type": "code",
   "execution_count": 18,
   "metadata": {
    "colab": {
     "base_uri": "https://localhost:8080/",
     "height": 510
    },
    "colab_type": "code",
    "id": "zVYL0Kee0AsZ",
    "outputId": "a81d588f-c97e-4ade-b582-0ab8fba9a353"
   },
   "outputs": [],
   "source": [
    "import pandas as pd\n",
    "\n",
    "# Replace 'file_path' with the actual path to your CSV file on your local system\n",
    "file_path = '/Users/teja/Downloads/Twitter_Data.csv'\n",
    "\n",
    "# Read the CSV file into a pandas DataFrame\n",
    "data = pd.read_csv(file_path)\n",
    "\n",
    "\n",
    "\n",
    "\n",
    "data = data[['Text', 'Score']]\n"
   ]
  },
  {
   "cell_type": "code",
   "execution_count": 19,
   "metadata": {
    "colab": {
     "base_uri": "https://localhost:8080/",
     "height": 51
    },
    "colab_type": "code",
    "id": "cDpxzgjT0D5V",
    "outputId": "d75bacab-c960-4356-eb81-55f65427866e"
   },
   "outputs": [
    {
     "name": "stdout",
     "output_type": "stream",
     "text": [
      "# negative reviews before: 90723\n",
      "# positive reviews before: 72250\n",
      "\n",
      "# negative reviews after: 72250\n",
      "# positive reviews after: 72250\n"
     ]
    }
   ],
   "source": [
    "# Assume 'data' is your DataFrame with 'Score' column containing 0 and 1 values\n",
    "\n",
    "# Define the mapping from 0, 1 ratings to negative or positive sentiment\n",
    "rating_to_sentiment = { 0: 0, 1: 1 }\n",
    "\n",
    "# Apply the mapping to create the 'Sentiment' column\n",
    "data['Sentiment'] = data['Score'].map(rating_to_sentiment)\n",
    "\n",
    "# Count number of negative and positive reviews\n",
    "neg_num = (data['Sentiment'] == 0).sum()\n",
    "pos_num = (data['Sentiment'] == 1).sum()\n",
    "\n",
    "print('# negative reviews before: {}'.format(neg_num))\n",
    "print('# positive reviews before: {}'.format(pos_num))\n",
    "\n",
    "# Make the dataset balanced\n",
    "balanced_sample_num = min(neg_num, pos_num)\n",
    "\n",
    "# Randomly select <'balanced_sample_num'> numbers of negative and positive reviews\n",
    "neg_sample = data[data['Sentiment'] == 0].sample(n=balanced_sample_num, replace=False)\n",
    "pos_sample = data[data['Sentiment'] == 1].sample(n=balanced_sample_num, replace=False)\n",
    "\n",
    "# Concatenate the samples to create the balanced dataset\n",
    "data_balanced = pd.concat([neg_sample, pos_sample], ignore_index=True)\n",
    "\n",
    "# Shuffle the rows so that 0's and 1's are mixed\n",
    "data_balanced = data_balanced.sample(frac=1).reset_index(drop=True)\n",
    "\n",
    "print('\\n# negative reviews after: {}'.format((data_balanced['Sentiment'] == 0).sum()))\n",
    "print('# positive reviews after: {}'.format((data_balanced['Sentiment'] == 1).sum()))\n",
    "\n",
    "# Get one-hot encoding for the labels\n",
    "Y = pd.get_dummies(data_balanced['Sentiment']).values\n"
   ]
  },
  {
   "cell_type": "code",
   "execution_count": 20,
   "metadata": {
    "colab": {},
    "colab_type": "code",
    "id": "yriaRwg30T4D"
   },
   "outputs": [],
   "source": [
    "\n",
    "train=data.sample(6000)\n",
    "test=data.sample(4000)\n",
    " \n"
   ]
  },
  {
   "cell_type": "code",
   "execution_count": 21,
   "metadata": {
    "colab": {},
    "colab_type": "code",
    "id": "4rbQdrhpzy5W"
   },
   "outputs": [],
   "source": [
    "DATA_COLUMN = 'Text'\n",
    "LABEL_COLUMN = 'Sentiment'\n",
    "# label_list is the list of labels, i.e. True, False or 0, 1 or 'dog', 'cat'\n",
    "label_list = [0, 1]"
   ]
  },
  {
   "cell_type": "code",
   "execution_count": null,
   "metadata": {
    "colab": {},
    "colab_type": "code",
    "id": "t5M6zEPOz6XR"
   },
   "outputs": [],
   "source": [
    "# Importing the necessary module from BERT's run_classifier code\n",
    "from transformers.data.processors.utils import InputExample\n",
    "\n",
    "# Creating InputExamples from the data for training and testing\n",
    "# Assuming 'train' and 'test' are pandas DataFrames\n",
    "train_InputExamples = train.apply(lambda x: \n",
    "                                   # Creating an InputExample instance for each row in the 'train' DataFrame\n",
    "                                   InputExample(\n",
    "                                       guid=None,  # Globally unique ID for bookkeeping, unused in this example\n",
    "                                       text_a=x[DATA_COLUMN],  # Text input for model, here you specify the input text\n",
    "                                       text_b=None,  # Second input text for sequence pair tasks, unused here\n",
    "                                       label=x[LABEL_COLUMN]  # Label for the text input, specify the target label\n",
    "                                   ),\n",
    "                                   axis=1  # Applying the lambda function row-wise\n",
    "                                  )\n",
    "\n",
    "test_InputExamples = test.apply(lambda x: \n",
    "                                 # Creating an InputExample instance for each row in the 'test' DataFrame\n",
    "                                 InputExample(\n",
    "                                     guid=None,\n",
    "                                     text_a=x[DATA_COLUMN],\n",
    "                                     text_b=None,\n",
    "                                     label=x[LABEL_COLUMN]\n",
    "                                 ),\n",
    "                                 axis=1\n",
    "                                )\n"
   ]
  },
  {
   "cell_type": "code",
   "execution_count": null,
   "metadata": {
    "colab": {
     "base_uri": "https://localhost:8080/",
     "height": 173
    },
    "colab_type": "code",
    "id": "emi271gK2O3w",
    "outputId": "1ef8791a-5087-4dc8-ac67-a67eb5ec413b"
   },
   "outputs": [],
   "source": [
    "import tensorflow as tf  # Importing TensorFlow\n",
    "\n",
    "# BERT model URL\n",
    "BERT_MODEL_HUB = \"https://tfhub.dev/google/bert_uncased_L-12_H-768_A-12/1\"\n",
    "\n",
    "# Function to create tokenizer from BERT Hub module\n",
    "def create_tokenizer_from_hub_module():\n",
    "    \"\"\"Get the vocab file and casing info from the Hub module.\"\"\"\n",
    "    \n",
    "    # Start a new TensorFlow graph\n",
    "    with tf.Graph().as_default():\n",
    "        # Load BERT module from TF Hub\n",
    "        bert_module = hub.Module(BERT_MODEL_HUB)\n",
    "        \n",
    "        # Get tokenization info from the BERT module\n",
    "        tokenization_info = bert_module(signature=\"tokenization_info\", as_dict=True)\n",
    "        \n",
    "        # Start a TensorFlow session\n",
    "        with tf.Session() as sess:\n",
    "            # Run the session to get vocab file and casing info\n",
    "            vocab_file, do_lower_case = sess.run([\n",
    "                tokenization_info[\"vocab_file\"],\n",
    "                tokenization_info[\"do_lower_case\"]\n",
    "            ])\n",
    "  \n",
    "    # Return a FullTokenizer object initialized with the vocab file and casing info\n",
    "    return bert.tokenization.FullTokenizer(\n",
    "        vocab_file=vocab_file,  # Vocabulary file for tokenization\n",
    "        do_lower_case=do_lower_case  # Whether to lowercase the input text\n",
    "    )\n",
    "\n",
    "# Create tokenizer using the function\n",
    "tokenizer = create_tokenizer_from_hub_module()\n"
   ]
  },
  {
   "cell_type": "code",
   "execution_count": null,
   "metadata": {
    "colab": {
     "base_uri": "https://localhost:8080/",
     "height": 3097
    },
    "colab_type": "code",
    "id": "TzG6hUwy2Sk2",
    "outputId": "66e418d3-57f3-4825-90db-5c837e7d8f66"
   },
   "outputs": [],
   "source": [
    "from transformers import InputExample  # Importing InputExample from transformers library\n",
    "\n",
    "# Set maximum sequence length for BERT input\n",
    "MAX_SEQ_LENGTH = 128\n",
    "\n",
    "# Convert train and test examples to BERT-compatible features\n",
    "# Assuming train_InputExamples and test_InputExamples are lists of InputExample objects\n",
    "# label_list is a list of all possible labels in the dataset\n",
    "# tokenizer is a BERT tokenizer object\n",
    "\n",
    "# Convert train examples to features\n",
    "train_features = bert.run_classifier.convert_examples_to_features(\n",
    "    train_InputExamples,  # List of InputExample objects for training data\n",
    "    label_list,  # List of all possible labels in the dataset\n",
    "    MAX_SEQ_LENGTH,  # Maximum sequence length for BERT input\n",
    "    tokenizer  # BERT tokenizer object\n",
    ")\n",
    "\n",
    "# Convert test examples to features\n",
    "test_features = bert.run_classifier.convert_examples_to_features(\n",
    "    test_InputExamples,  # List of InputExample objects for test data\n",
    "    label_list,  # List of all possible labels in the dataset\n",
    "    MAX_SEQ_LENGTH,  # Maximum sequence length for BERT input\n",
    "    tokenizer  # BERT tokenizer object\n",
    ")\n"
   ]
  },
  {
   "cell_type": "code",
   "execution_count": null,
   "metadata": {
    "colab": {},
    "colab_type": "code",
    "id": "VG9Yu81H2WG1"
   },
   "outputs": [],
   "source": [
    "def create_model(is_predicting, input_ids, input_mask, segment_ids, labels,\n",
    "                 num_labels):\n",
    "    \"\"\"Creates a classification model.\"\"\"\n",
    "\n",
    "    # Load BERT module from TF Hub\n",
    "    bert_module = hub.Module(\n",
    "        BERT_MODEL_HUB,\n",
    "        trainable=True)  # Set trainable to True to fine-tune BERT weights\n",
    "\n",
    "    # Define BERT inputs\n",
    "    bert_inputs = dict(\n",
    "        input_ids=input_ids,  # Token ids representing input text\n",
    "        input_mask=input_mask,  # Mask to avoid performing attention on padding token indices\n",
    "        segment_ids=segment_ids)  # Segment id (0 for the first sequence, 1 for the second)\n",
    "\n",
    "    # Get BERT outputs\n",
    "    bert_outputs = bert_module(\n",
    "        inputs=bert_inputs,\n",
    "        signature=\"tokens\",  # Use BERT's tokens signature for classification tasks\n",
    "        as_dict=True)\n",
    "\n",
    "    # Use \"pooled_output\" for classification tasks on an entire sentence\n",
    "    output_layer = bert_outputs[\"pooled_output\"]\n",
    "\n",
    "    # Get hidden size from output layer\n",
    "    hidden_size = output_layer.shape[-1].value\n",
    "\n",
    "    # Define weights and bias for output layer\n",
    "    output_weights = tf.get_variable(\n",
    "        \"output_weights\", [num_labels, hidden_size],\n",
    "        initializer=tf.truncated_normal_initializer(stddev=0.02))\n",
    "    output_bias = tf.get_variable(\n",
    "        \"output_bias\", [num_labels], initializer=tf.zeros_initializer())\n",
    "\n",
    "    # Apply dropout to prevent overfitting\n",
    "    output_layer = tf.nn.dropout(output_layer, keep_prob=0.9)\n",
    "\n",
    "    # Compute logits\n",
    "    logits = tf.matmul(output_layer, output_weights, transpose_b=True)\n",
    "    logits = tf.nn.bias_add(logits, output_bias)\n",
    "    log_probs = tf.nn.log_softmax(logits, axis=-1)\n",
    "\n",
    "    # Convert labels into one-hot encoding\n",
    "    one_hot_labels = tf.one_hot(labels, depth=num_labels, dtype=tf.float32)\n",
    "\n",
    "    # Predicted labels (used for prediction)\n",
    "    predicted_labels = tf.squeeze(tf.argmax(log_probs, axis=-1, output_type=tf.int32))\n",
    "\n",
    "    # If predicting, return predicted labels and probabilities\n",
    "    if is_predicting:\n",
    "        return (predicted_labels, log_probs)\n",
    "\n",
    "    # Compute loss between predicted and actual labels (used for training and evaluation)\n",
    "    per_example_loss = -tf.reduce_sum(one_hot_labels * log_probs, axis=-1)\n",
    "    loss = tf.reduce_mean(per_example_loss)\n",
    "    return (loss, predicted_labels, log_probs)\n"
   ]
  },
  {
   "cell_type": "code",
   "execution_count": null,
   "metadata": {
    "colab": {},
    "colab_type": "code",
    "id": "p9C2W2Vs2bI9"
   },
   "outputs": [],
   "source": [
    "# model_fn_builder actually creates our model function\n",
    "# using the passed parameters for num_labels, learning_rate, etc.\n",
    "def model_fn_builder(num_labels, learning_rate, num_train_steps,\n",
    "                     num_warmup_steps):\n",
    "    \"\"\"Returns `model_fn` closure for TPUEstimator.\"\"\"\n",
    "    \n",
    "    def model_fn(features, labels, mode, params):  # pylint: disable=unused-argument\n",
    "        \"\"\"The `model_fn` for TPUEstimator.\"\"\"\n",
    "        \n",
    "        # Extract input features\n",
    "        input_ids = features[\"input_ids\"]\n",
    "        input_mask = features[\"input_mask\"]\n",
    "        segment_ids = features[\"segment_ids\"]\n",
    "        label_ids = features[\"label_ids\"]\n",
    "\n",
    "        is_predicting = (mode == tf.estimator.ModeKeys.PREDICT)\n",
    "        \n",
    "        # TRAIN and EVAL\n",
    "        if not is_predicting:\n",
    "            # Create model and compute loss\n",
    "            (loss, predicted_labels, log_probs) = create_model(\n",
    "                is_predicting, input_ids, input_mask, segment_ids, label_ids, num_labels)\n",
    "\n",
    "            # Create optimizer for training\n",
    "            train_op = bert.optimization.create_optimizer(\n",
    "                loss, learning_rate, num_train_steps, num_warmup_steps, use_tpu=False)\n",
    "\n",
    "            # Define evaluation metrics\n",
    "            def metric_fn(label_ids, predicted_labels):\n",
    "                accuracy = tf.metrics.accuracy(label_ids, predicted_labels)\n",
    "                f1_score = tf.contrib.metrics.f1_score(label_ids, predicted_labels)\n",
    "                auc = tf.metrics.auc(label_ids, predicted_labels)\n",
    "                recall = tf.metrics.recall(label_ids, predicted_labels)\n",
    "                precision = tf.metrics.precision(label_ids, predicted_labels)\n",
    "                true_pos = tf.metrics.true_positives(label_ids, predicted_labels)\n",
    "                true_neg = tf.metrics.true_negatives(label_ids, predicted_labels)\n",
    "                false_pos = tf.metrics.false_positives(label_ids, predicted_labels)\n",
    "                false_neg = tf.metrics.false_negatives(label_ids, predicted_labels)\n",
    "                return {\n",
    "                    \"eval_accuracy\": accuracy,\n",
    "                    \"f1_score\": f1_score,\n",
    "                    \"auc\": auc,\n",
    "                    \"precision\": precision,\n",
    "                    \"recall\": recall,\n",
    "                    \"true_positives\": true_pos,\n",
    "                    \"true_negatives\": true_neg,\n",
    "                    \"false_positives\": false_pos,\n",
    "                    \"false_negatives\": false_neg\n",
    "                }\n",
    "\n",
    "            eval_metrics = metric_fn(label_ids, predicted_labels)\n",
    "\n",
    "            if mode == tf.estimator.ModeKeys.TRAIN:\n",
    "                return tf.estimator.EstimatorSpec(mode=mode, loss=loss, train_op=train_op)\n",
    "            else:\n",
    "                return tf.estimator.EstimatorSpec(mode=mode, loss=loss, eval_metric_ops=eval_metrics)\n",
    "        else:\n",
    "            # For PREDICT mode, create predictions\n",
    "            (predicted_labels, log_probs) = create_model(\n",
    "                is_predicting, input_ids, input_mask, segment_ids, label_ids, num_labels)\n",
    "\n",
    "            predictions = {\n",
    "                'probabilities': log_probs,\n",
    "                'labels': predicted_labels\n",
    "            }\n",
    "            return tf.estimator.EstimatorSpec(mode, predictions=predictions)\n",
    "\n",
    "    # Return the actual model function in the closure\n",
    "    return model_fn\n"
   ]
  },
  {
   "cell_type": "code",
   "execution_count": null,
   "metadata": {
    "colab": {},
    "colab_type": "code",
    "id": "WaAtaH3r2gMo"
   },
   "outputs": [],
   "source": [
    "# Compute train and warmup steps from batch size\n",
    "# These hyperparameters are copied from this colab notebook (https://colab.sandbox.google.com/github/tensorflow/tpu/blob/master/tools/colab/bert_finetuning_with_cloud_tpus.ipynb)\n",
    "BATCH_SIZE = 32  # Batch size for training\n",
    "LEARNING_RATE = 2e-5  # Learning rate for the optimizer\n",
    "NUM_TRAIN_EPOCHS = 4.0  # Number of training epochs\n",
    "# Warmup is a period of time where the learning rate \n",
    "# is small and gradually increases--usually helps training.\n",
    "WARMUP_PROPORTION = 0.1  # Proportion of training steps used for warmup\n",
    "# Model configs\n",
    "SAVE_CHECKPOINTS_STEPS = 500  # Number of training steps between saving model checkpoints\n",
    "SAVE_SUMMARY_STEPS = 100  # Number of training steps between saving summary data for TensorBoard\n"
   ]
  },
  {
   "cell_type": "code",
   "execution_count": null,
   "metadata": {
    "colab": {},
    "colab_type": "code",
    "id": "7PIF6Zzg2kWx"
   },
   "outputs": [],
   "source": [
    "# Compute # train and warmup steps from batch size\n",
    "# Calculate the total number of training steps based on the number of training examples,\n",
    "# batch size, and number of training epochs\n",
    "num_train_steps = int(len(train_features) / BATCH_SIZE * NUM_TRAIN_EPOCHS)\n",
    "\n",
    "# Calculate the number of warmup steps, which is a proportion of the total training steps,\n",
    "# typically used to gradually increase the learning rate at the beginning of training\n",
    "num_warmup_steps = int(num_train_steps * WARMUP_PROPORTION)\n"
   ]
  },
  {
   "cell_type": "code",
   "execution_count": null,
   "metadata": {
    "colab": {},
    "colab_type": "code",
    "id": "zRbrIHGx2meN"
   },
   "outputs": [],
   "source": [
    "# Specify output directory and number of checkpoint steps to save\n",
    "run_config = tf.estimator.RunConfig(\n",
    "    model_dir=OUTPUT_DIR,  # Directory to save model checkpoints and summaries\n",
    "    save_summary_steps=SAVE_SUMMARY_STEPS,  # Number of steps between saving summaries for TensorBoard\n",
    "    save_checkpoints_steps=SAVE_CHECKPOINTS_STEPS)  # Number of steps between saving model checkpoints\n"
   ]
  },
  {
   "cell_type": "code",
   "execution_count": null,
   "metadata": {
    "colab": {
     "base_uri": "https://localhost:8080/",
     "height": 275
    },
    "colab_type": "code",
    "id": "nhIfRO-i2o7P",
    "outputId": "2a71836e-1ef6-4536-bbf1-71a1b469b29c"
   },
   "outputs": [
    {
     "name": "stdout",
     "output_type": "stream",
     "text": [
      "INFO:tensorflow:Using config: {'_model_dir': 'OUTPUT_DIR_NAME', '_tf_random_seed': None, '_save_summary_steps': 100, '_save_checkpoints_steps': 500, '_save_checkpoints_secs': None, '_session_config': allow_soft_placement: true\n",
      "graph_options {\n",
      "  rewrite_options {\n",
      "    meta_optimizer_iterations: ONE\n",
      "  }\n",
      "}\n",
      ", '_keep_checkpoint_max': 5, '_keep_checkpoint_every_n_hours': 10000, '_log_step_count_steps': 100, '_train_distribute': None, '_device_fn': None, '_protocol': None, '_eval_distribute': None, '_experimental_distribute': None, '_service': None, '_cluster_spec': <tensorflow.python.training.server_lib.ClusterSpec object at 0x7f3d10af9080>, '_task_type': 'worker', '_task_id': 0, '_global_id_in_cluster': 0, '_master': '', '_evaluation_master': '', '_is_chief': True, '_num_ps_replicas': 0, '_num_worker_replicas': 1}\n"
     ]
    },
    {
     "name": "stderr",
     "output_type": "stream",
     "text": [
      "I0511 05:51:47.393686 139902602618752 estimator.py:201] Using config: {'_model_dir': 'OUTPUT_DIR_NAME', '_tf_random_seed': None, '_save_summary_steps': 100, '_save_checkpoints_steps': 500, '_save_checkpoints_secs': None, '_session_config': allow_soft_placement: true\n",
      "graph_options {\n",
      "  rewrite_options {\n",
      "    meta_optimizer_iterations: ONE\n",
      "  }\n",
      "}\n",
      ", '_keep_checkpoint_max': 5, '_keep_checkpoint_every_n_hours': 10000, '_log_step_count_steps': 100, '_train_distribute': None, '_device_fn': None, '_protocol': None, '_eval_distribute': None, '_experimental_distribute': None, '_service': None, '_cluster_spec': <tensorflow.python.training.server_lib.ClusterSpec object at 0x7f3d10af9080>, '_task_type': 'worker', '_task_id': 0, '_global_id_in_cluster': 0, '_master': '', '_evaluation_master': '', '_is_chief': True, '_num_ps_replicas': 0, '_num_worker_replicas': 1}\n"
     ]
    }
   ],
   "source": [
    "# Define model function using model_fn_builder\n",
    "model_fn = model_fn_builder(\n",
    "    num_labels=len(label_list),  # Number of labels in the dataset\n",
    "    learning_rate=LEARNING_RATE,  # Learning rate for the optimizer\n",
    "    num_train_steps=num_train_steps,  # Total number of training steps\n",
    "    num_warmup_steps=num_warmup_steps)  # Number of warmup steps\n",
    "\n",
    "# Create an Estimator using the defined model function, run configuration, and additional parameters\n",
    "estimator = tf.estimator.Estimator(\n",
    "    model_fn=model_fn,  # Model function to use\n",
    "    config=run_config,  # Run configuration specifying model directory and checkpoint steps\n",
    "    params={\"batch_size\": BATCH_SIZE})  # Additional parameters (e.g., batch size)\n"
   ]
  },
  {
   "cell_type": "code",
   "execution_count": null,
   "metadata": {
    "colab": {},
    "colab_type": "code",
    "id": "UsxpBJCc2sw7"
   },
   "outputs": [],
   "source": [
    "# Create an input function for training. drop_remainder = True for using TPUs.\n",
    "train_input_fn = bert.run_classifier.input_fn_builder(\n",
    "    features=train_features,  # Training features\n",
    "    seq_length=MAX_SEQ_LENGTH,  # Maximum sequence length\n",
    "    is_training=True,  # Indicate training mode\n",
    "    drop_remainder=False)  # Whether to drop the remainder of the data when batching\n"
   ]
  },
  {
   "cell_type": "code",
   "execution_count": null,
   "metadata": {
    "colab": {
     "base_uri": "https://localhost:8080/",
     "height": 15949
    },
    "colab_type": "code",
    "id": "DnkTIdL_2vnt",
    "outputId": "f47a827e-99ec-47d9-c657-f54766c7a4cd"
   },
   "outputs": [
    {
     "name": "stdout",
     "output_type": "stream",
     "text": [
      "Beginning Training!\n",
      "INFO:tensorflow:Calling model_fn.\n"
     ]
    },
    {
     "name": "stderr",
     "output_type": "stream",
     "text": [
      "I0511 05:53:11.676720 139902602618752 estimator.py:1111] Calling model_fn.\n"
     ]
    },
    {
     "name": "stdout",
     "output_type": "stream",
     "text": [
      "INFO:tensorflow:Saver not created because there are no variables in the graph to restore\n"
     ]
    },
    {
     "name": "stderr",
     "output_type": "stream",
     "text": [
      "I0511 05:53:14.878608 139902602618752 saver.py:1483] Saver not created because there are no variables in the graph to restore\n"
     ]
    },
    {
     "name": "stdout",
     "output_type": "stream",
     "text": [
      "WARNING:tensorflow:From <ipython-input-14-ca03218f28a6>:34: calling dropout (from tensorflow.python.ops.nn_ops) with keep_prob is deprecated and will be removed in a future version.\n",
      "Instructions for updating:\n",
      "Please use `rate` instead of `keep_prob`. Rate should be set to `rate = 1 - keep_prob`.\n"
     ]
    },
    {
     "name": "stderr",
     "output_type": "stream",
     "text": [
      "W0511 05:53:14.995726 139902602618752 deprecation.py:506] From <ipython-input-14-ca03218f28a6>:34: calling dropout (from tensorflow.python.ops.nn_ops) with keep_prob is deprecated and will be removed in a future version.\n",
      "Instructions for updating:\n",
      "Please use `rate` instead of `keep_prob`. Rate should be set to `rate = 1 - keep_prob`.\n"
     ]
    },
    {
     "name": "stdout",
     "output_type": "stream",
     "text": [
      "WARNING:tensorflow:From /usr/local/lib/python3.6/dist-packages/tensorflow/python/training/learning_rate_decay_v2.py:321: div (from tensorflow.python.ops.math_ops) is deprecated and will be removed in a future version.\n",
      "Instructions for updating:\n",
      "Deprecated in favor of operator or tf.math.divide.\n"
     ]
    },
    {
     "name": "stderr",
     "output_type": "stream",
     "text": [
      "W0511 05:53:15.039072 139902602618752 deprecation.py:323] From /usr/local/lib/python3.6/dist-packages/tensorflow/python/training/learning_rate_decay_v2.py:321: div (from tensorflow.python.ops.math_ops) is deprecated and will be removed in a future version.\n",
      "Instructions for updating:\n",
      "Deprecated in favor of operator or tf.math.divide.\n"
     ]
    },
    {
     "name": "stdout",
     "output_type": "stream",
     "text": [
      "WARNING:tensorflow:From /usr/local/lib/python3.6/dist-packages/tensorflow/python/ops/math_ops.py:3066: to_int32 (from tensorflow.python.ops.math_ops) is deprecated and will be removed in a future version.\n",
      "Instructions for updating:\n",
      "Use tf.cast instead.\n"
     ]
    },
    {
     "name": "stderr",
     "output_type": "stream",
     "text": [
      "W0511 05:53:15.115201 139902602618752 deprecation.py:323] From /usr/local/lib/python3.6/dist-packages/tensorflow/python/ops/math_ops.py:3066: to_int32 (from tensorflow.python.ops.math_ops) is deprecated and will be removed in a future version.\n",
      "Instructions for updating:\n",
      "Use tf.cast instead.\n",
      "/usr/local/lib/python3.6/dist-packages/tensorflow/python/ops/gradients_impl.py:110: UserWarning: Converting sparse IndexedSlices to a dense Tensor of unknown shape. This may consume a large amount of memory.\n",
      "  \"Converting sparse IndexedSlices to a dense Tensor of unknown shape. \"\n"
     ]
    },
    {
     "name": "stdout",
     "output_type": "stream",
     "text": [
      "WARNING:tensorflow:From /usr/local/lib/python3.6/dist-packages/tensorflow/python/ops/metrics_impl.py:455: to_float (from tensorflow.python.ops.math_ops) is deprecated and will be removed in a future version.\n",
      "Instructions for updating:\n",
      "Use tf.cast instead.\n"
     ]
    },
    {
     "name": "stderr",
     "output_type": "stream",
     "text": [
      "W0511 05:53:24.503902 139902602618752 deprecation.py:323] From /usr/local/lib/python3.6/dist-packages/tensorflow/python/ops/metrics_impl.py:455: to_float (from tensorflow.python.ops.math_ops) is deprecated and will be removed in a future version.\n",
      "Instructions for updating:\n",
      "Use tf.cast instead.\n"
     ]
    },
    {
     "name": "stdout",
     "output_type": "stream",
     "text": [
      "\n",
      "WARNING: The TensorFlow contrib module will not be included in TensorFlow 2.0.\n",
      "For more information, please see:\n",
      "  * https://github.com/tensorflow/community/blob/master/rfcs/20180907-contrib-sunset.md\n",
      "  * https://github.com/tensorflow/addons\n",
      "If you depend on functionality not listed there, please file an issue.\n",
      "\n",
      "INFO:tensorflow:Done calling model_fn.\n"
     ]
    },
    {
     "name": "stderr",
     "output_type": "stream",
     "text": [
      "I0511 05:53:26.567944 139902602618752 estimator.py:1113] Done calling model_fn.\n"
     ]
    },
    {
     "name": "stdout",
     "output_type": "stream",
     "text": [
      "INFO:tensorflow:Create CheckpointSaverHook.\n"
     ]
    },
    {
     "name": "stderr",
     "output_type": "stream",
     "text": [
      "I0511 05:53:26.571154 139902602618752 basic_session_run_hooks.py:527] Create CheckpointSaverHook.\n"
     ]
    },
    {
     "name": "stdout",
     "output_type": "stream",
     "text": [
      "INFO:tensorflow:Graph was finalized.\n"
     ]
    },
    {
     "name": "stderr",
     "output_type": "stream",
     "text": [
      "I0511 05:53:32.777532 139902602618752 monitored_session.py:222] Graph was finalized.\n"
     ]
    },
    {
     "name": "stdout",
     "output_type": "stream",
     "text": [
      "INFO:tensorflow:Running local_init_op.\n"
     ]
    },
    {
     "name": "stderr",
     "output_type": "stream",
     "text": [
      "I0511 05:53:37.633049 139902602618752 session_manager.py:491] Running local_init_op.\n"
     ]
    },
    {
     "name": "stdout",
     "output_type": "stream",
     "text": [
      "INFO:tensorflow:Done running local_init_op.\n"
     ]
    },
    {
     "name": "stderr",
     "output_type": "stream",
     "text": [
      "I0511 05:53:37.838180 139902602618752 session_manager.py:493] Done running local_init_op.\n"
     ]
    },
    {
     "name": "stdout",
     "output_type": "stream",
     "text": [
      "INFO:tensorflow:Saving checkpoints for 0 into OUTPUT_DIR_NAME/model.ckpt.\n"
     ]
    },
    {
     "name": "stderr",
     "output_type": "stream",
     "text": [
      "I0511 05:54:44.174941 139902602618752 basic_session_run_hooks.py:594] Saving checkpoints for 0 into OUTPUT_DIR_NAME/model.ckpt.\n"
     ]
    },
    {
     "name": "stdout",
     "output_type": "stream",
     "text": [
      "INFO:tensorflow:loss = 0.71320915, step = 0\n"
     ]
    },
    {
     "name": "stderr",
     "output_type": "stream",
     "text": [
      "I0511 05:55:06.781260 139902602618752 basic_session_run_hooks.py:249] loss = 0.71320915, step = 0\n"
     ]
    },
    {
     "name": "stdout",
     "output_type": "stream",
     "text": [
      "INFO:tensorflow:global_step/sec: 0.960819\n"
     ]
    },
    {
     "name": "stderr",
     "output_type": "stream",
     "text": [
      "I0511 05:56:50.858554 139902602618752 basic_session_run_hooks.py:680] global_step/sec: 0.960819\n"
     ]
    },
    {
     "name": "stdout",
     "output_type": "stream",
     "text": [
      "INFO:tensorflow:loss = 0.620339, step = 100 (104.080 sec)\n"
     ]
    },
    {
     "name": "stderr",
     "output_type": "stream",
     "text": [
      "I0511 05:56:50.861588 139902602618752 basic_session_run_hooks.py:247] loss = 0.620339, step = 100 (104.080 sec)\n"
     ]
    },
    {
     "name": "stdout",
     "output_type": "stream",
     "text": [
      "INFO:tensorflow:global_step/sec: 1.08622\n"
     ]
    },
    {
     "name": "stderr",
     "output_type": "stream",
     "text": [
      "I0511 05:58:22.920703 139902602618752 basic_session_run_hooks.py:680] global_step/sec: 1.08622\n"
     ]
    },
    {
     "name": "stdout",
     "output_type": "stream",
     "text": [
      "INFO:tensorflow:loss = 0.427355, step = 200 (92.062 sec)\n"
     ]
    },
    {
     "name": "stderr",
     "output_type": "stream",
     "text": [
      "I0511 05:58:22.923116 139902602618752 basic_session_run_hooks.py:247] loss = 0.427355, step = 200 (92.062 sec)\n"
     ]
    },
    {
     "name": "stdout",
     "output_type": "stream",
     "text": [
      "INFO:tensorflow:global_step/sec: 1.08657\n"
     ]
    },
    {
     "name": "stderr",
     "output_type": "stream",
     "text": [
      "I0511 05:59:54.953788 139902602618752 basic_session_run_hooks.py:680] global_step/sec: 1.08657\n"
     ]
    },
    {
     "name": "stdout",
     "output_type": "stream",
     "text": [
      "INFO:tensorflow:loss = 0.31204033, step = 300 (92.033 sec)\n"
     ]
    },
    {
     "name": "stderr",
     "output_type": "stream",
     "text": [
      "I0511 05:59:54.956182 139902602618752 basic_session_run_hooks.py:247] loss = 0.31204033, step = 300 (92.033 sec)\n"
     ]
    },
    {
     "name": "stdout",
     "output_type": "stream",
     "text": [
      "INFO:tensorflow:global_step/sec: 1.0925\n"
     ]
    },
    {
     "name": "stderr",
     "output_type": "stream",
     "text": [
      "I0511 06:01:26.487153 139902602618752 basic_session_run_hooks.py:680] global_step/sec: 1.0925\n"
     ]
    },
    {
     "name": "stdout",
     "output_type": "stream",
     "text": [
      "INFO:tensorflow:loss = 0.34998053, step = 400 (91.536 sec)\n"
     ]
    },
    {
     "name": "stderr",
     "output_type": "stream",
     "text": [
      "I0511 06:01:26.492375 139902602618752 basic_session_run_hooks.py:247] loss = 0.34998053, step = 400 (91.536 sec)\n"
     ]
    },
    {
     "name": "stdout",
     "output_type": "stream",
     "text": [
      "INFO:tensorflow:Saving checkpoints for 500 into OUTPUT_DIR_NAME/model.ckpt.\n"
     ]
    },
    {
     "name": "stderr",
     "output_type": "stream",
     "text": [
      "I0511 06:02:57.454563 139902602618752 basic_session_run_hooks.py:594] Saving checkpoints for 500 into OUTPUT_DIR_NAME/model.ckpt.\n"
     ]
    },
    {
     "name": "stdout",
     "output_type": "stream",
     "text": [
      "INFO:tensorflow:global_step/sec: 0.970674\n"
     ]
    },
    {
     "name": "stderr",
     "output_type": "stream",
     "text": [
      "I0511 06:03:09.508353 139902602618752 basic_session_run_hooks.py:680] global_step/sec: 0.970674\n"
     ]
    },
    {
     "name": "stdout",
     "output_type": "stream",
     "text": [
      "INFO:tensorflow:loss = 0.27462974, step = 500 (103.020 sec)\n"
     ]
    },
    {
     "name": "stderr",
     "output_type": "stream",
     "text": [
      "I0511 06:03:09.512162 139902602618752 basic_session_run_hooks.py:247] loss = 0.27462974, step = 500 (103.020 sec)\n"
     ]
    },
    {
     "name": "stdout",
     "output_type": "stream",
     "text": [
      "INFO:tensorflow:global_step/sec: 1.08655\n"
     ]
    },
    {
     "name": "stderr",
     "output_type": "stream",
     "text": [
      "I0511 06:04:41.542905 139902602618752 basic_session_run_hooks.py:680] global_step/sec: 1.08655\n"
     ]
    },
    {
     "name": "stdout",
     "output_type": "stream",
     "text": [
      "INFO:tensorflow:loss = 0.10581375, step = 600 (92.034 sec)\n"
     ]
    },
    {
     "name": "stderr",
     "output_type": "stream",
     "text": [
      "I0511 06:04:41.546159 139902602618752 basic_session_run_hooks.py:247] loss = 0.10581375, step = 600 (92.034 sec)\n"
     ]
    },
    {
     "name": "stdout",
     "output_type": "stream",
     "text": [
      "INFO:tensorflow:global_step/sec: 1.08942\n"
     ]
    },
    {
     "name": "stderr",
     "output_type": "stream",
     "text": [
      "I0511 06:06:13.334783 139902602618752 basic_session_run_hooks.py:680] global_step/sec: 1.08942\n"
     ]
    },
    {
     "name": "stdout",
     "output_type": "stream",
     "text": [
      "INFO:tensorflow:loss = 0.33167845, step = 700 (91.795 sec)\n"
     ]
    },
    {
     "name": "stderr",
     "output_type": "stream",
     "text": [
      "I0511 06:06:13.340942 139902602618752 basic_session_run_hooks.py:247] loss = 0.33167845, step = 700 (91.795 sec)\n"
     ]
    },
    {
     "name": "stdout",
     "output_type": "stream",
     "text": [
      "INFO:tensorflow:global_step/sec: 1.09186\n"
     ]
    },
    {
     "name": "stderr",
     "output_type": "stream",
     "text": [
      "I0511 06:07:44.921371 139902602618752 basic_session_run_hooks.py:680] global_step/sec: 1.09186\n"
     ]
    },
    {
     "name": "stdout",
     "output_type": "stream",
     "text": [
      "INFO:tensorflow:loss = 0.24620526, step = 800 (91.583 sec)\n"
     ]
    },
    {
     "name": "stderr",
     "output_type": "stream",
     "text": [
      "I0511 06:07:44.924419 139902602618752 basic_session_run_hooks.py:247] loss = 0.24620526, step = 800 (91.583 sec)\n"
     ]
    },
    {
     "name": "stdout",
     "output_type": "stream",
     "text": [
      "INFO:tensorflow:global_step/sec: 1.09068\n"
     ]
    },
    {
     "name": "stderr",
     "output_type": "stream",
     "text": [
      "I0511 06:09:16.607184 139902602618752 basic_session_run_hooks.py:680] global_step/sec: 1.09068\n"
     ]
    },
    {
     "name": "stdout",
     "output_type": "stream",
     "text": [
      "INFO:tensorflow:loss = 0.21045779, step = 900 (91.685 sec)\n"
     ]
    },
    {
     "name": "stderr",
     "output_type": "stream",
     "text": [
      "I0511 06:09:16.609649 139902602618752 basic_session_run_hooks.py:247] loss = 0.21045779, step = 900 (91.685 sec)\n"
     ]
    },
    {
     "name": "stdout",
     "output_type": "stream",
     "text": [
      "INFO:tensorflow:Saving checkpoints for 1000 into OUTPUT_DIR_NAME/model.ckpt.\n"
     ]
    },
    {
     "name": "stderr",
     "output_type": "stream",
     "text": [
      "I0511 06:10:47.406063 139902602618752 basic_session_run_hooks.py:594] Saving checkpoints for 1000 into OUTPUT_DIR_NAME/model.ckpt.\n"
     ]
    },
    {
     "name": "stdout",
     "output_type": "stream",
     "text": [
      "INFO:tensorflow:global_step/sec: 0.97099\n"
     ]
    },
    {
     "name": "stderr",
     "output_type": "stream",
     "text": [
      "I0511 06:10:59.594879 139902602618752 basic_session_run_hooks.py:680] global_step/sec: 0.97099\n"
     ]
    },
    {
     "name": "stdout",
     "output_type": "stream",
     "text": [
      "INFO:tensorflow:loss = 0.25220686, step = 1000 (102.991 sec)\n"
     ]
    },
    {
     "name": "stderr",
     "output_type": "stream",
     "text": [
      "I0511 06:10:59.601109 139902602618752 basic_session_run_hooks.py:247] loss = 0.25220686, step = 1000 (102.991 sec)\n"
     ]
    },
    {
     "name": "stdout",
     "output_type": "stream",
     "text": [
      "INFO:tensorflow:global_step/sec: 1.08496\n"
     ]
    },
    {
     "name": "stderr",
     "output_type": "stream",
     "text": [
      "I0511 06:12:31.764109 139902602618752 basic_session_run_hooks.py:680] global_step/sec: 1.08496\n"
     ]
    },
    {
     "name": "stdout",
     "output_type": "stream",
     "text": [
      "INFO:tensorflow:loss = 0.28872433, step = 1100 (92.169 sec)\n"
     ]
    },
    {
     "name": "stderr",
     "output_type": "stream",
     "text": [
      "I0511 06:12:31.770039 139902602618752 basic_session_run_hooks.py:247] loss = 0.28872433, step = 1100 (92.169 sec)\n"
     ]
    },
    {
     "name": "stdout",
     "output_type": "stream",
     "text": [
      "INFO:tensorflow:global_step/sec: 1.09175\n"
     ]
    },
    {
     "name": "stderr",
     "output_type": "stream",
     "text": [
      "I0511 06:14:03.360210 139902602618752 basic_session_run_hooks.py:680] global_step/sec: 1.09175\n"
     ]
    },
    {
     "name": "stdout",
     "output_type": "stream",
     "text": [
      "INFO:tensorflow:loss = 0.25215057, step = 1200 (91.598 sec)\n"
     ]
    },
    {
     "name": "stderr",
     "output_type": "stream",
     "text": [
      "I0511 06:14:03.367547 139902602618752 basic_session_run_hooks.py:247] loss = 0.25215057, step = 1200 (91.598 sec)\n"
     ]
    },
    {
     "name": "stdout",
     "output_type": "stream",
     "text": [
      "INFO:tensorflow:global_step/sec: 1.09403\n"
     ]
    },
    {
     "name": "stderr",
     "output_type": "stream",
     "text": [
      "I0511 06:15:34.765471 139902602618752 basic_session_run_hooks.py:680] global_step/sec: 1.09403\n"
     ]
    },
    {
     "name": "stdout",
     "output_type": "stream",
     "text": [
      "INFO:tensorflow:loss = 0.26516557, step = 1300 (91.404 sec)\n"
     ]
    },
    {
     "name": "stderr",
     "output_type": "stream",
     "text": [
      "I0511 06:15:34.771399 139902602618752 basic_session_run_hooks.py:247] loss = 0.26516557, step = 1300 (91.404 sec)\n"
     ]
    },
    {
     "name": "stdout",
     "output_type": "stream",
     "text": [
      "INFO:tensorflow:global_step/sec: 1.09024\n"
     ]
    },
    {
     "name": "stderr",
     "output_type": "stream",
     "text": [
      "I0511 06:17:06.488630 139902602618752 basic_session_run_hooks.py:680] global_step/sec: 1.09024\n"
     ]
    },
    {
     "name": "stdout",
     "output_type": "stream",
     "text": [
      "INFO:tensorflow:loss = 0.13843635, step = 1400 (91.720 sec)\n"
     ]
    },
    {
     "name": "stderr",
     "output_type": "stream",
     "text": [
      "I0511 06:17:06.490992 139902602618752 basic_session_run_hooks.py:247] loss = 0.13843635, step = 1400 (91.720 sec)\n"
     ]
    },
    {
     "name": "stdout",
     "output_type": "stream",
     "text": [
      "INFO:tensorflow:Saving checkpoints for 1500 into OUTPUT_DIR_NAME/model.ckpt.\n"
     ]
    },
    {
     "name": "stderr",
     "output_type": "stream",
     "text": [
      "I0511 06:18:37.251393 139902602618752 basic_session_run_hooks.py:594] Saving checkpoints for 1500 into OUTPUT_DIR_NAME/model.ckpt.\n"
     ]
    },
    {
     "name": "stdout",
     "output_type": "stream",
     "text": [
      "INFO:tensorflow:global_step/sec: 0.973956\n"
     ]
    },
    {
     "name": "stderr",
     "output_type": "stream",
     "text": [
      "I0511 06:18:49.162639 139902602618752 basic_session_run_hooks.py:680] global_step/sec: 0.973956\n"
     ]
    },
    {
     "name": "stdout",
     "output_type": "stream",
     "text": [
      "INFO:tensorflow:loss = 0.1620991, step = 1500 (102.678 sec)\n"
     ]
    },
    {
     "name": "stderr",
     "output_type": "stream",
     "text": [
      "I0511 06:18:49.168850 139902602618752 basic_session_run_hooks.py:247] loss = 0.1620991, step = 1500 (102.678 sec)\n"
     ]
    },
    {
     "name": "stdout",
     "output_type": "stream",
     "text": [
      "INFO:tensorflow:global_step/sec: 1.08659\n"
     ]
    },
    {
     "name": "stderr",
     "output_type": "stream",
     "text": [
      "I0511 06:20:21.193637 139902602618752 basic_session_run_hooks.py:680] global_step/sec: 1.08659\n"
     ]
    },
    {
     "name": "stdout",
     "output_type": "stream",
     "text": [
      "INFO:tensorflow:loss = 0.2195737, step = 1600 (92.031 sec)\n"
     ]
    },
    {
     "name": "stderr",
     "output_type": "stream",
     "text": [
      "I0511 06:20:21.199359 139902602618752 basic_session_run_hooks.py:247] loss = 0.2195737, step = 1600 (92.031 sec)\n"
     ]
    },
    {
     "name": "stdout",
     "output_type": "stream",
     "text": [
      "INFO:tensorflow:global_step/sec: 1.0903\n"
     ]
    },
    {
     "name": "stderr",
     "output_type": "stream",
     "text": [
      "I0511 06:21:52.911487 139902602618752 basic_session_run_hooks.py:680] global_step/sec: 1.0903\n"
     ]
    },
    {
     "name": "stdout",
     "output_type": "stream",
     "text": [
      "INFO:tensorflow:loss = 0.1333035, step = 1700 (91.723 sec)\n"
     ]
    },
    {
     "name": "stderr",
     "output_type": "stream",
     "text": [
      "I0511 06:21:52.922652 139902602618752 basic_session_run_hooks.py:247] loss = 0.1333035, step = 1700 (91.723 sec)\n"
     ]
    },
    {
     "name": "stdout",
     "output_type": "stream",
     "text": [
      "INFO:tensorflow:global_step/sec: 1.09442\n"
     ]
    },
    {
     "name": "stderr",
     "output_type": "stream",
     "text": [
      "I0511 06:23:24.283832 139902602618752 basic_session_run_hooks.py:680] global_step/sec: 1.09442\n"
     ]
    },
    {
     "name": "stdout",
     "output_type": "stream",
     "text": [
      "INFO:tensorflow:loss = 0.19127396, step = 1800 (91.368 sec)\n"
     ]
    },
    {
     "name": "stderr",
     "output_type": "stream",
     "text": [
      "I0511 06:23:24.290966 139902602618752 basic_session_run_hooks.py:247] loss = 0.19127396, step = 1800 (91.368 sec)\n"
     ]
    },
    {
     "name": "stdout",
     "output_type": "stream",
     "text": [
      "INFO:tensorflow:global_step/sec: 1.09158\n"
     ]
    },
    {
     "name": "stderr",
     "output_type": "stream",
     "text": [
      "I0511 06:24:55.894110 139902602618752 basic_session_run_hooks.py:680] global_step/sec: 1.09158\n"
     ]
    },
    {
     "name": "stdout",
     "output_type": "stream",
     "text": [
      "INFO:tensorflow:loss = 0.32230324, step = 1900 (91.608 sec)\n"
     ]
    },
    {
     "name": "stderr",
     "output_type": "stream",
     "text": [
      "I0511 06:24:55.898702 139902602618752 basic_session_run_hooks.py:247] loss = 0.32230324, step = 1900 (91.608 sec)\n"
     ]
    },
    {
     "name": "stdout",
     "output_type": "stream",
     "text": [
      "INFO:tensorflow:Saving checkpoints for 2000 into OUTPUT_DIR_NAME/model.ckpt.\n"
     ]
    },
    {
     "name": "stderr",
     "output_type": "stream",
     "text": [
      "I0511 06:26:26.579200 139902602618752 basic_session_run_hooks.py:594] Saving checkpoints for 2000 into OUTPUT_DIR_NAME/model.ckpt.\n"
     ]
    },
    {
     "name": "stdout",
     "output_type": "stream",
     "text": [
      "INFO:tensorflow:global_step/sec: 0.965215\n"
     ]
    },
    {
     "name": "stderr",
     "output_type": "stream",
     "text": [
      "I0511 06:26:39.497877 139902602618752 basic_session_run_hooks.py:680] global_step/sec: 0.965215\n"
     ]
    },
    {
     "name": "stdout",
     "output_type": "stream",
     "text": [
      "INFO:tensorflow:loss = 0.22703192, step = 2000 (103.603 sec)\n"
     ]
    },
    {
     "name": "stderr",
     "output_type": "stream",
     "text": [
      "I0511 06:26:39.502191 139902602618752 basic_session_run_hooks.py:247] loss = 0.22703192, step = 2000 (103.603 sec)\n"
     ]
    },
    {
     "name": "stdout",
     "output_type": "stream",
     "text": [
      "INFO:tensorflow:global_step/sec: 1.08574\n"
     ]
    },
    {
     "name": "stderr",
     "output_type": "stream",
     "text": [
      "I0511 06:28:11.600833 139902602618752 basic_session_run_hooks.py:680] global_step/sec: 1.08574\n"
     ]
    },
    {
     "name": "stdout",
     "output_type": "stream",
     "text": [
      "INFO:tensorflow:loss = 0.074624225, step = 2100 (92.104 sec)\n"
     ]
    },
    {
     "name": "stderr",
     "output_type": "stream",
     "text": [
      "I0511 06:28:11.606561 139902602618752 basic_session_run_hooks.py:247] loss = 0.074624225, step = 2100 (92.104 sec)\n"
     ]
    },
    {
     "name": "stdout",
     "output_type": "stream",
     "text": [
      "INFO:tensorflow:global_step/sec: 1.09127\n"
     ]
    },
    {
     "name": "stderr",
     "output_type": "stream",
     "text": [
      "I0511 06:29:43.237148 139902602618752 basic_session_run_hooks.py:680] global_step/sec: 1.09127\n"
     ]
    },
    {
     "name": "stdout",
     "output_type": "stream",
     "text": [
      "INFO:tensorflow:loss = 0.20309651, step = 2200 (91.633 sec)\n"
     ]
    },
    {
     "name": "stderr",
     "output_type": "stream",
     "text": [
      "I0511 06:29:43.239547 139902602618752 basic_session_run_hooks.py:247] loss = 0.20309651, step = 2200 (91.633 sec)\n"
     ]
    },
    {
     "name": "stdout",
     "output_type": "stream",
     "text": [
      "INFO:tensorflow:global_step/sec: 1.09103\n"
     ]
    },
    {
     "name": "stderr",
     "output_type": "stream",
     "text": [
      "I0511 06:31:14.893520 139902602618752 basic_session_run_hooks.py:680] global_step/sec: 1.09103\n"
     ]
    },
    {
     "name": "stdout",
     "output_type": "stream",
     "text": [
      "INFO:tensorflow:loss = 0.22309712, step = 2300 (91.658 sec)\n"
     ]
    },
    {
     "name": "stderr",
     "output_type": "stream",
     "text": [
      "I0511 06:31:14.897194 139902602618752 basic_session_run_hooks.py:247] loss = 0.22309712, step = 2300 (91.658 sec)\n"
     ]
    },
    {
     "name": "stdout",
     "output_type": "stream",
     "text": [
      "INFO:tensorflow:global_step/sec: 1.09044\n"
     ]
    },
    {
     "name": "stderr",
     "output_type": "stream",
     "text": [
      "I0511 06:32:46.599686 139902602618752 basic_session_run_hooks.py:680] global_step/sec: 1.09044\n"
     ]
    },
    {
     "name": "stdout",
     "output_type": "stream",
     "text": [
      "INFO:tensorflow:loss = 0.12337451, step = 2400 (91.709 sec)\n"
     ]
    },
    {
     "name": "stderr",
     "output_type": "stream",
     "text": [
      "I0511 06:32:46.606452 139902602618752 basic_session_run_hooks.py:247] loss = 0.12337451, step = 2400 (91.709 sec)\n"
     ]
    },
    {
     "name": "stdout",
     "output_type": "stream",
     "text": [
      "INFO:tensorflow:Saving checkpoints for 2500 into OUTPUT_DIR_NAME/model.ckpt.\n"
     ]
    },
    {
     "name": "stderr",
     "output_type": "stream",
     "text": [
      "I0511 06:34:17.436024 139902602618752 basic_session_run_hooks.py:594] Saving checkpoints for 2500 into OUTPUT_DIR_NAME/model.ckpt.\n"
     ]
    },
    {
     "name": "stdout",
     "output_type": "stream",
     "text": [
      "WARNING:tensorflow:From /usr/local/lib/python3.6/dist-packages/tensorflow/python/training/saver.py:966: remove_checkpoint (from tensorflow.python.training.checkpoint_management) is deprecated and will be removed in a future version.\n",
      "Instructions for updating:\n",
      "Use standard file APIs to delete files with this prefix.\n"
     ]
    },
    {
     "name": "stderr",
     "output_type": "stream",
     "text": [
      "W0511 06:34:25.569916 139902602618752 deprecation.py:323] From /usr/local/lib/python3.6/dist-packages/tensorflow/python/training/saver.py:966: remove_checkpoint (from tensorflow.python.training.checkpoint_management) is deprecated and will be removed in a future version.\n",
      "Instructions for updating:\n",
      "Use standard file APIs to delete files with this prefix.\n"
     ]
    },
    {
     "name": "stdout",
     "output_type": "stream",
     "text": [
      "INFO:tensorflow:global_step/sec: 0.966647\n"
     ]
    },
    {
     "name": "stderr",
     "output_type": "stream",
     "text": [
      "I0511 06:34:30.050108 139902602618752 basic_session_run_hooks.py:680] global_step/sec: 0.966647\n"
     ]
    },
    {
     "name": "stdout",
     "output_type": "stream",
     "text": [
      "INFO:tensorflow:loss = 0.08006188, step = 2500 (103.448 sec)\n"
     ]
    },
    {
     "name": "stderr",
     "output_type": "stream",
     "text": [
      "I0511 06:34:30.054716 139902602618752 basic_session_run_hooks.py:247] loss = 0.08006188, step = 2500 (103.448 sec)\n"
     ]
    },
    {
     "name": "stdout",
     "output_type": "stream",
     "text": [
      "INFO:tensorflow:global_step/sec: 1.08727\n"
     ]
    },
    {
     "name": "stderr",
     "output_type": "stream",
     "text": [
      "I0511 06:36:02.023482 139902602618752 basic_session_run_hooks.py:680] global_step/sec: 1.08727\n"
     ]
    },
    {
     "name": "stdout",
     "output_type": "stream",
     "text": [
      "INFO:tensorflow:loss = 0.3500811, step = 2600 (91.974 sec)\n"
     ]
    },
    {
     "name": "stderr",
     "output_type": "stream",
     "text": [
      "I0511 06:36:02.028933 139902602618752 basic_session_run_hooks.py:247] loss = 0.3500811, step = 2600 (91.974 sec)\n"
     ]
    },
    {
     "name": "stdout",
     "output_type": "stream",
     "text": [
      "INFO:tensorflow:global_step/sec: 1.09129\n"
     ]
    },
    {
     "name": "stderr",
     "output_type": "stream",
     "text": [
      "I0511 06:37:33.657840 139902602618752 basic_session_run_hooks.py:680] global_step/sec: 1.09129\n"
     ]
    },
    {
     "name": "stdout",
     "output_type": "stream",
     "text": [
      "INFO:tensorflow:loss = 0.12313472, step = 2700 (91.634 sec)\n"
     ]
    },
    {
     "name": "stderr",
     "output_type": "stream",
     "text": [
      "I0511 06:37:33.663305 139902602618752 basic_session_run_hooks.py:247] loss = 0.12313472, step = 2700 (91.634 sec)\n"
     ]
    },
    {
     "name": "stdout",
     "output_type": "stream",
     "text": [
      "INFO:tensorflow:global_step/sec: 1.09385\n"
     ]
    },
    {
     "name": "stderr",
     "output_type": "stream",
     "text": [
      "I0511 06:39:05.077882 139902602618752 basic_session_run_hooks.py:680] global_step/sec: 1.09385\n"
     ]
    },
    {
     "name": "stdout",
     "output_type": "stream",
     "text": [
      "INFO:tensorflow:loss = 0.36888018, step = 2800 (91.417 sec)\n"
     ]
    },
    {
     "name": "stderr",
     "output_type": "stream",
     "text": [
      "I0511 06:39:05.080102 139902602618752 basic_session_run_hooks.py:247] loss = 0.36888018, step = 2800 (91.417 sec)\n"
     ]
    },
    {
     "name": "stdout",
     "output_type": "stream",
     "text": [
      "INFO:tensorflow:global_step/sec: 1.0908\n"
     ]
    },
    {
     "name": "stderr",
     "output_type": "stream",
     "text": [
      "I0511 06:40:36.753715 139902602618752 basic_session_run_hooks.py:680] global_step/sec: 1.0908\n"
     ]
    },
    {
     "name": "stdout",
     "output_type": "stream",
     "text": [
      "INFO:tensorflow:loss = 0.3086993, step = 2900 (91.680 sec)\n"
     ]
    },
    {
     "name": "stderr",
     "output_type": "stream",
     "text": [
      "I0511 06:40:36.760138 139902602618752 basic_session_run_hooks.py:247] loss = 0.3086993, step = 2900 (91.680 sec)\n"
     ]
    },
    {
     "name": "stdout",
     "output_type": "stream",
     "text": [
      "INFO:tensorflow:Saving checkpoints for 3000 into OUTPUT_DIR_NAME/model.ckpt.\n"
     ]
    },
    {
     "name": "stderr",
     "output_type": "stream",
     "text": [
      "I0511 06:42:07.523711 139902602618752 basic_session_run_hooks.py:594] Saving checkpoints for 3000 into OUTPUT_DIR_NAME/model.ckpt.\n"
     ]
    },
    {
     "name": "stdout",
     "output_type": "stream",
     "text": [
      "INFO:tensorflow:global_step/sec: 0.970019\n"
     ]
    },
    {
     "name": "stderr",
     "output_type": "stream",
     "text": [
      "I0511 06:42:19.844478 139902602618752 basic_session_run_hooks.py:680] global_step/sec: 0.970019\n"
     ]
    },
    {
     "name": "stdout",
     "output_type": "stream",
     "text": [
      "INFO:tensorflow:loss = 0.36277846, step = 3000 (103.088 sec)\n"
     ]
    },
    {
     "name": "stderr",
     "output_type": "stream",
     "text": [
      "I0511 06:42:19.848453 139902602618752 basic_session_run_hooks.py:247] loss = 0.36277846, step = 3000 (103.088 sec)\n"
     ]
    },
    {
     "name": "stdout",
     "output_type": "stream",
     "text": [
      "INFO:tensorflow:global_step/sec: 1.08625\n"
     ]
    },
    {
     "name": "stderr",
     "output_type": "stream",
     "text": [
      "I0511 06:43:51.904178 139902602618752 basic_session_run_hooks.py:680] global_step/sec: 1.08625\n"
     ]
    },
    {
     "name": "stdout",
     "output_type": "stream",
     "text": [
      "INFO:tensorflow:loss = 0.34422165, step = 3100 (92.059 sec)\n"
     ]
    },
    {
     "name": "stderr",
     "output_type": "stream",
     "text": [
      "I0511 06:43:51.907597 139902602618752 basic_session_run_hooks.py:247] loss = 0.34422165, step = 3100 (92.059 sec)\n"
     ]
    },
    {
     "name": "stdout",
     "output_type": "stream",
     "text": [
      "INFO:tensorflow:global_step/sec: 1.08962\n"
     ]
    },
    {
     "name": "stderr",
     "output_type": "stream",
     "text": [
      "I0511 06:45:23.679145 139902602618752 basic_session_run_hooks.py:680] global_step/sec: 1.08962\n"
     ]
    },
    {
     "name": "stdout",
     "output_type": "stream",
     "text": [
      "INFO:tensorflow:loss = 0.1517093, step = 3200 (91.778 sec)\n"
     ]
    },
    {
     "name": "stderr",
     "output_type": "stream",
     "text": [
      "I0511 06:45:23.686424 139902602618752 basic_session_run_hooks.py:247] loss = 0.1517093, step = 3200 (91.778 sec)\n"
     ]
    },
    {
     "name": "stdout",
     "output_type": "stream",
     "text": [
      "INFO:tensorflow:global_step/sec: 1.0936\n"
     ]
    },
    {
     "name": "stderr",
     "output_type": "stream",
     "text": [
      "I0511 06:46:55.120433 139902602618752 basic_session_run_hooks.py:680] global_step/sec: 1.0936\n"
     ]
    },
    {
     "name": "stdout",
     "output_type": "stream",
     "text": [
      "INFO:tensorflow:loss = 0.11784127, step = 3300 (91.439 sec)\n"
     ]
    },
    {
     "name": "stderr",
     "output_type": "stream",
     "text": [
      "I0511 06:46:55.125401 139902602618752 basic_session_run_hooks.py:247] loss = 0.11784127, step = 3300 (91.439 sec)\n"
     ]
    },
    {
     "name": "stdout",
     "output_type": "stream",
     "text": [
      "INFO:tensorflow:global_step/sec: 1.09299\n"
     ]
    },
    {
     "name": "stderr",
     "output_type": "stream",
     "text": [
      "I0511 06:48:26.612825 139902602618752 basic_session_run_hooks.py:680] global_step/sec: 1.09299\n"
     ]
    },
    {
     "name": "stdout",
     "output_type": "stream",
     "text": [
      "INFO:tensorflow:loss = 0.036774904, step = 3400 (91.494 sec)\n"
     ]
    },
    {
     "name": "stderr",
     "output_type": "stream",
     "text": [
      "I0511 06:48:26.619157 139902602618752 basic_session_run_hooks.py:247] loss = 0.036774904, step = 3400 (91.494 sec)\n"
     ]
    },
    {
     "name": "stdout",
     "output_type": "stream",
     "text": [
      "INFO:tensorflow:Saving checkpoints for 3500 into OUTPUT_DIR_NAME/model.ckpt.\n"
     ]
    },
    {
     "name": "stderr",
     "output_type": "stream",
     "text": [
      "I0511 06:49:57.066343 139902602618752 basic_session_run_hooks.py:594] Saving checkpoints for 3500 into OUTPUT_DIR_NAME/model.ckpt.\n"
     ]
    },
    {
     "name": "stdout",
     "output_type": "stream",
     "text": [
      "INFO:tensorflow:global_step/sec: 0.973478\n"
     ]
    },
    {
     "name": "stderr",
     "output_type": "stream",
     "text": [
      "I0511 06:50:09.337242 139902602618752 basic_session_run_hooks.py:680] global_step/sec: 0.973478\n"
     ]
    },
    {
     "name": "stdout",
     "output_type": "stream",
     "text": [
      "INFO:tensorflow:loss = 0.35383016, step = 3500 (102.722 sec)\n"
     ]
    },
    {
     "name": "stderr",
     "output_type": "stream",
     "text": [
      "I0511 06:50:09.341432 139902602618752 basic_session_run_hooks.py:247] loss = 0.35383016, step = 3500 (102.722 sec)\n"
     ]
    },
    {
     "name": "stdout",
     "output_type": "stream",
     "text": [
      "INFO:tensorflow:global_step/sec: 1.08579\n"
     ]
    },
    {
     "name": "stderr",
     "output_type": "stream",
     "text": [
      "I0511 06:51:41.435914 139902602618752 basic_session_run_hooks.py:680] global_step/sec: 1.08579\n"
     ]
    },
    {
     "name": "stdout",
     "output_type": "stream",
     "text": [
      "INFO:tensorflow:loss = 0.20585394, step = 3600 (92.102 sec)\n"
     ]
    },
    {
     "name": "stderr",
     "output_type": "stream",
     "text": [
      "I0511 06:51:41.443370 139902602618752 basic_session_run_hooks.py:247] loss = 0.20585394, step = 3600 (92.102 sec)\n"
     ]
    },
    {
     "name": "stdout",
     "output_type": "stream",
     "text": [
      "INFO:tensorflow:global_step/sec: 1.09016\n"
     ]
    },
    {
     "name": "stderr",
     "output_type": "stream",
     "text": [
      "I0511 06:53:13.165286 139902602618752 basic_session_run_hooks.py:680] global_step/sec: 1.09016\n"
     ]
    },
    {
     "name": "stdout",
     "output_type": "stream",
     "text": [
      "INFO:tensorflow:loss = 0.5226908, step = 3700 (91.728 sec)\n"
     ]
    },
    {
     "name": "stderr",
     "output_type": "stream",
     "text": [
      "I0511 06:53:13.171750 139902602618752 basic_session_run_hooks.py:247] loss = 0.5226908, step = 3700 (91.728 sec)\n"
     ]
    },
    {
     "name": "stdout",
     "output_type": "stream",
     "text": [
      "INFO:tensorflow:global_step/sec: 1.09062\n"
     ]
    },
    {
     "name": "stderr",
     "output_type": "stream",
     "text": [
      "I0511 06:54:44.856296 139902602618752 basic_session_run_hooks.py:680] global_step/sec: 1.09062\n"
     ]
    },
    {
     "name": "stdout",
     "output_type": "stream",
     "text": [
      "INFO:tensorflow:loss = 0.21662384, step = 3800 (91.687 sec)\n"
     ]
    },
    {
     "name": "stderr",
     "output_type": "stream",
     "text": [
      "I0511 06:54:44.858620 139902602618752 basic_session_run_hooks.py:247] loss = 0.21662384, step = 3800 (91.687 sec)\n"
     ]
    },
    {
     "name": "stdout",
     "output_type": "stream",
     "text": [
      "INFO:tensorflow:global_step/sec: 1.08955\n"
     ]
    },
    {
     "name": "stderr",
     "output_type": "stream",
     "text": [
      "I0511 06:56:16.637147 139902602618752 basic_session_run_hooks.py:680] global_step/sec: 1.08955\n"
     ]
    },
    {
     "name": "stdout",
     "output_type": "stream",
     "text": [
      "INFO:tensorflow:loss = 0.13748676, step = 3900 (91.781 sec)\n"
     ]
    },
    {
     "name": "stderr",
     "output_type": "stream",
     "text": [
      "I0511 06:56:16.639269 139902602618752 basic_session_run_hooks.py:247] loss = 0.13748676, step = 3900 (91.781 sec)\n"
     ]
    },
    {
     "name": "stdout",
     "output_type": "stream",
     "text": [
      "INFO:tensorflow:Saving checkpoints for 4000 into OUTPUT_DIR_NAME/model.ckpt.\n"
     ]
    },
    {
     "name": "stderr",
     "output_type": "stream",
     "text": [
      "I0511 06:57:47.073635 139902602618752 basic_session_run_hooks.py:594] Saving checkpoints for 4000 into OUTPUT_DIR_NAME/model.ckpt.\n"
     ]
    },
    {
     "name": "stdout",
     "output_type": "stream",
     "text": [
      "INFO:tensorflow:global_step/sec: 0.97695\n"
     ]
    },
    {
     "name": "stderr",
     "output_type": "stream",
     "text": [
      "I0511 06:57:58.996531 139902602618752 basic_session_run_hooks.py:680] global_step/sec: 0.97695\n"
     ]
    },
    {
     "name": "stdout",
     "output_type": "stream",
     "text": [
      "INFO:tensorflow:loss = 0.06626481, step = 4000 (102.364 sec)\n"
     ]
    },
    {
     "name": "stderr",
     "output_type": "stream",
     "text": [
      "I0511 06:57:59.003368 139902602618752 basic_session_run_hooks.py:247] loss = 0.06626481, step = 4000 (102.364 sec)\n"
     ]
    },
    {
     "name": "stdout",
     "output_type": "stream",
     "text": [
      "INFO:tensorflow:global_step/sec: 1.08645\n"
     ]
    },
    {
     "name": "stderr",
     "output_type": "stream",
     "text": [
      "I0511 06:59:31.039406 139902602618752 basic_session_run_hooks.py:680] global_step/sec: 1.08645\n"
     ]
    },
    {
     "name": "stdout",
     "output_type": "stream",
     "text": [
      "INFO:tensorflow:loss = 0.28856727, step = 4100 (92.039 sec)\n"
     ]
    },
    {
     "name": "stderr",
     "output_type": "stream",
     "text": [
      "I0511 06:59:31.042371 139902602618752 basic_session_run_hooks.py:247] loss = 0.28856727, step = 4100 (92.039 sec)\n"
     ]
    },
    {
     "name": "stdout",
     "output_type": "stream",
     "text": [
      "INFO:tensorflow:global_step/sec: 1.0925\n"
     ]
    },
    {
     "name": "stderr",
     "output_type": "stream",
     "text": [
      "I0511 07:01:02.572959 139902602618752 basic_session_run_hooks.py:680] global_step/sec: 1.0925\n"
     ]
    },
    {
     "name": "stdout",
     "output_type": "stream",
     "text": [
      "INFO:tensorflow:loss = 0.25056583, step = 4200 (91.533 sec)\n"
     ]
    },
    {
     "name": "stderr",
     "output_type": "stream",
     "text": [
      "I0511 07:01:02.575533 139902602618752 basic_session_run_hooks.py:247] loss = 0.25056583, step = 4200 (91.533 sec)\n"
     ]
    },
    {
     "name": "stdout",
     "output_type": "stream",
     "text": [
      "INFO:tensorflow:global_step/sec: 1.09291\n"
     ]
    },
    {
     "name": "stderr",
     "output_type": "stream",
     "text": [
      "I0511 07:02:34.071968 139902602618752 basic_session_run_hooks.py:680] global_step/sec: 1.09291\n"
     ]
    },
    {
     "name": "stdout",
     "output_type": "stream",
     "text": [
      "INFO:tensorflow:loss = 0.1465791, step = 4300 (91.501 sec)\n"
     ]
    },
    {
     "name": "stderr",
     "output_type": "stream",
     "text": [
      "I0511 07:02:34.077465 139902602618752 basic_session_run_hooks.py:247] loss = 0.1465791, step = 4300 (91.501 sec)\n"
     ]
    },
    {
     "name": "stdout",
     "output_type": "stream",
     "text": [
      "INFO:tensorflow:global_step/sec: 1.08938\n"
     ]
    },
    {
     "name": "stderr",
     "output_type": "stream",
     "text": [
      "I0511 07:04:05.867472 139902602618752 basic_session_run_hooks.py:680] global_step/sec: 1.08938\n"
     ]
    },
    {
     "name": "stdout",
     "output_type": "stream",
     "text": [
      "INFO:tensorflow:loss = 0.116435066, step = 4400 (91.793 sec)\n"
     ]
    },
    {
     "name": "stderr",
     "output_type": "stream",
     "text": [
      "I0511 07:04:05.869756 139902602618752 basic_session_run_hooks.py:247] loss = 0.116435066, step = 4400 (91.793 sec)\n"
     ]
    },
    {
     "name": "stdout",
     "output_type": "stream",
     "text": [
      "INFO:tensorflow:Saving checkpoints for 4500 into OUTPUT_DIR_NAME/model.ckpt.\n"
     ]
    },
    {
     "name": "stderr",
     "output_type": "stream",
     "text": [
      "I0511 07:05:36.783658 139902602618752 basic_session_run_hooks.py:594] Saving checkpoints for 4500 into OUTPUT_DIR_NAME/model.ckpt.\n"
     ]
    },
    {
     "name": "stdout",
     "output_type": "stream",
     "text": [
      "INFO:tensorflow:global_step/sec: 0.966598\n"
     ]
    },
    {
     "name": "stderr",
     "output_type": "stream",
     "text": [
      "I0511 07:05:49.323100 139902602618752 basic_session_run_hooks.py:680] global_step/sec: 0.966598\n"
     ]
    },
    {
     "name": "stdout",
     "output_type": "stream",
     "text": [
      "INFO:tensorflow:loss = 0.09172863, step = 4500 (103.455 sec)\n"
     ]
    },
    {
     "name": "stderr",
     "output_type": "stream",
     "text": [
      "I0511 07:05:49.325140 139902602618752 basic_session_run_hooks.py:247] loss = 0.09172863, step = 4500 (103.455 sec)\n"
     ]
    },
    {
     "name": "stdout",
     "output_type": "stream",
     "text": [
      "INFO:tensorflow:global_step/sec: 1.08755\n"
     ]
    },
    {
     "name": "stderr",
     "output_type": "stream",
     "text": [
      "I0511 07:07:21.272530 139902602618752 basic_session_run_hooks.py:680] global_step/sec: 1.08755\n"
     ]
    },
    {
     "name": "stdout",
     "output_type": "stream",
     "text": [
      "INFO:tensorflow:loss = 0.2114494, step = 4600 (91.951 sec)\n"
     ]
    },
    {
     "name": "stderr",
     "output_type": "stream",
     "text": [
      "I0511 07:07:21.276112 139902602618752 basic_session_run_hooks.py:247] loss = 0.2114494, step = 4600 (91.951 sec)\n"
     ]
    },
    {
     "name": "stdout",
     "output_type": "stream",
     "text": [
      "INFO:tensorflow:global_step/sec: 1.09172\n"
     ]
    },
    {
     "name": "stderr",
     "output_type": "stream",
     "text": [
      "I0511 07:08:52.870866 139902602618752 basic_session_run_hooks.py:680] global_step/sec: 1.09172\n"
     ]
    },
    {
     "name": "stdout",
     "output_type": "stream",
     "text": [
      "INFO:tensorflow:loss = 0.12622009, step = 4700 (91.601 sec)\n"
     ]
    },
    {
     "name": "stderr",
     "output_type": "stream",
     "text": [
      "I0511 07:08:52.876979 139902602618752 basic_session_run_hooks.py:247] loss = 0.12622009, step = 4700 (91.601 sec)\n"
     ]
    },
    {
     "name": "stdout",
     "output_type": "stream",
     "text": [
      "INFO:tensorflow:global_step/sec: 1.09556\n"
     ]
    },
    {
     "name": "stderr",
     "output_type": "stream",
     "text": [
      "I0511 07:10:24.147963 139902602618752 basic_session_run_hooks.py:680] global_step/sec: 1.09556\n"
     ]
    },
    {
     "name": "stdout",
     "output_type": "stream",
     "text": [
      "INFO:tensorflow:loss = 0.17341335, step = 4800 (91.281 sec)\n"
     ]
    },
    {
     "name": "stderr",
     "output_type": "stream",
     "text": [
      "I0511 07:10:24.158342 139902602618752 basic_session_run_hooks.py:247] loss = 0.17341335, step = 4800 (91.281 sec)\n"
     ]
    },
    {
     "name": "stdout",
     "output_type": "stream",
     "text": [
      "INFO:tensorflow:global_step/sec: 1.09195\n"
     ]
    },
    {
     "name": "stderr",
     "output_type": "stream",
     "text": [
      "I0511 07:11:55.727564 139902602618752 basic_session_run_hooks.py:680] global_step/sec: 1.09195\n"
     ]
    },
    {
     "name": "stdout",
     "output_type": "stream",
     "text": [
      "INFO:tensorflow:loss = 0.1385401, step = 4900 (91.574 sec)\n"
     ]
    },
    {
     "name": "stderr",
     "output_type": "stream",
     "text": [
      "I0511 07:11:55.732738 139902602618752 basic_session_run_hooks.py:247] loss = 0.1385401, step = 4900 (91.574 sec)\n"
     ]
    },
    {
     "name": "stdout",
     "output_type": "stream",
     "text": [
      "INFO:tensorflow:Saving checkpoints for 5000 into OUTPUT_DIR_NAME/model.ckpt.\n"
     ]
    },
    {
     "name": "stderr",
     "output_type": "stream",
     "text": [
      "I0511 07:13:26.440370 139902602618752 basic_session_run_hooks.py:594] Saving checkpoints for 5000 into OUTPUT_DIR_NAME/model.ckpt.\n"
     ]
    },
    {
     "name": "stdout",
     "output_type": "stream",
     "text": [
      "INFO:tensorflow:global_step/sec: 0.965497\n"
     ]
    },
    {
     "name": "stderr",
     "output_type": "stream",
     "text": [
      "I0511 07:13:39.301177 139902602618752 basic_session_run_hooks.py:680] global_step/sec: 0.965497\n"
     ]
    },
    {
     "name": "stdout",
     "output_type": "stream",
     "text": [
      "INFO:tensorflow:loss = 0.29891944, step = 5000 (103.571 sec)\n"
     ]
    },
    {
     "name": "stderr",
     "output_type": "stream",
     "text": [
      "I0511 07:13:39.303249 139902602618752 basic_session_run_hooks.py:247] loss = 0.29891944, step = 5000 (103.571 sec)\n"
     ]
    },
    {
     "name": "stdout",
     "output_type": "stream",
     "text": [
      "INFO:tensorflow:global_step/sec: 1.08775\n"
     ]
    },
    {
     "name": "stderr",
     "output_type": "stream",
     "text": [
      "I0511 07:15:11.234344 139902602618752 basic_session_run_hooks.py:680] global_step/sec: 1.08775\n"
     ]
    },
    {
     "name": "stdout",
     "output_type": "stream",
     "text": [
      "INFO:tensorflow:loss = 0.3144939, step = 5100 (91.935 sec)\n"
     ]
    },
    {
     "name": "stderr",
     "output_type": "stream",
     "text": [
      "I0511 07:15:11.238655 139902602618752 basic_session_run_hooks.py:247] loss = 0.3144939, step = 5100 (91.935 sec)\n"
     ]
    },
    {
     "name": "stdout",
     "output_type": "stream",
     "text": [
      "INFO:tensorflow:global_step/sec: 1.09214\n"
     ]
    },
    {
     "name": "stderr",
     "output_type": "stream",
     "text": [
      "I0511 07:16:42.797921 139902602618752 basic_session_run_hooks.py:680] global_step/sec: 1.09214\n"
     ]
    },
    {
     "name": "stdout",
     "output_type": "stream",
     "text": [
      "INFO:tensorflow:loss = 0.29905295, step = 5200 (91.562 sec)\n"
     ]
    },
    {
     "name": "stderr",
     "output_type": "stream",
     "text": [
      "I0511 07:16:42.800238 139902602618752 basic_session_run_hooks.py:247] loss = 0.29905295, step = 5200 (91.562 sec)\n"
     ]
    },
    {
     "name": "stdout",
     "output_type": "stream",
     "text": [
      "INFO:tensorflow:global_step/sec: 1.09291\n"
     ]
    },
    {
     "name": "stderr",
     "output_type": "stream",
     "text": [
      "I0511 07:18:14.296417 139902602618752 basic_session_run_hooks.py:680] global_step/sec: 1.09291\n"
     ]
    },
    {
     "name": "stdout",
     "output_type": "stream",
     "text": [
      "INFO:tensorflow:loss = 0.27408117, step = 5300 (91.503 sec)\n"
     ]
    },
    {
     "name": "stderr",
     "output_type": "stream",
     "text": [
      "I0511 07:18:14.303640 139902602618752 basic_session_run_hooks.py:247] loss = 0.27408117, step = 5300 (91.503 sec)\n"
     ]
    },
    {
     "name": "stdout",
     "output_type": "stream",
     "text": [
      "INFO:tensorflow:global_step/sec: 1.09122\n"
     ]
    },
    {
     "name": "stderr",
     "output_type": "stream",
     "text": [
      "I0511 07:19:45.937180 139902602618752 basic_session_run_hooks.py:680] global_step/sec: 1.09122\n"
     ]
    },
    {
     "name": "stdout",
     "output_type": "stream",
     "text": [
      "INFO:tensorflow:loss = 0.13183254, step = 5400 (91.638 sec)\n"
     ]
    },
    {
     "name": "stderr",
     "output_type": "stream",
     "text": [
      "I0511 07:19:45.941376 139902602618752 basic_session_run_hooks.py:247] loss = 0.13183254, step = 5400 (91.638 sec)\n"
     ]
    },
    {
     "name": "stdout",
     "output_type": "stream",
     "text": [
      "INFO:tensorflow:Saving checkpoints for 5500 into OUTPUT_DIR_NAME/model.ckpt.\n"
     ]
    },
    {
     "name": "stderr",
     "output_type": "stream",
     "text": [
      "I0511 07:21:16.801635 139902602618752 basic_session_run_hooks.py:594] Saving checkpoints for 5500 into OUTPUT_DIR_NAME/model.ckpt.\n"
     ]
    },
    {
     "name": "stdout",
     "output_type": "stream",
     "text": [
      "INFO:tensorflow:global_step/sec: 0.969221\n"
     ]
    },
    {
     "name": "stderr",
     "output_type": "stream",
     "text": [
      "I0511 07:21:29.112813 139902602618752 basic_session_run_hooks.py:680] global_step/sec: 0.969221\n"
     ]
    },
    {
     "name": "stdout",
     "output_type": "stream",
     "text": [
      "INFO:tensorflow:loss = 0.2111047, step = 5500 (103.179 sec)\n"
     ]
    },
    {
     "name": "stderr",
     "output_type": "stream",
     "text": [
      "I0511 07:21:29.119972 139902602618752 basic_session_run_hooks.py:247] loss = 0.2111047, step = 5500 (103.179 sec)\n"
     ]
    },
    {
     "name": "stdout",
     "output_type": "stream",
     "text": [
      "INFO:tensorflow:global_step/sec: 1.0877\n"
     ]
    },
    {
     "name": "stderr",
     "output_type": "stream",
     "text": [
      "I0511 07:23:01.050182 139902602618752 basic_session_run_hooks.py:680] global_step/sec: 1.0877\n"
     ]
    },
    {
     "name": "stdout",
     "output_type": "stream",
     "text": [
      "INFO:tensorflow:loss = 0.03614077, step = 5600 (91.937 sec)\n"
     ]
    },
    {
     "name": "stderr",
     "output_type": "stream",
     "text": [
      "I0511 07:23:01.057232 139902602618752 basic_session_run_hooks.py:247] loss = 0.03614077, step = 5600 (91.937 sec)\n"
     ]
    },
    {
     "name": "stdout",
     "output_type": "stream",
     "text": [
      "INFO:tensorflow:global_step/sec: 1.09183\n"
     ]
    },
    {
     "name": "stderr",
     "output_type": "stream",
     "text": [
      "I0511 07:24:32.639456 139902602618752 basic_session_run_hooks.py:680] global_step/sec: 1.09183\n"
     ]
    },
    {
     "name": "stdout",
     "output_type": "stream",
     "text": [
      "INFO:tensorflow:loss = 0.26093572, step = 5700 (91.589 sec)\n"
     ]
    },
    {
     "name": "stderr",
     "output_type": "stream",
     "text": [
      "I0511 07:24:32.645993 139902602618752 basic_session_run_hooks.py:247] loss = 0.26093572, step = 5700 (91.589 sec)\n"
     ]
    },
    {
     "name": "stdout",
     "output_type": "stream",
     "text": [
      "INFO:tensorflow:global_step/sec: 1.0943\n"
     ]
    },
    {
     "name": "stderr",
     "output_type": "stream",
     "text": [
      "I0511 07:26:04.021896 139902602618752 basic_session_run_hooks.py:680] global_step/sec: 1.0943\n"
     ]
    },
    {
     "name": "stdout",
     "output_type": "stream",
     "text": [
      "INFO:tensorflow:loss = 0.12373568, step = 5800 (91.380 sec)\n"
     ]
    },
    {
     "name": "stderr",
     "output_type": "stream",
     "text": [
      "I0511 07:26:04.026185 139902602618752 basic_session_run_hooks.py:247] loss = 0.12373568, step = 5800 (91.380 sec)\n"
     ]
    },
    {
     "name": "stdout",
     "output_type": "stream",
     "text": [
      "INFO:tensorflow:global_step/sec: 1.08984\n"
     ]
    },
    {
     "name": "stderr",
     "output_type": "stream",
     "text": [
      "I0511 07:27:35.778704 139902602618752 basic_session_run_hooks.py:680] global_step/sec: 1.08984\n"
     ]
    },
    {
     "name": "stdout",
     "output_type": "stream",
     "text": [
      "INFO:tensorflow:loss = 0.15387335, step = 5900 (91.760 sec)\n"
     ]
    },
    {
     "name": "stderr",
     "output_type": "stream",
     "text": [
      "I0511 07:27:35.785947 139902602618752 basic_session_run_hooks.py:247] loss = 0.15387335, step = 5900 (91.760 sec)\n"
     ]
    },
    {
     "name": "stdout",
     "output_type": "stream",
     "text": [
      "INFO:tensorflow:Saving checkpoints for 6000 into OUTPUT_DIR_NAME/model.ckpt.\n"
     ]
    },
    {
     "name": "stderr",
     "output_type": "stream",
     "text": [
      "I0511 07:29:06.462232 139902602618752 basic_session_run_hooks.py:594] Saving checkpoints for 6000 into OUTPUT_DIR_NAME/model.ckpt.\n"
     ]
    },
    {
     "name": "stdout",
     "output_type": "stream",
     "text": [
      "INFO:tensorflow:global_step/sec: 0.973774\n"
     ]
    },
    {
     "name": "stderr",
     "output_type": "stream",
     "text": [
      "I0511 07:29:18.471960 139902602618752 basic_session_run_hooks.py:680] global_step/sec: 0.973774\n"
     ]
    },
    {
     "name": "stdout",
     "output_type": "stream",
     "text": [
      "INFO:tensorflow:loss = 0.0058939126, step = 6000 (102.691 sec)\n"
     ]
    },
    {
     "name": "stderr",
     "output_type": "stream",
     "text": [
      "I0511 07:29:18.476943 139902602618752 basic_session_run_hooks.py:247] loss = 0.0058939126, step = 6000 (102.691 sec)\n"
     ]
    },
    {
     "name": "stdout",
     "output_type": "stream",
     "text": [
      "INFO:tensorflow:global_step/sec: 1.08714\n"
     ]
    },
    {
     "name": "stderr",
     "output_type": "stream",
     "text": [
      "I0511 07:30:50.456195 139902602618752 basic_session_run_hooks.py:680] global_step/sec: 1.08714\n"
     ]
    },
    {
     "name": "stdout",
     "output_type": "stream",
     "text": [
      "INFO:tensorflow:loss = 0.07306202, step = 6100 (91.984 sec)\n"
     ]
    },
    {
     "name": "stderr",
     "output_type": "stream",
     "text": [
      "I0511 07:30:50.460797 139902602618752 basic_session_run_hooks.py:247] loss = 0.07306202, step = 6100 (91.984 sec)\n"
     ]
    },
    {
     "name": "stdout",
     "output_type": "stream",
     "text": [
      "INFO:tensorflow:global_step/sec: 1.09245\n"
     ]
    },
    {
     "name": "stderr",
     "output_type": "stream",
     "text": [
      "I0511 07:32:21.993217 139902602618752 basic_session_run_hooks.py:680] global_step/sec: 1.09245\n"
     ]
    },
    {
     "name": "stdout",
     "output_type": "stream",
     "text": [
      "INFO:tensorflow:loss = 0.119403765, step = 6200 (91.536 sec)\n"
     ]
    },
    {
     "name": "stderr",
     "output_type": "stream",
     "text": [
      "I0511 07:32:21.996237 139902602618752 basic_session_run_hooks.py:247] loss = 0.119403765, step = 6200 (91.536 sec)\n"
     ]
    },
    {
     "name": "stdout",
     "output_type": "stream",
     "text": [
      "INFO:tensorflow:global_step/sec: 1.09506\n"
     ]
    },
    {
     "name": "stderr",
     "output_type": "stream",
     "text": [
      "I0511 07:33:53.312797 139902602618752 basic_session_run_hooks.py:680] global_step/sec: 1.09506\n"
     ]
    },
    {
     "name": "stdout",
     "output_type": "stream",
     "text": [
      "INFO:tensorflow:loss = 0.016904967, step = 6300 (91.325 sec)\n"
     ]
    },
    {
     "name": "stderr",
     "output_type": "stream",
     "text": [
      "I0511 07:33:53.320735 139902602618752 basic_session_run_hooks.py:247] loss = 0.016904967, step = 6300 (91.325 sec)\n"
     ]
    },
    {
     "name": "stdout",
     "output_type": "stream",
     "text": [
      "INFO:tensorflow:global_step/sec: 1.09131\n"
     ]
    },
    {
     "name": "stderr",
     "output_type": "stream",
     "text": [
      "I0511 07:35:24.945574 139902602618752 basic_session_run_hooks.py:680] global_step/sec: 1.09131\n"
     ]
    },
    {
     "name": "stdout",
     "output_type": "stream",
     "text": [
      "INFO:tensorflow:loss = 0.047066938, step = 6400 (91.630 sec)\n"
     ]
    },
    {
     "name": "stderr",
     "output_type": "stream",
     "text": [
      "I0511 07:35:24.950515 139902602618752 basic_session_run_hooks.py:247] loss = 0.047066938, step = 6400 (91.630 sec)\n"
     ]
    },
    {
     "name": "stdout",
     "output_type": "stream",
     "text": [
      "INFO:tensorflow:Saving checkpoints for 6500 into OUTPUT_DIR_NAME/model.ckpt.\n"
     ]
    },
    {
     "name": "stderr",
     "output_type": "stream",
     "text": [
      "I0511 07:36:55.706468 139902602618752 basic_session_run_hooks.py:594] Saving checkpoints for 6500 into OUTPUT_DIR_NAME/model.ckpt.\n"
     ]
    },
    {
     "name": "stdout",
     "output_type": "stream",
     "text": [
      "INFO:tensorflow:global_step/sec: 0.970697\n"
     ]
    },
    {
     "name": "stderr",
     "output_type": "stream",
     "text": [
      "I0511 07:37:07.964297 139902602618752 basic_session_run_hooks.py:680] global_step/sec: 0.970697\n"
     ]
    },
    {
     "name": "stdout",
     "output_type": "stream",
     "text": [
      "INFO:tensorflow:loss = 0.18468398, step = 6500 (103.019 sec)\n"
     ]
    },
    {
     "name": "stderr",
     "output_type": "stream",
     "text": [
      "I0511 07:37:07.969447 139902602618752 basic_session_run_hooks.py:247] loss = 0.18468398, step = 6500 (103.019 sec)\n"
     ]
    },
    {
     "name": "stdout",
     "output_type": "stream",
     "text": [
      "INFO:tensorflow:global_step/sec: 1.08708\n"
     ]
    },
    {
     "name": "stderr",
     "output_type": "stream",
     "text": [
      "I0511 07:38:39.954164 139902602618752 basic_session_run_hooks.py:680] global_step/sec: 1.08708\n"
     ]
    },
    {
     "name": "stdout",
     "output_type": "stream",
     "text": [
      "INFO:tensorflow:loss = 0.14614952, step = 6600 (91.990 sec)\n"
     ]
    },
    {
     "name": "stderr",
     "output_type": "stream",
     "text": [
      "I0511 07:38:39.959447 139902602618752 basic_session_run_hooks.py:247] loss = 0.14614952, step = 6600 (91.990 sec)\n"
     ]
    },
    {
     "name": "stdout",
     "output_type": "stream",
     "text": [
      "INFO:tensorflow:global_step/sec: 1.09077\n"
     ]
    },
    {
     "name": "stderr",
     "output_type": "stream",
     "text": [
      "I0511 07:40:11.632530 139902602618752 basic_session_run_hooks.py:680] global_step/sec: 1.09077\n"
     ]
    },
    {
     "name": "stdout",
     "output_type": "stream",
     "text": [
      "INFO:tensorflow:loss = 0.09573986, step = 6700 (91.675 sec)\n"
     ]
    },
    {
     "name": "stderr",
     "output_type": "stream",
     "text": [
      "I0511 07:40:11.634669 139902602618752 basic_session_run_hooks.py:247] loss = 0.09573986, step = 6700 (91.675 sec)\n"
     ]
    },
    {
     "name": "stdout",
     "output_type": "stream",
     "text": [
      "INFO:tensorflow:global_step/sec: 1.09469\n"
     ]
    },
    {
     "name": "stderr",
     "output_type": "stream",
     "text": [
      "I0511 07:41:42.982914 139902602618752 basic_session_run_hooks.py:680] global_step/sec: 1.09469\n"
     ]
    },
    {
     "name": "stdout",
     "output_type": "stream",
     "text": [
      "INFO:tensorflow:loss = 0.0317198, step = 6800 (91.350 sec)\n"
     ]
    },
    {
     "name": "stderr",
     "output_type": "stream",
     "text": [
      "I0511 07:41:42.985150 139902602618752 basic_session_run_hooks.py:247] loss = 0.0317198, step = 6800 (91.350 sec)\n"
     ]
    },
    {
     "name": "stdout",
     "output_type": "stream",
     "text": [
      "INFO:tensorflow:global_step/sec: 1.09142\n"
     ]
    },
    {
     "name": "stderr",
     "output_type": "stream",
     "text": [
      "I0511 07:43:14.607160 139902602618752 basic_session_run_hooks.py:680] global_step/sec: 1.09142\n"
     ]
    },
    {
     "name": "stdout",
     "output_type": "stream",
     "text": [
      "INFO:tensorflow:loss = 0.06930412, step = 6900 (91.628 sec)\n"
     ]
    },
    {
     "name": "stderr",
     "output_type": "stream",
     "text": [
      "I0511 07:43:14.614248 139902602618752 basic_session_run_hooks.py:247] loss = 0.06930412, step = 6900 (91.628 sec)\n"
     ]
    },
    {
     "name": "stdout",
     "output_type": "stream",
     "text": [
      "INFO:tensorflow:Saving checkpoints for 7000 into OUTPUT_DIR_NAME/model.ckpt.\n"
     ]
    },
    {
     "name": "stderr",
     "output_type": "stream",
     "text": [
      "I0511 07:44:45.326268 139902602618752 basic_session_run_hooks.py:594] Saving checkpoints for 7000 into OUTPUT_DIR_NAME/model.ckpt.\n"
     ]
    },
    {
     "name": "stdout",
     "output_type": "stream",
     "text": [
      "INFO:tensorflow:global_step/sec: 0.97395\n"
     ]
    },
    {
     "name": "stderr",
     "output_type": "stream",
     "text": [
      "I0511 07:44:57.281599 139902602618752 basic_session_run_hooks.py:680] global_step/sec: 0.97395\n"
     ]
    },
    {
     "name": "stdout",
     "output_type": "stream",
     "text": [
      "INFO:tensorflow:loss = 0.17518552, step = 7000 (102.675 sec)\n"
     ]
    },
    {
     "name": "stderr",
     "output_type": "stream",
     "text": [
      "I0511 07:44:57.288539 139902602618752 basic_session_run_hooks.py:247] loss = 0.17518552, step = 7000 (102.675 sec)\n"
     ]
    },
    {
     "name": "stdout",
     "output_type": "stream",
     "text": [
      "INFO:tensorflow:global_step/sec: 1.08812\n"
     ]
    },
    {
     "name": "stderr",
     "output_type": "stream",
     "text": [
      "I0511 07:46:29.183097 139902602618752 basic_session_run_hooks.py:680] global_step/sec: 1.08812\n"
     ]
    },
    {
     "name": "stdout",
     "output_type": "stream",
     "text": [
      "INFO:tensorflow:loss = 0.10774806, step = 7100 (91.900 sec)\n"
     ]
    },
    {
     "name": "stderr",
     "output_type": "stream",
     "text": [
      "I0511 07:46:29.188717 139902602618752 basic_session_run_hooks.py:247] loss = 0.10774806, step = 7100 (91.900 sec)\n"
     ]
    },
    {
     "name": "stdout",
     "output_type": "stream",
     "text": [
      "INFO:tensorflow:global_step/sec: 1.09291\n"
     ]
    },
    {
     "name": "stderr",
     "output_type": "stream",
     "text": [
      "I0511 07:48:00.682335 139902602618752 basic_session_run_hooks.py:680] global_step/sec: 1.09291\n"
     ]
    },
    {
     "name": "stdout",
     "output_type": "stream",
     "text": [
      "INFO:tensorflow:loss = 0.06300913, step = 7200 (91.496 sec)\n"
     ]
    },
    {
     "name": "stderr",
     "output_type": "stream",
     "text": [
      "I0511 07:48:00.684984 139902602618752 basic_session_run_hooks.py:247] loss = 0.06300913, step = 7200 (91.496 sec)\n"
     ]
    },
    {
     "name": "stdout",
     "output_type": "stream",
     "text": [
      "INFO:tensorflow:global_step/sec: 1.09072\n"
     ]
    },
    {
     "name": "stderr",
     "output_type": "stream",
     "text": [
      "I0511 07:49:32.365085 139902602618752 basic_session_run_hooks.py:680] global_step/sec: 1.09072\n"
     ]
    },
    {
     "name": "stdout",
     "output_type": "stream",
     "text": [
      "INFO:tensorflow:loss = 0.15372194, step = 7300 (91.690 sec)\n"
     ]
    },
    {
     "name": "stderr",
     "output_type": "stream",
     "text": [
      "I0511 07:49:32.375240 139902602618752 basic_session_run_hooks.py:247] loss = 0.15372194, step = 7300 (91.690 sec)\n"
     ]
    },
    {
     "name": "stdout",
     "output_type": "stream",
     "text": [
      "INFO:tensorflow:global_step/sec: 1.0895\n"
     ]
    },
    {
     "name": "stderr",
     "output_type": "stream",
     "text": [
      "I0511 07:51:04.150216 139902602618752 basic_session_run_hooks.py:680] global_step/sec: 1.0895\n"
     ]
    },
    {
     "name": "stdout",
     "output_type": "stream",
     "text": [
      "INFO:tensorflow:loss = 0.12165455, step = 7400 (91.777 sec)\n"
     ]
    },
    {
     "name": "stderr",
     "output_type": "stream",
     "text": [
      "I0511 07:51:04.152460 139902602618752 basic_session_run_hooks.py:247] loss = 0.12165455, step = 7400 (91.777 sec)\n"
     ]
    },
    {
     "name": "stdout",
     "output_type": "stream",
     "text": [
      "INFO:tensorflow:Saving checkpoints for 7500 into OUTPUT_DIR_NAME/model.ckpt.\n"
     ]
    },
    {
     "name": "stderr",
     "output_type": "stream",
     "text": [
      "I0511 07:52:34.882387 139902602618752 basic_session_run_hooks.py:594] Saving checkpoints for 7500 into OUTPUT_DIR_NAME/model.ckpt.\n"
     ]
    },
    {
     "name": "stdout",
     "output_type": "stream",
     "text": [
      "INFO:tensorflow:global_step/sec: 0.972478\n"
     ]
    },
    {
     "name": "stderr",
     "output_type": "stream",
     "text": [
      "I0511 07:52:46.980320 139902602618752 basic_session_run_hooks.py:680] global_step/sec: 0.972478\n"
     ]
    },
    {
     "name": "stdout",
     "output_type": "stream",
     "text": [
      "INFO:tensorflow:loss = 0.12481144, step = 7500 (102.834 sec)\n"
     ]
    },
    {
     "name": "stderr",
     "output_type": "stream",
     "text": [
      "I0511 07:52:46.986890 139902602618752 basic_session_run_hooks.py:247] loss = 0.12481144, step = 7500 (102.834 sec)\n"
     ]
    },
    {
     "name": "stdout",
     "output_type": "stream",
     "text": [
      "INFO:tensorflow:global_step/sec: 1.08843\n"
     ]
    },
    {
     "name": "stderr",
     "output_type": "stream",
     "text": [
      "I0511 07:54:18.855446 139902602618752 basic_session_run_hooks.py:680] global_step/sec: 1.08843\n"
     ]
    },
    {
     "name": "stdout",
     "output_type": "stream",
     "text": [
      "INFO:tensorflow:loss = 0.0055349013, step = 7600 (91.877 sec)\n"
     ]
    },
    {
     "name": "stderr",
     "output_type": "stream",
     "text": [
      "I0511 07:54:18.863739 139902602618752 basic_session_run_hooks.py:247] loss = 0.0055349013, step = 7600 (91.877 sec)\n"
     ]
    },
    {
     "name": "stdout",
     "output_type": "stream",
     "text": [
      "INFO:tensorflow:global_step/sec: 1.09249\n"
     ]
    },
    {
     "name": "stderr",
     "output_type": "stream",
     "text": [
      "I0511 07:55:50.389779 139902602618752 basic_session_run_hooks.py:680] global_step/sec: 1.09249\n"
     ]
    },
    {
     "name": "stdout",
     "output_type": "stream",
     "text": [
      "INFO:tensorflow:loss = 0.20413537, step = 7700 (91.528 sec)\n"
     ]
    },
    {
     "name": "stderr",
     "output_type": "stream",
     "text": [
      "I0511 07:55:50.392055 139902602618752 basic_session_run_hooks.py:247] loss = 0.20413537, step = 7700 (91.528 sec)\n"
     ]
    },
    {
     "name": "stdout",
     "output_type": "stream",
     "text": [
      "INFO:tensorflow:global_step/sec: 1.09132\n"
     ]
    },
    {
     "name": "stderr",
     "output_type": "stream",
     "text": [
      "I0511 07:57:22.021794 139902602618752 basic_session_run_hooks.py:680] global_step/sec: 1.09132\n"
     ]
    },
    {
     "name": "stdout",
     "output_type": "stream",
     "text": [
      "INFO:tensorflow:loss = 0.25833926, step = 7800 (91.635 sec)\n"
     ]
    },
    {
     "name": "stderr",
     "output_type": "stream",
     "text": [
      "I0511 07:57:22.027658 139902602618752 basic_session_run_hooks.py:247] loss = 0.25833926, step = 7800 (91.635 sec)\n"
     ]
    },
    {
     "name": "stdout",
     "output_type": "stream",
     "text": [
      "INFO:tensorflow:global_step/sec: 1.09043\n"
     ]
    },
    {
     "name": "stderr",
     "output_type": "stream",
     "text": [
      "I0511 07:58:53.729085 139902602618752 basic_session_run_hooks.py:680] global_step/sec: 1.09043\n"
     ]
    },
    {
     "name": "stdout",
     "output_type": "stream",
     "text": [
      "INFO:tensorflow:loss = 0.07059465, step = 7900 (91.708 sec)\n"
     ]
    },
    {
     "name": "stderr",
     "output_type": "stream",
     "text": [
      "I0511 07:58:53.735278 139902602618752 basic_session_run_hooks.py:247] loss = 0.07059465, step = 7900 (91.708 sec)\n"
     ]
    },
    {
     "name": "stdout",
     "output_type": "stream",
     "text": [
      "INFO:tensorflow:Saving checkpoints for 8000 into OUTPUT_DIR_NAME/model.ckpt.\n"
     ]
    },
    {
     "name": "stderr",
     "output_type": "stream",
     "text": [
      "I0511 08:00:24.502424 139902602618752 basic_session_run_hooks.py:594] Saving checkpoints for 8000 into OUTPUT_DIR_NAME/model.ckpt.\n"
     ]
    },
    {
     "name": "stdout",
     "output_type": "stream",
     "text": [
      "INFO:tensorflow:global_step/sec: 0.972856\n"
     ]
    },
    {
     "name": "stderr",
     "output_type": "stream",
     "text": [
      "I0511 08:00:36.519205 139902602618752 basic_session_run_hooks.py:680] global_step/sec: 0.972856\n"
     ]
    },
    {
     "name": "stdout",
     "output_type": "stream",
     "text": [
      "INFO:tensorflow:loss = 0.17351358, step = 8000 (102.789 sec)\n"
     ]
    },
    {
     "name": "stderr",
     "output_type": "stream",
     "text": [
      "I0511 08:00:36.524041 139902602618752 basic_session_run_hooks.py:247] loss = 0.17351358, step = 8000 (102.789 sec)\n"
     ]
    },
    {
     "name": "stdout",
     "output_type": "stream",
     "text": [
      "INFO:tensorflow:global_step/sec: 1.08688\n"
     ]
    },
    {
     "name": "stderr",
     "output_type": "stream",
     "text": [
      "I0511 08:02:08.525819 139902602618752 basic_session_run_hooks.py:680] global_step/sec: 1.08688\n"
     ]
    },
    {
     "name": "stdout",
     "output_type": "stream",
     "text": [
      "INFO:tensorflow:loss = 0.18139069, step = 8100 (92.004 sec)\n"
     ]
    },
    {
     "name": "stderr",
     "output_type": "stream",
     "text": [
      "I0511 08:02:08.527930 139902602618752 basic_session_run_hooks.py:247] loss = 0.18139069, step = 8100 (92.004 sec)\n"
     ]
    },
    {
     "name": "stdout",
     "output_type": "stream",
     "text": [
      "INFO:tensorflow:global_step/sec: 1.09265\n"
     ]
    },
    {
     "name": "stderr",
     "output_type": "stream",
     "text": [
      "I0511 08:03:40.046639 139902602618752 basic_session_run_hooks.py:680] global_step/sec: 1.09265\n"
     ]
    },
    {
     "name": "stdout",
     "output_type": "stream",
     "text": [
      "INFO:tensorflow:loss = 0.23580426, step = 8200 (91.521 sec)\n"
     ]
    },
    {
     "name": "stderr",
     "output_type": "stream",
     "text": [
      "I0511 08:03:40.049080 139902602618752 basic_session_run_hooks.py:247] loss = 0.23580426, step = 8200 (91.521 sec)\n"
     ]
    },
    {
     "name": "stdout",
     "output_type": "stream",
     "text": [
      "INFO:tensorflow:global_step/sec: 1.09634\n"
     ]
    },
    {
     "name": "stderr",
     "output_type": "stream",
     "text": [
      "I0511 08:05:11.259238 139902602618752 basic_session_run_hooks.py:680] global_step/sec: 1.09634\n"
     ]
    },
    {
     "name": "stdout",
     "output_type": "stream",
     "text": [
      "INFO:tensorflow:loss = 0.12224523, step = 8300 (91.217 sec)\n"
     ]
    },
    {
     "name": "stderr",
     "output_type": "stream",
     "text": [
      "I0511 08:05:11.265866 139902602618752 basic_session_run_hooks.py:247] loss = 0.12224523, step = 8300 (91.217 sec)\n"
     ]
    },
    {
     "name": "stdout",
     "output_type": "stream",
     "text": [
      "INFO:tensorflow:global_step/sec: 1.08948\n"
     ]
    },
    {
     "name": "stderr",
     "output_type": "stream",
     "text": [
      "I0511 08:06:43.045841 139902602618752 basic_session_run_hooks.py:680] global_step/sec: 1.08948\n"
     ]
    },
    {
     "name": "stdout",
     "output_type": "stream",
     "text": [
      "INFO:tensorflow:loss = 0.08280472, step = 8400 (91.785 sec)\n"
     ]
    },
    {
     "name": "stderr",
     "output_type": "stream",
     "text": [
      "I0511 08:06:43.051210 139902602618752 basic_session_run_hooks.py:247] loss = 0.08280472, step = 8400 (91.785 sec)\n"
     ]
    },
    {
     "name": "stdout",
     "output_type": "stream",
     "text": [
      "INFO:tensorflow:Saving checkpoints for 8500 into OUTPUT_DIR_NAME/model.ckpt.\n"
     ]
    },
    {
     "name": "stderr",
     "output_type": "stream",
     "text": [
      "I0511 08:08:13.766522 139902602618752 basic_session_run_hooks.py:594] Saving checkpoints for 8500 into OUTPUT_DIR_NAME/model.ckpt.\n"
     ]
    },
    {
     "name": "stdout",
     "output_type": "stream",
     "text": [
      "INFO:tensorflow:global_step/sec: 0.97109\n"
     ]
    },
    {
     "name": "stderr",
     "output_type": "stream",
     "text": [
      "I0511 08:08:26.022824 139902602618752 basic_session_run_hooks.py:680] global_step/sec: 0.97109\n"
     ]
    },
    {
     "name": "stdout",
     "output_type": "stream",
     "text": [
      "INFO:tensorflow:loss = 0.019389756, step = 8500 (102.974 sec)\n"
     ]
    },
    {
     "name": "stderr",
     "output_type": "stream",
     "text": [
      "I0511 08:08:26.025237 139902602618752 basic_session_run_hooks.py:247] loss = 0.019389756, step = 8500 (102.974 sec)\n"
     ]
    },
    {
     "name": "stdout",
     "output_type": "stream",
     "text": [
      "INFO:tensorflow:global_step/sec: 1.08812\n"
     ]
    },
    {
     "name": "stderr",
     "output_type": "stream",
     "text": [
      "I0511 08:09:57.924715 139902602618752 basic_session_run_hooks.py:680] global_step/sec: 1.08812\n"
     ]
    },
    {
     "name": "stdout",
     "output_type": "stream",
     "text": [
      "INFO:tensorflow:loss = 0.0035467336, step = 8600 (91.904 sec)\n"
     ]
    },
    {
     "name": "stderr",
     "output_type": "stream",
     "text": [
      "I0511 08:09:57.929356 139902602618752 basic_session_run_hooks.py:247] loss = 0.0035467336, step = 8600 (91.904 sec)\n"
     ]
    },
    {
     "name": "stdout",
     "output_type": "stream",
     "text": [
      "INFO:tensorflow:global_step/sec: 1.09207\n"
     ]
    },
    {
     "name": "stderr",
     "output_type": "stream",
     "text": [
      "I0511 08:11:29.493710 139902602618752 basic_session_run_hooks.py:680] global_step/sec: 1.09207\n"
     ]
    },
    {
     "name": "stdout",
     "output_type": "stream",
     "text": [
      "INFO:tensorflow:loss = 0.1374206, step = 8700 (91.569 sec)\n"
     ]
    },
    {
     "name": "stderr",
     "output_type": "stream",
     "text": [
      "I0511 08:11:29.498671 139902602618752 basic_session_run_hooks.py:247] loss = 0.1374206, step = 8700 (91.569 sec)\n"
     ]
    },
    {
     "name": "stdout",
     "output_type": "stream",
     "text": [
      "INFO:tensorflow:global_step/sec: 1.09133\n"
     ]
    },
    {
     "name": "stderr",
     "output_type": "stream",
     "text": [
      "I0511 08:13:01.124604 139902602618752 basic_session_run_hooks.py:680] global_step/sec: 1.09133\n"
     ]
    },
    {
     "name": "stdout",
     "output_type": "stream",
     "text": [
      "INFO:tensorflow:loss = 0.007455697, step = 8800 (91.631 sec)\n"
     ]
    },
    {
     "name": "stderr",
     "output_type": "stream",
     "text": [
      "I0511 08:13:01.129543 139902602618752 basic_session_run_hooks.py:247] loss = 0.007455697, step = 8800 (91.631 sec)\n"
     ]
    },
    {
     "name": "stdout",
     "output_type": "stream",
     "text": [
      "INFO:tensorflow:global_step/sec: 1.0902\n"
     ]
    },
    {
     "name": "stderr",
     "output_type": "stream",
     "text": [
      "I0511 08:14:32.850853 139902602618752 basic_session_run_hooks.py:680] global_step/sec: 1.0902\n"
     ]
    },
    {
     "name": "stdout",
     "output_type": "stream",
     "text": [
      "INFO:tensorflow:loss = 0.021618448, step = 8900 (91.726 sec)\n"
     ]
    },
    {
     "name": "stderr",
     "output_type": "stream",
     "text": [
      "I0511 08:14:32.855806 139902602618752 basic_session_run_hooks.py:247] loss = 0.021618448, step = 8900 (91.726 sec)\n"
     ]
    },
    {
     "name": "stdout",
     "output_type": "stream",
     "text": [
      "INFO:tensorflow:Saving checkpoints for 9000 into OUTPUT_DIR_NAME/model.ckpt.\n"
     ]
    },
    {
     "name": "stderr",
     "output_type": "stream",
     "text": [
      "I0511 08:16:03.494032 139902602618752 basic_session_run_hooks.py:594] Saving checkpoints for 9000 into OUTPUT_DIR_NAME/model.ckpt.\n"
     ]
    },
    {
     "name": "stdout",
     "output_type": "stream",
     "text": [
      "INFO:tensorflow:global_step/sec: 0.968404\n"
     ]
    },
    {
     "name": "stderr",
     "output_type": "stream",
     "text": [
      "I0511 08:16:16.113517 139902602618752 basic_session_run_hooks.py:680] global_step/sec: 0.968404\n"
     ]
    },
    {
     "name": "stdout",
     "output_type": "stream",
     "text": [
      "INFO:tensorflow:loss = 0.011761536, step = 9000 (103.264 sec)\n"
     ]
    },
    {
     "name": "stderr",
     "output_type": "stream",
     "text": [
      "I0511 08:16:16.119272 139902602618752 basic_session_run_hooks.py:247] loss = 0.011761536, step = 9000 (103.264 sec)\n"
     ]
    },
    {
     "name": "stdout",
     "output_type": "stream",
     "text": [
      "INFO:tensorflow:global_step/sec: 1.08733\n"
     ]
    },
    {
     "name": "stderr",
     "output_type": "stream",
     "text": [
      "I0511 08:17:48.081911 139902602618752 basic_session_run_hooks.py:680] global_step/sec: 1.08733\n"
     ]
    },
    {
     "name": "stdout",
     "output_type": "stream",
     "text": [
      "INFO:tensorflow:loss = 0.0061667827, step = 9100 (91.971 sec)\n"
     ]
    },
    {
     "name": "stderr",
     "output_type": "stream",
     "text": [
      "I0511 08:17:48.090505 139902602618752 basic_session_run_hooks.py:247] loss = 0.0061667827, step = 9100 (91.971 sec)\n"
     ]
    },
    {
     "name": "stdout",
     "output_type": "stream",
     "text": [
      "INFO:tensorflow:global_step/sec: 1.09273\n"
     ]
    },
    {
     "name": "stderr",
     "output_type": "stream",
     "text": [
      "I0511 08:19:19.595780 139902602618752 basic_session_run_hooks.py:680] global_step/sec: 1.09273\n"
     ]
    },
    {
     "name": "stdout",
     "output_type": "stream",
     "text": [
      "INFO:tensorflow:loss = 0.35401577, step = 9200 (91.508 sec)\n"
     ]
    },
    {
     "name": "stderr",
     "output_type": "stream",
     "text": [
      "I0511 08:19:19.598161 139902602618752 basic_session_run_hooks.py:247] loss = 0.35401577, step = 9200 (91.508 sec)\n"
     ]
    },
    {
     "name": "stdout",
     "output_type": "stream",
     "text": [
      "INFO:tensorflow:global_step/sec: 1.09633\n"
     ]
    },
    {
     "name": "stderr",
     "output_type": "stream",
     "text": [
      "I0511 08:20:50.809278 139902602618752 basic_session_run_hooks.py:680] global_step/sec: 1.09633\n"
     ]
    },
    {
     "name": "stdout",
     "output_type": "stream",
     "text": [
      "INFO:tensorflow:loss = 0.0051546115, step = 9300 (91.216 sec)\n"
     ]
    },
    {
     "name": "stderr",
     "output_type": "stream",
     "text": [
      "I0511 08:20:50.813770 139902602618752 basic_session_run_hooks.py:247] loss = 0.0051546115, step = 9300 (91.216 sec)\n"
     ]
    },
    {
     "name": "stdout",
     "output_type": "stream",
     "text": [
      "INFO:tensorflow:global_step/sec: 1.09406\n"
     ]
    },
    {
     "name": "stderr",
     "output_type": "stream",
     "text": [
      "I0511 08:22:22.211594 139902602618752 basic_session_run_hooks.py:680] global_step/sec: 1.09406\n"
     ]
    },
    {
     "name": "stdout",
     "output_type": "stream",
     "text": [
      "INFO:tensorflow:loss = 0.00405421, step = 9400 (91.400 sec)\n"
     ]
    },
    {
     "name": "stderr",
     "output_type": "stream",
     "text": [
      "I0511 08:22:22.213765 139902602618752 basic_session_run_hooks.py:247] loss = 0.00405421, step = 9400 (91.400 sec)\n"
     ]
    },
    {
     "name": "stdout",
     "output_type": "stream",
     "text": [
      "INFO:tensorflow:Saving checkpoints for 9500 into OUTPUT_DIR_NAME/model.ckpt.\n"
     ]
    },
    {
     "name": "stderr",
     "output_type": "stream",
     "text": [
      "I0511 08:23:52.898603 139902602618752 basic_session_run_hooks.py:594] Saving checkpoints for 9500 into OUTPUT_DIR_NAME/model.ckpt.\n"
     ]
    },
    {
     "name": "stdout",
     "output_type": "stream",
     "text": [
      "INFO:tensorflow:global_step/sec: 0.972598\n"
     ]
    },
    {
     "name": "stderr",
     "output_type": "stream",
     "text": [
      "I0511 08:24:05.028988 139902602618752 basic_session_run_hooks.py:680] global_step/sec: 0.972598\n"
     ]
    },
    {
     "name": "stdout",
     "output_type": "stream",
     "text": [
      "INFO:tensorflow:loss = 0.25343576, step = 9500 (102.820 sec)\n"
     ]
    },
    {
     "name": "stderr",
     "output_type": "stream",
     "text": [
      "I0511 08:24:05.033575 139902602618752 basic_session_run_hooks.py:247] loss = 0.25343576, step = 9500 (102.820 sec)\n"
     ]
    },
    {
     "name": "stdout",
     "output_type": "stream",
     "text": [
      "INFO:tensorflow:global_step/sec: 1.08851\n"
     ]
    },
    {
     "name": "stderr",
     "output_type": "stream",
     "text": [
      "I0511 08:25:36.897425 139902602618752 basic_session_run_hooks.py:680] global_step/sec: 1.08851\n"
     ]
    },
    {
     "name": "stdout",
     "output_type": "stream",
     "text": [
      "INFO:tensorflow:loss = 0.007602495, step = 9600 (91.866 sec)\n"
     ]
    },
    {
     "name": "stderr",
     "output_type": "stream",
     "text": [
      "I0511 08:25:36.899964 139902602618752 basic_session_run_hooks.py:247] loss = 0.007602495, step = 9600 (91.866 sec)\n"
     ]
    },
    {
     "name": "stdout",
     "output_type": "stream",
     "text": [
      "INFO:tensorflow:global_step/sec: 1.09049\n"
     ]
    },
    {
     "name": "stderr",
     "output_type": "stream",
     "text": [
      "I0511 08:27:08.599595 139902602618752 basic_session_run_hooks.py:680] global_step/sec: 1.09049\n"
     ]
    },
    {
     "name": "stdout",
     "output_type": "stream",
     "text": [
      "INFO:tensorflow:loss = 0.011130625, step = 9700 (91.705 sec)\n"
     ]
    },
    {
     "name": "stderr",
     "output_type": "stream",
     "text": [
      "I0511 08:27:08.604677 139902602618752 basic_session_run_hooks.py:247] loss = 0.011130625, step = 9700 (91.705 sec)\n"
     ]
    },
    {
     "name": "stdout",
     "output_type": "stream",
     "text": [
      "INFO:tensorflow:global_step/sec: 1.09217\n"
     ]
    },
    {
     "name": "stderr",
     "output_type": "stream",
     "text": [
      "I0511 08:28:40.160126 139902602618752 basic_session_run_hooks.py:680] global_step/sec: 1.09217\n"
     ]
    },
    {
     "name": "stdout",
     "output_type": "stream",
     "text": [
      "INFO:tensorflow:loss = 0.108519286, step = 9800 (91.558 sec)\n"
     ]
    },
    {
     "name": "stderr",
     "output_type": "stream",
     "text": [
      "I0511 08:28:40.162827 139902602618752 basic_session_run_hooks.py:247] loss = 0.108519286, step = 9800 (91.558 sec)\n"
     ]
    },
    {
     "name": "stdout",
     "output_type": "stream",
     "text": [
      "INFO:tensorflow:global_step/sec: 1.09325\n"
     ]
    },
    {
     "name": "stderr",
     "output_type": "stream",
     "text": [
      "I0511 08:30:11.630391 139902602618752 basic_session_run_hooks.py:680] global_step/sec: 1.09325\n"
     ]
    },
    {
     "name": "stdout",
     "output_type": "stream",
     "text": [
      "INFO:tensorflow:loss = 0.018321652, step = 9900 (91.482 sec)\n"
     ]
    },
    {
     "name": "stderr",
     "output_type": "stream",
     "text": [
      "I0511 08:30:11.644597 139902602618752 basic_session_run_hooks.py:247] loss = 0.018321652, step = 9900 (91.482 sec)\n"
     ]
    },
    {
     "name": "stdout",
     "output_type": "stream",
     "text": [
      "INFO:tensorflow:Saving checkpoints for 10000 into OUTPUT_DIR_NAME/model.ckpt.\n"
     ]
    },
    {
     "name": "stderr",
     "output_type": "stream",
     "text": [
      "I0511 08:31:42.177189 139902602618752 basic_session_run_hooks.py:594] Saving checkpoints for 10000 into OUTPUT_DIR_NAME/model.ckpt.\n"
     ]
    },
    {
     "name": "stdout",
     "output_type": "stream",
     "text": [
      "INFO:tensorflow:global_step/sec: 0.970954\n"
     ]
    },
    {
     "name": "stderr",
     "output_type": "stream",
     "text": [
      "I0511 08:31:54.621907 139902602618752 basic_session_run_hooks.py:680] global_step/sec: 0.970954\n"
     ]
    },
    {
     "name": "stdout",
     "output_type": "stream",
     "text": [
      "INFO:tensorflow:loss = 0.032406457, step = 10000 (102.979 sec)\n"
     ]
    },
    {
     "name": "stderr",
     "output_type": "stream",
     "text": [
      "I0511 08:31:54.623933 139902602618752 basic_session_run_hooks.py:247] loss = 0.032406457, step = 10000 (102.979 sec)\n"
     ]
    },
    {
     "name": "stdout",
     "output_type": "stream",
     "text": [
      "INFO:tensorflow:global_step/sec: 1.08984\n"
     ]
    },
    {
     "name": "stderr",
     "output_type": "stream",
     "text": [
      "I0511 08:33:26.378456 139902602618752 basic_session_run_hooks.py:680] global_step/sec: 1.08984\n"
     ]
    },
    {
     "name": "stdout",
     "output_type": "stream",
     "text": [
      "INFO:tensorflow:loss = 0.0059580524, step = 10100 (91.759 sec)\n"
     ]
    },
    {
     "name": "stderr",
     "output_type": "stream",
     "text": [
      "I0511 08:33:26.383024 139902602618752 basic_session_run_hooks.py:247] loss = 0.0059580524, step = 10100 (91.759 sec)\n"
     ]
    },
    {
     "name": "stdout",
     "output_type": "stream",
     "text": [
      "INFO:tensorflow:global_step/sec: 1.09028\n"
     ]
    },
    {
     "name": "stderr",
     "output_type": "stream",
     "text": [
      "I0511 08:34:58.098125 139902602618752 basic_session_run_hooks.py:680] global_step/sec: 1.09028\n"
     ]
    },
    {
     "name": "stdout",
     "output_type": "stream",
     "text": [
      "INFO:tensorflow:loss = 0.0445967, step = 10200 (91.718 sec)\n"
     ]
    },
    {
     "name": "stderr",
     "output_type": "stream",
     "text": [
      "I0511 08:34:58.100682 139902602618752 basic_session_run_hooks.py:247] loss = 0.0445967, step = 10200 (91.718 sec)\n"
     ]
    },
    {
     "name": "stdout",
     "output_type": "stream",
     "text": [
      "INFO:tensorflow:global_step/sec: 1.09351\n"
     ]
    },
    {
     "name": "stderr",
     "output_type": "stream",
     "text": [
      "I0511 08:36:29.546719 139902602618752 basic_session_run_hooks.py:680] global_step/sec: 1.09351\n"
     ]
    },
    {
     "name": "stdout",
     "output_type": "stream",
     "text": [
      "INFO:tensorflow:loss = 0.2125276, step = 10300 (91.452 sec)\n"
     ]
    },
    {
     "name": "stderr",
     "output_type": "stream",
     "text": [
      "I0511 08:36:29.552784 139902602618752 basic_session_run_hooks.py:247] loss = 0.2125276, step = 10300 (91.452 sec)\n"
     ]
    },
    {
     "name": "stdout",
     "output_type": "stream",
     "text": [
      "INFO:tensorflow:global_step/sec: 1.09373\n"
     ]
    },
    {
     "name": "stderr",
     "output_type": "stream",
     "text": [
      "I0511 08:38:00.976828 139902602618752 basic_session_run_hooks.py:680] global_step/sec: 1.09373\n"
     ]
    },
    {
     "name": "stdout",
     "output_type": "stream",
     "text": [
      "INFO:tensorflow:loss = 0.0051752534, step = 10400 (91.426 sec)\n"
     ]
    },
    {
     "name": "stderr",
     "output_type": "stream",
     "text": [
      "I0511 08:38:00.979000 139902602618752 basic_session_run_hooks.py:247] loss = 0.0051752534, step = 10400 (91.426 sec)\n"
     ]
    },
    {
     "name": "stdout",
     "output_type": "stream",
     "text": [
      "INFO:tensorflow:Saving checkpoints for 10500 into OUTPUT_DIR_NAME/model.ckpt.\n"
     ]
    },
    {
     "name": "stderr",
     "output_type": "stream",
     "text": [
      "I0511 08:39:31.565596 139902602618752 basic_session_run_hooks.py:594] Saving checkpoints for 10500 into OUTPUT_DIR_NAME/model.ckpt.\n"
     ]
    },
    {
     "name": "stdout",
     "output_type": "stream",
     "text": [
      "INFO:tensorflow:global_step/sec: 0.972889\n"
     ]
    },
    {
     "name": "stderr",
     "output_type": "stream",
     "text": [
      "I0511 08:39:43.763521 139902602618752 basic_session_run_hooks.py:680] global_step/sec: 0.972889\n"
     ]
    },
    {
     "name": "stdout",
     "output_type": "stream",
     "text": [
      "INFO:tensorflow:loss = 0.01188878, step = 10500 (102.792 sec)\n"
     ]
    },
    {
     "name": "stderr",
     "output_type": "stream",
     "text": [
      "I0511 08:39:43.771031 139902602618752 basic_session_run_hooks.py:247] loss = 0.01188878, step = 10500 (102.792 sec)\n"
     ]
    },
    {
     "name": "stdout",
     "output_type": "stream",
     "text": [
      "INFO:tensorflow:global_step/sec: 1.08752\n"
     ]
    },
    {
     "name": "stderr",
     "output_type": "stream",
     "text": [
      "I0511 08:41:15.715856 139902602618752 basic_session_run_hooks.py:680] global_step/sec: 1.08752\n"
     ]
    },
    {
     "name": "stdout",
     "output_type": "stream",
     "text": [
      "INFO:tensorflow:loss = 0.004252244, step = 10600 (91.953 sec)\n"
     ]
    },
    {
     "name": "stderr",
     "output_type": "stream",
     "text": [
      "I0511 08:41:15.723919 139902602618752 basic_session_run_hooks.py:247] loss = 0.004252244, step = 10600 (91.953 sec)\n"
     ]
    },
    {
     "name": "stdout",
     "output_type": "stream",
     "text": [
      "INFO:tensorflow:global_step/sec: 1.09103\n"
     ]
    },
    {
     "name": "stderr",
     "output_type": "stream",
     "text": [
      "I0511 08:42:47.372409 139902602618752 basic_session_run_hooks.py:680] global_step/sec: 1.09103\n"
     ]
    },
    {
     "name": "stdout",
     "output_type": "stream",
     "text": [
      "INFO:tensorflow:loss = 0.0041330243, step = 10700 (91.653 sec)\n"
     ]
    },
    {
     "name": "stderr",
     "output_type": "stream",
     "text": [
      "I0511 08:42:47.377848 139902602618752 basic_session_run_hooks.py:247] loss = 0.0041330243, step = 10700 (91.653 sec)\n"
     ]
    },
    {
     "name": "stdout",
     "output_type": "stream",
     "text": [
      "INFO:tensorflow:global_step/sec: 1.09486\n"
     ]
    },
    {
     "name": "stderr",
     "output_type": "stream",
     "text": [
      "I0511 08:44:18.708675 139902602618752 basic_session_run_hooks.py:680] global_step/sec: 1.09486\n"
     ]
    },
    {
     "name": "stdout",
     "output_type": "stream",
     "text": [
      "INFO:tensorflow:loss = 0.1765197, step = 10800 (91.335 sec)\n"
     ]
    },
    {
     "name": "stderr",
     "output_type": "stream",
     "text": [
      "I0511 08:44:18.711602 139902602618752 basic_session_run_hooks.py:247] loss = 0.1765197, step = 10800 (91.335 sec)\n"
     ]
    },
    {
     "name": "stdout",
     "output_type": "stream",
     "text": [
      "INFO:tensorflow:global_step/sec: 1.09281\n"
     ]
    },
    {
     "name": "stderr",
     "output_type": "stream",
     "text": [
      "I0511 08:45:50.215823 139902602618752 basic_session_run_hooks.py:680] global_step/sec: 1.09281\n"
     ]
    },
    {
     "name": "stdout",
     "output_type": "stream",
     "text": [
      "INFO:tensorflow:loss = 0.189991, step = 10900 (91.509 sec)\n"
     ]
    },
    {
     "name": "stderr",
     "output_type": "stream",
     "text": [
      "I0511 08:45:50.220396 139902602618752 basic_session_run_hooks.py:247] loss = 0.189991, step = 10900 (91.509 sec)\n"
     ]
    },
    {
     "name": "stdout",
     "output_type": "stream",
     "text": [
      "INFO:tensorflow:Saving checkpoints for 11000 into OUTPUT_DIR_NAME/model.ckpt.\n"
     ]
    },
    {
     "name": "stderr",
     "output_type": "stream",
     "text": [
      "I0511 08:47:20.859659 139902602618752 basic_session_run_hooks.py:594] Saving checkpoints for 11000 into OUTPUT_DIR_NAME/model.ckpt.\n"
     ]
    },
    {
     "name": "stdout",
     "output_type": "stream",
     "text": [
      "INFO:tensorflow:global_step/sec: 0.974508\n"
     ]
    },
    {
     "name": "stderr",
     "output_type": "stream",
     "text": [
      "I0511 08:47:32.831701 139902602618752 basic_session_run_hooks.py:680] global_step/sec: 0.974508\n"
     ]
    },
    {
     "name": "stdout",
     "output_type": "stream",
     "text": [
      "INFO:tensorflow:loss = 0.0029476779, step = 11000 (102.616 sec)\n"
     ]
    },
    {
     "name": "stderr",
     "output_type": "stream",
     "text": [
      "I0511 08:47:32.836578 139902602618752 basic_session_run_hooks.py:247] loss = 0.0029476779, step = 11000 (102.616 sec)\n"
     ]
    },
    {
     "name": "stdout",
     "output_type": "stream",
     "text": [
      "INFO:tensorflow:global_step/sec: 1.08625\n"
     ]
    },
    {
     "name": "stderr",
     "output_type": "stream",
     "text": [
      "I0511 08:49:04.891513 139902602618752 basic_session_run_hooks.py:680] global_step/sec: 1.08625\n"
     ]
    },
    {
     "name": "stdout",
     "output_type": "stream",
     "text": [
      "INFO:tensorflow:loss = 0.048129342, step = 11100 (92.057 sec)\n"
     ]
    },
    {
     "name": "stderr",
     "output_type": "stream",
     "text": [
      "I0511 08:49:04.893748 139902602618752 basic_session_run_hooks.py:247] loss = 0.048129342, step = 11100 (92.057 sec)\n"
     ]
    },
    {
     "name": "stdout",
     "output_type": "stream",
     "text": [
      "INFO:tensorflow:global_step/sec: 1.09175\n"
     ]
    },
    {
     "name": "stderr",
     "output_type": "stream",
     "text": [
      "I0511 08:50:36.487490 139902602618752 basic_session_run_hooks.py:680] global_step/sec: 1.09175\n"
     ]
    },
    {
     "name": "stdout",
     "output_type": "stream",
     "text": [
      "INFO:tensorflow:loss = 0.006805, step = 11200 (91.599 sec)\n"
     ]
    },
    {
     "name": "stderr",
     "output_type": "stream",
     "text": [
      "I0511 08:50:36.493003 139902602618752 basic_session_run_hooks.py:247] loss = 0.006805, step = 11200 (91.599 sec)\n"
     ]
    },
    {
     "name": "stdout",
     "output_type": "stream",
     "text": [
      "INFO:tensorflow:global_step/sec: 1.09371\n"
     ]
    },
    {
     "name": "stderr",
     "output_type": "stream",
     "text": [
      "I0511 08:52:07.919096 139902602618752 basic_session_run_hooks.py:680] global_step/sec: 1.09371\n"
     ]
    },
    {
     "name": "stdout",
     "output_type": "stream",
     "text": [
      "INFO:tensorflow:loss = 0.0042664288, step = 11300 (91.431 sec)\n"
     ]
    },
    {
     "name": "stderr",
     "output_type": "stream",
     "text": [
      "I0511 08:52:07.924334 139902602618752 basic_session_run_hooks.py:247] loss = 0.0042664288, step = 11300 (91.431 sec)\n"
     ]
    },
    {
     "name": "stdout",
     "output_type": "stream",
     "text": [
      "INFO:tensorflow:global_step/sec: 1.0898\n"
     ]
    },
    {
     "name": "stderr",
     "output_type": "stream",
     "text": [
      "I0511 08:53:39.679140 139902602618752 basic_session_run_hooks.py:680] global_step/sec: 1.0898\n"
     ]
    },
    {
     "name": "stdout",
     "output_type": "stream",
     "text": [
      "INFO:tensorflow:loss = 0.05896864, step = 11400 (91.757 sec)\n"
     ]
    },
    {
     "name": "stderr",
     "output_type": "stream",
     "text": [
      "I0511 08:53:39.681617 139902602618752 basic_session_run_hooks.py:247] loss = 0.05896864, step = 11400 (91.757 sec)\n"
     ]
    },
    {
     "name": "stdout",
     "output_type": "stream",
     "text": [
      "INFO:tensorflow:Saving checkpoints for 11500 into OUTPUT_DIR_NAME/model.ckpt.\n"
     ]
    },
    {
     "name": "stderr",
     "output_type": "stream",
     "text": [
      "I0511 08:55:10.588564 139902602618752 basic_session_run_hooks.py:594] Saving checkpoints for 11500 into OUTPUT_DIR_NAME/model.ckpt.\n"
     ]
    },
    {
     "name": "stdout",
     "output_type": "stream",
     "text": [
      "INFO:tensorflow:global_step/sec: 0.970135\n"
     ]
    },
    {
     "name": "stderr",
     "output_type": "stream",
     "text": [
      "I0511 08:55:22.757492 139902602618752 basic_session_run_hooks.py:680] global_step/sec: 0.970135\n"
     ]
    },
    {
     "name": "stdout",
     "output_type": "stream",
     "text": [
      "INFO:tensorflow:loss = 0.00070955954, step = 11500 (103.083 sec)\n"
     ]
    },
    {
     "name": "stderr",
     "output_type": "stream",
     "text": [
      "I0511 08:55:22.764373 139902602618752 basic_session_run_hooks.py:247] loss = 0.00070955954, step = 11500 (103.083 sec)\n"
     ]
    },
    {
     "name": "stdout",
     "output_type": "stream",
     "text": [
      "INFO:tensorflow:global_step/sec: 1.08687\n"
     ]
    },
    {
     "name": "stderr",
     "output_type": "stream",
     "text": [
      "I0511 08:56:54.764950 139902602618752 basic_session_run_hooks.py:680] global_step/sec: 1.08687\n"
     ]
    },
    {
     "name": "stdout",
     "output_type": "stream",
     "text": [
      "INFO:tensorflow:loss = 0.2184477, step = 11600 (92.005 sec)\n"
     ]
    },
    {
     "name": "stderr",
     "output_type": "stream",
     "text": [
      "I0511 08:56:54.769559 139902602618752 basic_session_run_hooks.py:247] loss = 0.2184477, step = 11600 (92.005 sec)\n"
     ]
    },
    {
     "name": "stdout",
     "output_type": "stream",
     "text": [
      "INFO:tensorflow:global_step/sec: 1.0917\n"
     ]
    },
    {
     "name": "stderr",
     "output_type": "stream",
     "text": [
      "I0511 08:58:26.365408 139902602618752 basic_session_run_hooks.py:680] global_step/sec: 1.0917\n"
     ]
    },
    {
     "name": "stdout",
     "output_type": "stream",
     "text": [
      "INFO:tensorflow:loss = 0.0013988165, step = 11700 (91.603 sec)\n"
     ]
    },
    {
     "name": "stderr",
     "output_type": "stream",
     "text": [
      "I0511 08:58:26.372360 139902602618752 basic_session_run_hooks.py:247] loss = 0.0013988165, step = 11700 (91.603 sec)\n"
     ]
    },
    {
     "name": "stdout",
     "output_type": "stream",
     "text": [
      "INFO:tensorflow:global_step/sec: 1.09609\n"
     ]
    },
    {
     "name": "stderr",
     "output_type": "stream",
     "text": [
      "I0511 08:59:57.598839 139902602618752 basic_session_run_hooks.py:680] global_step/sec: 1.09609\n"
     ]
    },
    {
     "name": "stdout",
     "output_type": "stream",
     "text": [
      "INFO:tensorflow:loss = 0.0006800486, step = 11800 (91.232 sec)\n"
     ]
    },
    {
     "name": "stderr",
     "output_type": "stream",
     "text": [
      "I0511 08:59:57.604741 139902602618752 basic_session_run_hooks.py:247] loss = 0.0006800486, step = 11800 (91.232 sec)\n"
     ]
    },
    {
     "name": "stdout",
     "output_type": "stream",
     "text": [
      "INFO:tensorflow:global_step/sec: 1.09168\n"
     ]
    },
    {
     "name": "stderr",
     "output_type": "stream",
     "text": [
      "I0511 09:01:29.200826 139902602618752 basic_session_run_hooks.py:680] global_step/sec: 1.09168\n"
     ]
    },
    {
     "name": "stdout",
     "output_type": "stream",
     "text": [
      "INFO:tensorflow:loss = 0.0016014723, step = 11900 (91.601 sec)\n"
     ]
    },
    {
     "name": "stderr",
     "output_type": "stream",
     "text": [
      "I0511 09:01:29.205646 139902602618752 basic_session_run_hooks.py:247] loss = 0.0016014723, step = 11900 (91.601 sec)\n"
     ]
    },
    {
     "name": "stdout",
     "output_type": "stream",
     "text": [
      "INFO:tensorflow:Saving checkpoints for 12000 into OUTPUT_DIR_NAME/model.ckpt.\n"
     ]
    },
    {
     "name": "stderr",
     "output_type": "stream",
     "text": [
      "I0511 09:02:59.855271 139902602618752 basic_session_run_hooks.py:594] Saving checkpoints for 12000 into OUTPUT_DIR_NAME/model.ckpt.\n"
     ]
    },
    {
     "name": "stdout",
     "output_type": "stream",
     "text": [
      "INFO:tensorflow:global_step/sec: 0.972732\n"
     ]
    },
    {
     "name": "stderr",
     "output_type": "stream",
     "text": [
      "I0511 09:03:12.004127 139902602618752 basic_session_run_hooks.py:680] global_step/sec: 0.972732\n"
     ]
    },
    {
     "name": "stdout",
     "output_type": "stream",
     "text": [
      "INFO:tensorflow:loss = 0.0017442927, step = 12000 (102.801 sec)\n"
     ]
    },
    {
     "name": "stderr",
     "output_type": "stream",
     "text": [
      "I0511 09:03:12.006169 139902602618752 basic_session_run_hooks.py:247] loss = 0.0017442927, step = 12000 (102.801 sec)\n"
     ]
    },
    {
     "name": "stdout",
     "output_type": "stream",
     "text": [
      "INFO:tensorflow:global_step/sec: 1.08731\n"
     ]
    },
    {
     "name": "stderr",
     "output_type": "stream",
     "text": [
      "I0511 09:04:43.974172 139902602618752 basic_session_run_hooks.py:680] global_step/sec: 1.08731\n"
     ]
    },
    {
     "name": "stdout",
     "output_type": "stream",
     "text": [
      "INFO:tensorflow:loss = 0.035682477, step = 12100 (91.975 sec)\n"
     ]
    },
    {
     "name": "stderr",
     "output_type": "stream",
     "text": [
      "I0511 09:04:43.981432 139902602618752 basic_session_run_hooks.py:247] loss = 0.035682477, step = 12100 (91.975 sec)\n"
     ]
    },
    {
     "name": "stdout",
     "output_type": "stream",
     "text": [
      "INFO:tensorflow:global_step/sec: 1.09244\n"
     ]
    },
    {
     "name": "stderr",
     "output_type": "stream",
     "text": [
      "I0511 09:06:15.512416 139902602618752 basic_session_run_hooks.py:680] global_step/sec: 1.09244\n"
     ]
    },
    {
     "name": "stdout",
     "output_type": "stream",
     "text": [
      "INFO:tensorflow:loss = 0.0019937363, step = 12200 (91.537 sec)\n"
     ]
    },
    {
     "name": "stderr",
     "output_type": "stream",
     "text": [
      "I0511 09:06:15.518674 139902602618752 basic_session_run_hooks.py:247] loss = 0.0019937363, step = 12200 (91.537 sec)\n"
     ]
    },
    {
     "name": "stdout",
     "output_type": "stream",
     "text": [
      "INFO:tensorflow:global_step/sec: 1.09543\n"
     ]
    },
    {
     "name": "stderr",
     "output_type": "stream",
     "text": [
      "I0511 09:07:46.800672 139902602618752 basic_session_run_hooks.py:680] global_step/sec: 1.09543\n"
     ]
    },
    {
     "name": "stdout",
     "output_type": "stream",
     "text": [
      "INFO:tensorflow:loss = 0.0020594974, step = 12300 (91.285 sec)\n"
     ]
    },
    {
     "name": "stderr",
     "output_type": "stream",
     "text": [
      "I0511 09:07:46.803473 139902602618752 basic_session_run_hooks.py:247] loss = 0.0020594974, step = 12300 (91.285 sec)\n"
     ]
    },
    {
     "name": "stdout",
     "output_type": "stream",
     "text": [
      "INFO:tensorflow:global_step/sec: 1.09178\n"
     ]
    },
    {
     "name": "stderr",
     "output_type": "stream",
     "text": [
      "I0511 09:09:18.393985 139902602618752 basic_session_run_hooks.py:680] global_step/sec: 1.09178\n"
     ]
    },
    {
     "name": "stdout",
     "output_type": "stream",
     "text": [
      "INFO:tensorflow:loss = 0.0014238395, step = 12400 (91.595 sec)\n"
     ]
    },
    {
     "name": "stderr",
     "output_type": "stream",
     "text": [
      "I0511 09:09:18.398607 139902602618752 basic_session_run_hooks.py:247] loss = 0.0014238395, step = 12400 (91.595 sec)\n"
     ]
    },
    {
     "name": "stdout",
     "output_type": "stream",
     "text": [
      "INFO:tensorflow:Saving checkpoints for 12500 into OUTPUT_DIR_NAME/model.ckpt.\n"
     ]
    },
    {
     "name": "stderr",
     "output_type": "stream",
     "text": [
      "I0511 09:10:49.081176 139902602618752 basic_session_run_hooks.py:594] Saving checkpoints for 12500 into OUTPUT_DIR_NAME/model.ckpt.\n"
     ]
    },
    {
     "name": "stdout",
     "output_type": "stream",
     "text": [
      "INFO:tensorflow:global_step/sec: 0.971697\n"
     ]
    },
    {
     "name": "stderr",
     "output_type": "stream",
     "text": [
      "I0511 09:11:01.306695 139902602618752 basic_session_run_hooks.py:680] global_step/sec: 0.971697\n"
     ]
    },
    {
     "name": "stdout",
     "output_type": "stream",
     "text": [
      "INFO:tensorflow:loss = 0.09876967, step = 12500 (102.913 sec)\n"
     ]
    },
    {
     "name": "stderr",
     "output_type": "stream",
     "text": [
      "I0511 09:11:01.311994 139902602618752 basic_session_run_hooks.py:247] loss = 0.09876967, step = 12500 (102.913 sec)\n"
     ]
    },
    {
     "name": "stdout",
     "output_type": "stream",
     "text": [
      "INFO:tensorflow:global_step/sec: 1.08856\n"
     ]
    },
    {
     "name": "stderr",
     "output_type": "stream",
     "text": [
      "I0511 09:12:33.171325 139902602618752 basic_session_run_hooks.py:680] global_step/sec: 1.08856\n"
     ]
    },
    {
     "name": "stdout",
     "output_type": "stream",
     "text": [
      "INFO:tensorflow:loss = 0.023680942, step = 12600 (91.862 sec)\n"
     ]
    },
    {
     "name": "stderr",
     "output_type": "stream",
     "text": [
      "I0511 09:12:33.173846 139902602618752 basic_session_run_hooks.py:247] loss = 0.023680942, step = 12600 (91.862 sec)\n"
     ]
    },
    {
     "name": "stdout",
     "output_type": "stream",
     "text": [
      "INFO:tensorflow:global_step/sec: 1.09257\n"
     ]
    },
    {
     "name": "stderr",
     "output_type": "stream",
     "text": [
      "I0511 09:14:04.698931 139902602618752 basic_session_run_hooks.py:680] global_step/sec: 1.09257\n"
     ]
    },
    {
     "name": "stdout",
     "output_type": "stream",
     "text": [
      "INFO:tensorflow:loss = 0.00041208076, step = 12700 (91.528 sec)\n"
     ]
    },
    {
     "name": "stderr",
     "output_type": "stream",
     "text": [
      "I0511 09:14:04.701874 139902602618752 basic_session_run_hooks.py:247] loss = 0.00041208076, step = 12700 (91.528 sec)\n"
     ]
    },
    {
     "name": "stdout",
     "output_type": "stream",
     "text": [
      "INFO:tensorflow:global_step/sec: 1.09323\n"
     ]
    },
    {
     "name": "stderr",
     "output_type": "stream",
     "text": [
      "I0511 09:15:36.171205 139902602618752 basic_session_run_hooks.py:680] global_step/sec: 1.09323\n"
     ]
    },
    {
     "name": "stdout",
     "output_type": "stream",
     "text": [
      "INFO:tensorflow:loss = 0.2904098, step = 12800 (91.474 sec)\n"
     ]
    },
    {
     "name": "stderr",
     "output_type": "stream",
     "text": [
      "I0511 09:15:36.175523 139902602618752 basic_session_run_hooks.py:247] loss = 0.2904098, step = 12800 (91.474 sec)\n"
     ]
    },
    {
     "name": "stdout",
     "output_type": "stream",
     "text": [
      "INFO:tensorflow:global_step/sec: 1.09254\n"
     ]
    },
    {
     "name": "stderr",
     "output_type": "stream",
     "text": [
      "I0511 09:17:07.700663 139902602618752 basic_session_run_hooks.py:680] global_step/sec: 1.09254\n"
     ]
    },
    {
     "name": "stdout",
     "output_type": "stream",
     "text": [
      "INFO:tensorflow:loss = 0.000564025, step = 12900 (91.530 sec)\n"
     ]
    },
    {
     "name": "stderr",
     "output_type": "stream",
     "text": [
      "I0511 09:17:07.705942 139902602618752 basic_session_run_hooks.py:247] loss = 0.000564025, step = 12900 (91.530 sec)\n"
     ]
    },
    {
     "name": "stdout",
     "output_type": "stream",
     "text": [
      "INFO:tensorflow:Saving checkpoints for 13000 into OUTPUT_DIR_NAME/model.ckpt.\n"
     ]
    },
    {
     "name": "stderr",
     "output_type": "stream",
     "text": [
      "I0511 09:18:38.366403 139902602618752 basic_session_run_hooks.py:594] Saving checkpoints for 13000 into OUTPUT_DIR_NAME/model.ckpt.\n"
     ]
    },
    {
     "name": "stdout",
     "output_type": "stream",
     "text": [
      "INFO:tensorflow:global_step/sec: 0.973405\n"
     ]
    },
    {
     "name": "stderr",
     "output_type": "stream",
     "text": [
      "I0511 09:18:50.432857 139902602618752 basic_session_run_hooks.py:680] global_step/sec: 0.973405\n"
     ]
    },
    {
     "name": "stdout",
     "output_type": "stream",
     "text": [
      "INFO:tensorflow:loss = 0.002156462, step = 13000 (102.729 sec)\n"
     ]
    },
    {
     "name": "stderr",
     "output_type": "stream",
     "text": [
      "I0511 09:18:50.435237 139902602618752 basic_session_run_hooks.py:247] loss = 0.002156462, step = 13000 (102.729 sec)\n"
     ]
    },
    {
     "name": "stdout",
     "output_type": "stream",
     "text": [
      "INFO:tensorflow:global_step/sec: 1.08759\n"
     ]
    },
    {
     "name": "stderr",
     "output_type": "stream",
     "text": [
      "I0511 09:20:22.379350 139902602618752 basic_session_run_hooks.py:680] global_step/sec: 1.08759\n"
     ]
    },
    {
     "name": "stdout",
     "output_type": "stream",
     "text": [
      "INFO:tensorflow:loss = 0.010484898, step = 13100 (91.950 sec)\n"
     ]
    },
    {
     "name": "stderr",
     "output_type": "stream",
     "text": [
      "I0511 09:20:22.384793 139902602618752 basic_session_run_hooks.py:247] loss = 0.010484898, step = 13100 (91.950 sec)\n"
     ]
    },
    {
     "name": "stdout",
     "output_type": "stream",
     "text": [
      "INFO:tensorflow:global_step/sec: 1.09044\n"
     ]
    },
    {
     "name": "stderr",
     "output_type": "stream",
     "text": [
      "I0511 09:21:54.085113 139902602618752 basic_session_run_hooks.py:680] global_step/sec: 1.09044\n"
     ]
    },
    {
     "name": "stdout",
     "output_type": "stream",
     "text": [
      "INFO:tensorflow:loss = 0.052690327, step = 13200 (91.708 sec)\n"
     ]
    },
    {
     "name": "stderr",
     "output_type": "stream",
     "text": [
      "I0511 09:21:54.092463 139902602618752 basic_session_run_hooks.py:247] loss = 0.052690327, step = 13200 (91.708 sec)\n"
     ]
    },
    {
     "name": "stdout",
     "output_type": "stream",
     "text": [
      "INFO:tensorflow:global_step/sec: 1.09556\n"
     ]
    },
    {
     "name": "stderr",
     "output_type": "stream",
     "text": [
      "I0511 09:23:25.362211 139902602618752 basic_session_run_hooks.py:680] global_step/sec: 1.09556\n"
     ]
    },
    {
     "name": "stdout",
     "output_type": "stream",
     "text": [
      "INFO:tensorflow:loss = 0.0010994368, step = 13300 (91.277 sec)\n"
     ]
    },
    {
     "name": "stderr",
     "output_type": "stream",
     "text": [
      "I0511 09:23:25.369426 139902602618752 basic_session_run_hooks.py:247] loss = 0.0010994368, step = 13300 (91.277 sec)\n"
     ]
    },
    {
     "name": "stdout",
     "output_type": "stream",
     "text": [
      "INFO:tensorflow:global_step/sec: 1.09138\n"
     ]
    },
    {
     "name": "stderr",
     "output_type": "stream",
     "text": [
      "I0511 09:24:56.989598 139902602618752 basic_session_run_hooks.py:680] global_step/sec: 1.09138\n"
     ]
    },
    {
     "name": "stdout",
     "output_type": "stream",
     "text": [
      "INFO:tensorflow:loss = 0.0021717465, step = 13400 (91.624 sec)\n"
     ]
    },
    {
     "name": "stderr",
     "output_type": "stream",
     "text": [
      "I0511 09:24:56.993288 139902602618752 basic_session_run_hooks.py:247] loss = 0.0021717465, step = 13400 (91.624 sec)\n"
     ]
    },
    {
     "name": "stdout",
     "output_type": "stream",
     "text": [
      "INFO:tensorflow:Saving checkpoints for 13500 into OUTPUT_DIR_NAME/model.ckpt.\n"
     ]
    },
    {
     "name": "stderr",
     "output_type": "stream",
     "text": [
      "I0511 09:26:27.712803 139902602618752 basic_session_run_hooks.py:594] Saving checkpoints for 13500 into OUTPUT_DIR_NAME/model.ckpt.\n"
     ]
    },
    {
     "name": "stdout",
     "output_type": "stream",
     "text": [
      "INFO:tensorflow:global_step/sec: 0.970851\n"
     ]
    },
    {
     "name": "stderr",
     "output_type": "stream",
     "text": [
      "I0511 09:26:39.991962 139902602618752 basic_session_run_hooks.py:680] global_step/sec: 0.970851\n"
     ]
    },
    {
     "name": "stdout",
     "output_type": "stream",
     "text": [
      "INFO:tensorflow:loss = 0.0007924219, step = 13500 (103.006 sec)\n"
     ]
    },
    {
     "name": "stderr",
     "output_type": "stream",
     "text": [
      "I0511 09:26:39.999180 139902602618752 basic_session_run_hooks.py:247] loss = 0.0007924219, step = 13500 (103.006 sec)\n"
     ]
    },
    {
     "name": "stdout",
     "output_type": "stream",
     "text": [
      "INFO:tensorflow:global_step/sec: 1.08703\n"
     ]
    },
    {
     "name": "stderr",
     "output_type": "stream",
     "text": [
      "I0511 09:28:11.985798 139902602618752 basic_session_run_hooks.py:680] global_step/sec: 1.08703\n"
     ]
    },
    {
     "name": "stdout",
     "output_type": "stream",
     "text": [
      "INFO:tensorflow:loss = 0.0012684524, step = 13600 (91.991 sec)\n"
     ]
    },
    {
     "name": "stderr",
     "output_type": "stream",
     "text": [
      "I0511 09:28:11.990673 139902602618752 basic_session_run_hooks.py:247] loss = 0.0012684524, step = 13600 (91.991 sec)\n"
     ]
    },
    {
     "name": "stdout",
     "output_type": "stream",
     "text": [
      "INFO:tensorflow:global_step/sec: 1.09142\n"
     ]
    },
    {
     "name": "stderr",
     "output_type": "stream",
     "text": [
      "I0511 09:29:43.609440 139902602618752 basic_session_run_hooks.py:680] global_step/sec: 1.09142\n"
     ]
    },
    {
     "name": "stdout",
     "output_type": "stream",
     "text": [
      "INFO:tensorflow:loss = 0.0015448288, step = 13700 (91.624 sec)\n"
     ]
    },
    {
     "name": "stderr",
     "output_type": "stream",
     "text": [
      "I0511 09:29:43.614316 139902602618752 basic_session_run_hooks.py:247] loss = 0.0015448288, step = 13700 (91.624 sec)\n"
     ]
    },
    {
     "name": "stdout",
     "output_type": "stream",
     "text": [
      "INFO:tensorflow:global_step/sec: 1.09457\n"
     ]
    },
    {
     "name": "stderr",
     "output_type": "stream",
     "text": [
      "I0511 09:31:14.969445 139902602618752 basic_session_run_hooks.py:680] global_step/sec: 1.09457\n"
     ]
    },
    {
     "name": "stdout",
     "output_type": "stream",
     "text": [
      "INFO:tensorflow:loss = 0.0027573933, step = 13800 (91.363 sec)\n"
     ]
    },
    {
     "name": "stderr",
     "output_type": "stream",
     "text": [
      "I0511 09:31:14.977471 139902602618752 basic_session_run_hooks.py:247] loss = 0.0027573933, step = 13800 (91.363 sec)\n"
     ]
    },
    {
     "name": "stdout",
     "output_type": "stream",
     "text": [
      "INFO:tensorflow:global_step/sec: 1.09214\n"
     ]
    },
    {
     "name": "stderr",
     "output_type": "stream",
     "text": [
      "I0511 09:32:46.532827 139902602618752 basic_session_run_hooks.py:680] global_step/sec: 1.09214\n"
     ]
    },
    {
     "name": "stdout",
     "output_type": "stream",
     "text": [
      "INFO:tensorflow:loss = 0.00075640326, step = 13900 (91.562 sec)\n"
     ]
    },
    {
     "name": "stderr",
     "output_type": "stream",
     "text": [
      "I0511 09:32:46.539954 139902602618752 basic_session_run_hooks.py:247] loss = 0.00075640326, step = 13900 (91.562 sec)\n"
     ]
    },
    {
     "name": "stdout",
     "output_type": "stream",
     "text": [
      "INFO:tensorflow:Saving checkpoints for 14000 into OUTPUT_DIR_NAME/model.ckpt.\n"
     ]
    },
    {
     "name": "stderr",
     "output_type": "stream",
     "text": [
      "I0511 09:34:17.162159 139902602618752 basic_session_run_hooks.py:594] Saving checkpoints for 14000 into OUTPUT_DIR_NAME/model.ckpt.\n"
     ]
    },
    {
     "name": "stdout",
     "output_type": "stream",
     "text": [
      "INFO:tensorflow:global_step/sec: 0.970261\n"
     ]
    },
    {
     "name": "stderr",
     "output_type": "stream",
     "text": [
      "I0511 09:34:29.597854 139902602618752 basic_session_run_hooks.py:680] global_step/sec: 0.970261\n"
     ]
    },
    {
     "name": "stdout",
     "output_type": "stream",
     "text": [
      "INFO:tensorflow:loss = 0.0019159087, step = 14000 (103.065 sec)\n"
     ]
    },
    {
     "name": "stderr",
     "output_type": "stream",
     "text": [
      "I0511 09:34:29.605445 139902602618752 basic_session_run_hooks.py:247] loss = 0.0019159087, step = 14000 (103.065 sec)\n"
     ]
    },
    {
     "name": "stdout",
     "output_type": "stream",
     "text": [
      "INFO:tensorflow:global_step/sec: 1.08809\n"
     ]
    },
    {
     "name": "stderr",
     "output_type": "stream",
     "text": [
      "I0511 09:36:01.502003 139902602618752 basic_session_run_hooks.py:680] global_step/sec: 1.08809\n"
     ]
    },
    {
     "name": "stdout",
     "output_type": "stream",
     "text": [
      "INFO:tensorflow:loss = 0.019574406, step = 14100 (91.903 sec)\n"
     ]
    },
    {
     "name": "stderr",
     "output_type": "stream",
     "text": [
      "I0511 09:36:01.508547 139902602618752 basic_session_run_hooks.py:247] loss = 0.019574406, step = 14100 (91.903 sec)\n"
     ]
    },
    {
     "name": "stdout",
     "output_type": "stream",
     "text": [
      "INFO:tensorflow:global_step/sec: 1.09222\n"
     ]
    },
    {
     "name": "stderr",
     "output_type": "stream",
     "text": [
      "I0511 09:37:33.058810 139902602618752 basic_session_run_hooks.py:680] global_step/sec: 1.09222\n"
     ]
    },
    {
     "name": "stdout",
     "output_type": "stream",
     "text": [
      "INFO:tensorflow:loss = 0.0038271903, step = 14200 (91.557 sec)\n"
     ]
    },
    {
     "name": "stderr",
     "output_type": "stream",
     "text": [
      "I0511 09:37:33.066368 139902602618752 basic_session_run_hooks.py:247] loss = 0.0038271903, step = 14200 (91.557 sec)\n"
     ]
    },
    {
     "name": "stdout",
     "output_type": "stream",
     "text": [
      "INFO:tensorflow:global_step/sec: 1.09331\n"
     ]
    },
    {
     "name": "stderr",
     "output_type": "stream",
     "text": [
      "I0511 09:39:04.524603 139902602618752 basic_session_run_hooks.py:680] global_step/sec: 1.09331\n"
     ]
    },
    {
     "name": "stdout",
     "output_type": "stream",
     "text": [
      "INFO:tensorflow:loss = 0.0002673895, step = 14300 (91.465 sec)\n"
     ]
    },
    {
     "name": "stderr",
     "output_type": "stream",
     "text": [
      "I0511 09:39:04.531046 139902602618752 basic_session_run_hooks.py:247] loss = 0.0002673895, step = 14300 (91.465 sec)\n"
     ]
    },
    {
     "name": "stdout",
     "output_type": "stream",
     "text": [
      "INFO:tensorflow:global_step/sec: 1.08983\n"
     ]
    },
    {
     "name": "stderr",
     "output_type": "stream",
     "text": [
      "I0511 09:40:36.281882 139902602618752 basic_session_run_hooks.py:680] global_step/sec: 1.08983\n"
     ]
    },
    {
     "name": "stdout",
     "output_type": "stream",
     "text": [
      "INFO:tensorflow:loss = 0.0008244823, step = 14400 (91.756 sec)\n"
     ]
    },
    {
     "name": "stderr",
     "output_type": "stream",
     "text": [
      "I0511 09:40:36.286588 139902602618752 basic_session_run_hooks.py:247] loss = 0.0008244823, step = 14400 (91.756 sec)\n"
     ]
    },
    {
     "name": "stdout",
     "output_type": "stream",
     "text": [
      "INFO:tensorflow:Saving checkpoints for 14500 into OUTPUT_DIR_NAME/model.ckpt.\n"
     ]
    },
    {
     "name": "stderr",
     "output_type": "stream",
     "text": [
      "I0511 09:42:07.140031 139902602618752 basic_session_run_hooks.py:594] Saving checkpoints for 14500 into OUTPUT_DIR_NAME/model.ckpt.\n"
     ]
    },
    {
     "name": "stdout",
     "output_type": "stream",
     "text": [
      "INFO:tensorflow:global_step/sec: 0.968594\n"
     ]
    },
    {
     "name": "stderr",
     "output_type": "stream",
     "text": [
      "I0511 09:42:19.524296 139902602618752 basic_session_run_hooks.py:680] global_step/sec: 0.968594\n"
     ]
    },
    {
     "name": "stdout",
     "output_type": "stream",
     "text": [
      "INFO:tensorflow:loss = 0.0011738675, step = 14500 (103.242 sec)\n"
     ]
    },
    {
     "name": "stderr",
     "output_type": "stream",
     "text": [
      "I0511 09:42:19.528489 139902602618752 basic_session_run_hooks.py:247] loss = 0.0011738675, step = 14500 (103.242 sec)\n"
     ]
    },
    {
     "name": "stdout",
     "output_type": "stream",
     "text": [
      "INFO:tensorflow:global_step/sec: 1.08687\n"
     ]
    },
    {
     "name": "stderr",
     "output_type": "stream",
     "text": [
      "I0511 09:43:51.531387 139902602618752 basic_session_run_hooks.py:680] global_step/sec: 1.08687\n"
     ]
    },
    {
     "name": "stdout",
     "output_type": "stream",
     "text": [
      "INFO:tensorflow:loss = 0.16295908, step = 14600 (92.008 sec)\n"
     ]
    },
    {
     "name": "stderr",
     "output_type": "stream",
     "text": [
      "I0511 09:43:51.536234 139902602618752 basic_session_run_hooks.py:247] loss = 0.16295908, step = 14600 (92.008 sec)\n"
     ]
    },
    {
     "name": "stdout",
     "output_type": "stream",
     "text": [
      "INFO:tensorflow:global_step/sec: 1.09272\n"
     ]
    },
    {
     "name": "stderr",
     "output_type": "stream",
     "text": [
      "I0511 09:45:23.046207 139902602618752 basic_session_run_hooks.py:680] global_step/sec: 1.09272\n"
     ]
    },
    {
     "name": "stdout",
     "output_type": "stream",
     "text": [
      "INFO:tensorflow:loss = 0.0007499661, step = 14700 (91.516 sec)\n"
     ]
    },
    {
     "name": "stderr",
     "output_type": "stream",
     "text": [
      "I0511 09:45:23.052286 139902602618752 basic_session_run_hooks.py:247] loss = 0.0007499661, step = 14700 (91.516 sec)\n"
     ]
    },
    {
     "name": "stdout",
     "output_type": "stream",
     "text": [
      "INFO:tensorflow:global_step/sec: 1.09256\n"
     ]
    },
    {
     "name": "stderr",
     "output_type": "stream",
     "text": [
      "I0511 09:46:54.574048 139902602618752 basic_session_run_hooks.py:680] global_step/sec: 1.09256\n"
     ]
    },
    {
     "name": "stdout",
     "output_type": "stream",
     "text": [
      "INFO:tensorflow:loss = 0.0005197737, step = 14800 (91.530 sec)\n"
     ]
    },
    {
     "name": "stderr",
     "output_type": "stream",
     "text": [
      "I0511 09:46:54.581868 139902602618752 basic_session_run_hooks.py:247] loss = 0.0005197737, step = 14800 (91.530 sec)\n"
     ]
    },
    {
     "name": "stdout",
     "output_type": "stream",
     "text": [
      "INFO:tensorflow:global_step/sec: 1.09475\n"
     ]
    },
    {
     "name": "stderr",
     "output_type": "stream",
     "text": [
      "I0511 09:48:25.919288 139902602618752 basic_session_run_hooks.py:680] global_step/sec: 1.09475\n"
     ]
    },
    {
     "name": "stdout",
     "output_type": "stream",
     "text": [
      "INFO:tensorflow:loss = 0.12587449, step = 14900 (91.340 sec)\n"
     ]
    },
    {
     "name": "stderr",
     "output_type": "stream",
     "text": [
      "I0511 09:48:25.921444 139902602618752 basic_session_run_hooks.py:247] loss = 0.12587449, step = 14900 (91.340 sec)\n"
     ]
    },
    {
     "name": "stdout",
     "output_type": "stream",
     "text": [
      "INFO:tensorflow:Saving checkpoints for 15000 into OUTPUT_DIR_NAME/model.ckpt.\n"
     ]
    },
    {
     "name": "stderr",
     "output_type": "stream",
     "text": [
      "I0511 09:49:56.449738 139902602618752 basic_session_run_hooks.py:594] Saving checkpoints for 15000 into OUTPUT_DIR_NAME/model.ckpt.\n"
     ]
    },
    {
     "name": "stdout",
     "output_type": "stream",
     "text": [
      "INFO:tensorflow:global_step/sec: 0.973601\n"
     ]
    },
    {
     "name": "stderr",
     "output_type": "stream",
     "text": [
      "I0511 09:50:08.630802 139902602618752 basic_session_run_hooks.py:680] global_step/sec: 0.973601\n"
     ]
    },
    {
     "name": "stdout",
     "output_type": "stream",
     "text": [
      "INFO:tensorflow:loss = 0.0012134393, step = 15000 (102.712 sec)\n"
     ]
    },
    {
     "name": "stderr",
     "output_type": "stream",
     "text": [
      "I0511 09:50:08.633061 139902602618752 basic_session_run_hooks.py:247] loss = 0.0012134393, step = 15000 (102.712 sec)\n"
     ]
    },
    {
     "name": "stdout",
     "output_type": "stream",
     "text": [
      "INFO:tensorflow:global_step/sec: 1.08818\n"
     ]
    },
    {
     "name": "stderr",
     "output_type": "stream",
     "text": [
      "I0511 09:51:40.527093 139902602618752 basic_session_run_hooks.py:680] global_step/sec: 1.08818\n"
     ]
    },
    {
     "name": "stdout",
     "output_type": "stream",
     "text": [
      "INFO:tensorflow:loss = 0.29853916, step = 15100 (91.896 sec)\n"
     ]
    },
    {
     "name": "stderr",
     "output_type": "stream",
     "text": [
      "I0511 09:51:40.529520 139902602618752 basic_session_run_hooks.py:247] loss = 0.29853916, step = 15100 (91.896 sec)\n"
     ]
    },
    {
     "name": "stdout",
     "output_type": "stream",
     "text": [
      "INFO:tensorflow:global_step/sec: 1.09248\n"
     ]
    },
    {
     "name": "stderr",
     "output_type": "stream",
     "text": [
      "I0511 09:53:12.062405 139902602618752 basic_session_run_hooks.py:680] global_step/sec: 1.09248\n"
     ]
    },
    {
     "name": "stdout",
     "output_type": "stream",
     "text": [
      "INFO:tensorflow:loss = 0.005800226, step = 15200 (91.535 sec)\n"
     ]
    },
    {
     "name": "stderr",
     "output_type": "stream",
     "text": [
      "I0511 09:53:12.064819 139902602618752 basic_session_run_hooks.py:247] loss = 0.005800226, step = 15200 (91.535 sec)\n"
     ]
    },
    {
     "name": "stdout",
     "output_type": "stream",
     "text": [
      "INFO:tensorflow:global_step/sec: 1.09092\n"
     ]
    },
    {
     "name": "stderr",
     "output_type": "stream",
     "text": [
      "I0511 09:54:43.727738 139902602618752 basic_session_run_hooks.py:680] global_step/sec: 1.09092\n"
     ]
    },
    {
     "name": "stdout",
     "output_type": "stream",
     "text": [
      "INFO:tensorflow:loss = 0.0004973456, step = 15300 (91.668 sec)\n"
     ]
    },
    {
     "name": "stderr",
     "output_type": "stream",
     "text": [
      "I0511 09:54:43.732505 139902602618752 basic_session_run_hooks.py:247] loss = 0.0004973456, step = 15300 (91.668 sec)\n"
     ]
    },
    {
     "name": "stdout",
     "output_type": "stream",
     "text": [
      "INFO:tensorflow:global_step/sec: 1.08849\n"
     ]
    },
    {
     "name": "stderr",
     "output_type": "stream",
     "text": [
      "I0511 09:56:15.598266 139902602618752 basic_session_run_hooks.py:680] global_step/sec: 1.08849\n"
     ]
    },
    {
     "name": "stdout",
     "output_type": "stream",
     "text": [
      "INFO:tensorflow:loss = 0.13221182, step = 15400 (91.868 sec)\n"
     ]
    },
    {
     "name": "stderr",
     "output_type": "stream",
     "text": [
      "I0511 09:56:15.600564 139902602618752 basic_session_run_hooks.py:247] loss = 0.13221182, step = 15400 (91.868 sec)\n"
     ]
    },
    {
     "name": "stdout",
     "output_type": "stream",
     "text": [
      "INFO:tensorflow:Saving checkpoints for 15500 into OUTPUT_DIR_NAME/model.ckpt.\n"
     ]
    },
    {
     "name": "stderr",
     "output_type": "stream",
     "text": [
      "I0511 09:57:46.593793 139902602618752 basic_session_run_hooks.py:594] Saving checkpoints for 15500 into OUTPUT_DIR_NAME/model.ckpt.\n"
     ]
    },
    {
     "name": "stdout",
     "output_type": "stream",
     "text": [
      "INFO:tensorflow:global_step/sec: 0.963824\n"
     ]
    },
    {
     "name": "stderr",
     "output_type": "stream",
     "text": [
      "I0511 09:57:59.351616 139902602618752 basic_session_run_hooks.py:680] global_step/sec: 0.963824\n"
     ]
    },
    {
     "name": "stdout",
     "output_type": "stream",
     "text": [
      "INFO:tensorflow:loss = 0.010528876, step = 15500 (103.758 sec)\n"
     ]
    },
    {
     "name": "stderr",
     "output_type": "stream",
     "text": [
      "I0511 09:57:59.358190 139902602618752 basic_session_run_hooks.py:247] loss = 0.010528876, step = 15500 (103.758 sec)\n"
     ]
    },
    {
     "name": "stdout",
     "output_type": "stream",
     "text": [
      "INFO:tensorflow:global_step/sec: 1.08754\n"
     ]
    },
    {
     "name": "stderr",
     "output_type": "stream",
     "text": [
      "I0511 09:59:31.302168 139902602618752 basic_session_run_hooks.py:680] global_step/sec: 1.08754\n"
     ]
    },
    {
     "name": "stdout",
     "output_type": "stream",
     "text": [
      "INFO:tensorflow:loss = 0.00045260537, step = 15600 (91.948 sec)\n"
     ]
    },
    {
     "name": "stderr",
     "output_type": "stream",
     "text": [
      "I0511 09:59:31.306296 139902602618752 basic_session_run_hooks.py:247] loss = 0.00045260537, step = 15600 (91.948 sec)\n"
     ]
    },
    {
     "name": "stdout",
     "output_type": "stream",
     "text": [
      "INFO:tensorflow:global_step/sec: 1.09166\n"
     ]
    },
    {
     "name": "stderr",
     "output_type": "stream",
     "text": [
      "I0511 10:01:02.905797 139902602618752 basic_session_run_hooks.py:680] global_step/sec: 1.09166\n"
     ]
    },
    {
     "name": "stdout",
     "output_type": "stream",
     "text": [
      "INFO:tensorflow:loss = 0.00054916803, step = 15700 (91.607 sec)\n"
     ]
    },
    {
     "name": "stderr",
     "output_type": "stream",
     "text": [
      "I0511 10:01:02.913279 139902602618752 basic_session_run_hooks.py:247] loss = 0.00054916803, step = 15700 (91.607 sec)\n"
     ]
    },
    {
     "name": "stdout",
     "output_type": "stream",
     "text": [
      "INFO:tensorflow:global_step/sec: 1.09503\n"
     ]
    },
    {
     "name": "stderr",
     "output_type": "stream",
     "text": [
      "I0511 10:02:34.227415 139902602618752 basic_session_run_hooks.py:680] global_step/sec: 1.09503\n"
     ]
    },
    {
     "name": "stdout",
     "output_type": "stream",
     "text": [
      "INFO:tensorflow:loss = 0.0008644942, step = 15800 (91.317 sec)\n"
     ]
    },
    {
     "name": "stderr",
     "output_type": "stream",
     "text": [
      "I0511 10:02:34.230223 139902602618752 basic_session_run_hooks.py:247] loss = 0.0008644942, step = 15800 (91.317 sec)\n"
     ]
    },
    {
     "name": "stdout",
     "output_type": "stream",
     "text": [
      "INFO:tensorflow:global_step/sec: 1.09224\n"
     ]
    },
    {
     "name": "stderr",
     "output_type": "stream",
     "text": [
      "I0511 10:04:05.782780 139902602618752 basic_session_run_hooks.py:680] global_step/sec: 1.09224\n"
     ]
    },
    {
     "name": "stdout",
     "output_type": "stream",
     "text": [
      "INFO:tensorflow:loss = 0.010923194, step = 15900 (91.555 sec)\n"
     ]
    },
    {
     "name": "stderr",
     "output_type": "stream",
     "text": [
      "I0511 10:04:05.784922 139902602618752 basic_session_run_hooks.py:247] loss = 0.010923194, step = 15900 (91.555 sec)\n"
     ]
    },
    {
     "name": "stdout",
     "output_type": "stream",
     "text": [
      "INFO:tensorflow:Saving checkpoints for 16000 into OUTPUT_DIR_NAME/model.ckpt.\n"
     ]
    },
    {
     "name": "stderr",
     "output_type": "stream",
     "text": [
      "I0511 10:05:36.424878 139902602618752 basic_session_run_hooks.py:594] Saving checkpoints for 16000 into OUTPUT_DIR_NAME/model.ckpt.\n"
     ]
    },
    {
     "name": "stdout",
     "output_type": "stream",
     "text": [
      "INFO:tensorflow:global_step/sec: 0.973215\n"
     ]
    },
    {
     "name": "stderr",
     "output_type": "stream",
     "text": [
      "I0511 10:05:48.535030 139902602618752 basic_session_run_hooks.py:680] global_step/sec: 0.973215\n"
     ]
    },
    {
     "name": "stdout",
     "output_type": "stream",
     "text": [
      "INFO:tensorflow:loss = 0.0010539098, step = 16000 (102.754 sec)\n"
     ]
    },
    {
     "name": "stderr",
     "output_type": "stream",
     "text": [
      "I0511 10:05:48.539422 139902602618752 basic_session_run_hooks.py:247] loss = 0.0010539098, step = 16000 (102.754 sec)\n"
     ]
    },
    {
     "name": "stdout",
     "output_type": "stream",
     "text": [
      "INFO:tensorflow:global_step/sec: 1.08514\n"
     ]
    },
    {
     "name": "stderr",
     "output_type": "stream",
     "text": [
      "I0511 10:07:20.688621 139902602618752 basic_session_run_hooks.py:680] global_step/sec: 1.08514\n"
     ]
    },
    {
     "name": "stdout",
     "output_type": "stream",
     "text": [
      "INFO:tensorflow:loss = 0.0007408334, step = 16100 (92.152 sec)\n"
     ]
    },
    {
     "name": "stderr",
     "output_type": "stream",
     "text": [
      "I0511 10:07:20.691138 139902602618752 basic_session_run_hooks.py:247] loss = 0.0007408334, step = 16100 (92.152 sec)\n"
     ]
    },
    {
     "name": "stdout",
     "output_type": "stream",
     "text": [
      "INFO:tensorflow:global_step/sec: 1.09205\n"
     ]
    },
    {
     "name": "stderr",
     "output_type": "stream",
     "text": [
      "I0511 10:08:52.259361 139902602618752 basic_session_run_hooks.py:680] global_step/sec: 1.09205\n"
     ]
    },
    {
     "name": "stdout",
     "output_type": "stream",
     "text": [
      "INFO:tensorflow:loss = 0.0007167567, step = 16200 (91.573 sec)\n"
     ]
    },
    {
     "name": "stderr",
     "output_type": "stream",
     "text": [
      "I0511 10:08:52.264260 139902602618752 basic_session_run_hooks.py:247] loss = 0.0007167567, step = 16200 (91.573 sec)\n"
     ]
    },
    {
     "name": "stdout",
     "output_type": "stream",
     "text": [
      "INFO:tensorflow:global_step/sec: 1.09513\n"
     ]
    },
    {
     "name": "stderr",
     "output_type": "stream",
     "text": [
      "I0511 10:10:23.572398 139902602618752 basic_session_run_hooks.py:680] global_step/sec: 1.09513\n"
     ]
    },
    {
     "name": "stdout",
     "output_type": "stream",
     "text": [
      "INFO:tensorflow:loss = 0.00078580494, step = 16300 (91.314 sec)\n"
     ]
    },
    {
     "name": "stderr",
     "output_type": "stream",
     "text": [
      "I0511 10:10:23.578608 139902602618752 basic_session_run_hooks.py:247] loss = 0.00078580494, step = 16300 (91.314 sec)\n"
     ]
    },
    {
     "name": "stdout",
     "output_type": "stream",
     "text": [
      "INFO:tensorflow:global_step/sec: 1.09259\n"
     ]
    },
    {
     "name": "stderr",
     "output_type": "stream",
     "text": [
      "I0511 10:11:55.097673 139902602618752 basic_session_run_hooks.py:680] global_step/sec: 1.09259\n"
     ]
    },
    {
     "name": "stdout",
     "output_type": "stream",
     "text": [
      "INFO:tensorflow:loss = 0.00034722016, step = 16400 (91.524 sec)\n"
     ]
    },
    {
     "name": "stderr",
     "output_type": "stream",
     "text": [
      "I0511 10:11:55.102517 139902602618752 basic_session_run_hooks.py:247] loss = 0.00034722016, step = 16400 (91.524 sec)\n"
     ]
    },
    {
     "name": "stdout",
     "output_type": "stream",
     "text": [
      "INFO:tensorflow:Saving checkpoints for 16500 into OUTPUT_DIR_NAME/model.ckpt.\n"
     ]
    },
    {
     "name": "stderr",
     "output_type": "stream",
     "text": [
      "I0511 10:13:25.693695 139902602618752 basic_session_run_hooks.py:594] Saving checkpoints for 16500 into OUTPUT_DIR_NAME/model.ckpt.\n"
     ]
    },
    {
     "name": "stdout",
     "output_type": "stream",
     "text": [
      "INFO:tensorflow:global_step/sec: 0.971225\n"
     ]
    },
    {
     "name": "stderr",
     "output_type": "stream",
     "text": [
      "I0511 10:13:38.060446 139902602618752 basic_session_run_hooks.py:680] global_step/sec: 0.971225\n"
     ]
    },
    {
     "name": "stdout",
     "output_type": "stream",
     "text": [
      "INFO:tensorflow:loss = 0.00027925227, step = 16500 (102.964 sec)\n"
     ]
    },
    {
     "name": "stderr",
     "output_type": "stream",
     "text": [
      "I0511 10:13:38.066114 139902602618752 basic_session_run_hooks.py:247] loss = 0.00027925227, step = 16500 (102.964 sec)\n"
     ]
    },
    {
     "name": "stdout",
     "output_type": "stream",
     "text": [
      "INFO:tensorflow:global_step/sec: 1.08595\n"
     ]
    },
    {
     "name": "stderr",
     "output_type": "stream",
     "text": [
      "I0511 10:15:10.145570 139902602618752 basic_session_run_hooks.py:680] global_step/sec: 1.08595\n"
     ]
    },
    {
     "name": "stdout",
     "output_type": "stream",
     "text": [
      "INFO:tensorflow:loss = 0.00046396168, step = 16600 (92.084 sec)\n"
     ]
    },
    {
     "name": "stderr",
     "output_type": "stream",
     "text": [
      "I0511 10:15:10.150353 139902602618752 basic_session_run_hooks.py:247] loss = 0.00046396168, step = 16600 (92.084 sec)\n"
     ]
    },
    {
     "name": "stdout",
     "output_type": "stream",
     "text": [
      "INFO:tensorflow:global_step/sec: 1.09163\n"
     ]
    },
    {
     "name": "stderr",
     "output_type": "stream",
     "text": [
      "I0511 10:16:41.752032 139902602618752 basic_session_run_hooks.py:680] global_step/sec: 1.09163\n"
     ]
    },
    {
     "name": "stdout",
     "output_type": "stream",
     "text": [
      "INFO:tensorflow:loss = 0.0012636015, step = 16700 (91.607 sec)\n"
     ]
    },
    {
     "name": "stderr",
     "output_type": "stream",
     "text": [
      "I0511 10:16:41.757378 139902602618752 basic_session_run_hooks.py:247] loss = 0.0012636015, step = 16700 (91.607 sec)\n"
     ]
    },
    {
     "name": "stdout",
     "output_type": "stream",
     "text": [
      "INFO:tensorflow:global_step/sec: 1.09585\n"
     ]
    },
    {
     "name": "stderr",
     "output_type": "stream",
     "text": [
      "I0511 10:18:13.005290 139902602618752 basic_session_run_hooks.py:680] global_step/sec: 1.09585\n"
     ]
    },
    {
     "name": "stdout",
     "output_type": "stream",
     "text": [
      "INFO:tensorflow:loss = 0.00031322075, step = 16800 (91.250 sec)\n"
     ]
    },
    {
     "name": "stderr",
     "output_type": "stream",
     "text": [
      "I0511 10:18:13.007829 139902602618752 basic_session_run_hooks.py:247] loss = 0.00031322075, step = 16800 (91.250 sec)\n"
     ]
    },
    {
     "name": "stdout",
     "output_type": "stream",
     "text": [
      "INFO:tensorflow:global_step/sec: 1.09322\n"
     ]
    },
    {
     "name": "stderr",
     "output_type": "stream",
     "text": [
      "I0511 10:19:44.478629 139902602618752 basic_session_run_hooks.py:680] global_step/sec: 1.09322\n"
     ]
    },
    {
     "name": "stdout",
     "output_type": "stream",
     "text": [
      "INFO:tensorflow:loss = 0.00029714, step = 16900 (91.473 sec)\n"
     ]
    },
    {
     "name": "stderr",
     "output_type": "stream",
     "text": [
      "I0511 10:19:44.481200 139902602618752 basic_session_run_hooks.py:247] loss = 0.00029714, step = 16900 (91.473 sec)\n"
     ]
    },
    {
     "name": "stdout",
     "output_type": "stream",
     "text": [
      "INFO:tensorflow:Saving checkpoints for 17000 into OUTPUT_DIR_NAME/model.ckpt.\n"
     ]
    },
    {
     "name": "stderr",
     "output_type": "stream",
     "text": [
      "I0511 10:21:15.012251 139902602618752 basic_session_run_hooks.py:594] Saving checkpoints for 17000 into OUTPUT_DIR_NAME/model.ckpt.\n"
     ]
    },
    {
     "name": "stdout",
     "output_type": "stream",
     "text": [
      "INFO:tensorflow:global_step/sec: 0.975605\n"
     ]
    },
    {
     "name": "stderr",
     "output_type": "stream",
     "text": [
      "I0511 10:21:26.979100 139902602618752 basic_session_run_hooks.py:680] global_step/sec: 0.975605\n"
     ]
    },
    {
     "name": "stdout",
     "output_type": "stream",
     "text": [
      "INFO:tensorflow:loss = 0.0002653069, step = 17000 (102.503 sec)\n"
     ]
    },
    {
     "name": "stderr",
     "output_type": "stream",
     "text": [
      "I0511 10:21:26.983995 139902602618752 basic_session_run_hooks.py:247] loss = 0.0002653069, step = 17000 (102.503 sec)\n"
     ]
    },
    {
     "name": "stdout",
     "output_type": "stream",
     "text": [
      "INFO:tensorflow:global_step/sec: 1.08845\n"
     ]
    },
    {
     "name": "stderr",
     "output_type": "stream",
     "text": [
      "I0511 10:22:58.852780 139902602618752 basic_session_run_hooks.py:680] global_step/sec: 1.08845\n"
     ]
    },
    {
     "name": "stdout",
     "output_type": "stream",
     "text": [
      "INFO:tensorflow:loss = 0.00013039386, step = 17100 (91.873 sec)\n"
     ]
    },
    {
     "name": "stderr",
     "output_type": "stream",
     "text": [
      "I0511 10:22:58.857476 139902602618752 basic_session_run_hooks.py:247] loss = 0.00013039386, step = 17100 (91.873 sec)\n"
     ]
    },
    {
     "name": "stdout",
     "output_type": "stream",
     "text": [
      "INFO:tensorflow:global_step/sec: 1.09316\n"
     ]
    },
    {
     "name": "stderr",
     "output_type": "stream",
     "text": [
      "I0511 10:24:30.330762 139902602618752 basic_session_run_hooks.py:680] global_step/sec: 1.09316\n"
     ]
    },
    {
     "name": "stdout",
     "output_type": "stream",
     "text": [
      "INFO:tensorflow:loss = 0.00021121348, step = 17200 (91.478 sec)\n"
     ]
    },
    {
     "name": "stderr",
     "output_type": "stream",
     "text": [
      "I0511 10:24:30.335360 139902602618752 basic_session_run_hooks.py:247] loss = 0.00021121348, step = 17200 (91.478 sec)\n"
     ]
    },
    {
     "name": "stdout",
     "output_type": "stream",
     "text": [
      "INFO:tensorflow:global_step/sec: 1.09399\n"
     ]
    },
    {
     "name": "stderr",
     "output_type": "stream",
     "text": [
      "I0511 10:26:01.739279 139902602618752 basic_session_run_hooks.py:680] global_step/sec: 1.09399\n"
     ]
    },
    {
     "name": "stdout",
     "output_type": "stream",
     "text": [
      "INFO:tensorflow:loss = 0.00033176073, step = 17300 (91.410 sec)\n"
     ]
    },
    {
     "name": "stderr",
     "output_type": "stream",
     "text": [
      "I0511 10:26:01.745462 139902602618752 basic_session_run_hooks.py:247] loss = 0.00033176073, step = 17300 (91.410 sec)\n"
     ]
    },
    {
     "name": "stdout",
     "output_type": "stream",
     "text": [
      "INFO:tensorflow:global_step/sec: 1.09255\n"
     ]
    },
    {
     "name": "stderr",
     "output_type": "stream",
     "text": [
      "I0511 10:27:33.268182 139902602618752 basic_session_run_hooks.py:680] global_step/sec: 1.09255\n"
     ]
    },
    {
     "name": "stdout",
     "output_type": "stream",
     "text": [
      "INFO:tensorflow:loss = 0.00039654953, step = 17400 (91.527 sec)\n"
     ]
    },
    {
     "name": "stderr",
     "output_type": "stream",
     "text": [
      "I0511 10:27:33.272802 139902602618752 basic_session_run_hooks.py:247] loss = 0.00039654953, step = 17400 (91.527 sec)\n"
     ]
    },
    {
     "name": "stdout",
     "output_type": "stream",
     "text": [
      "INFO:tensorflow:Saving checkpoints for 17500 into OUTPUT_DIR_NAME/model.ckpt.\n"
     ]
    },
    {
     "name": "stderr",
     "output_type": "stream",
     "text": [
      "I0511 10:29:03.724236 139902602618752 basic_session_run_hooks.py:594] Saving checkpoints for 17500 into OUTPUT_DIR_NAME/model.ckpt.\n"
     ]
    },
    {
     "name": "stdout",
     "output_type": "stream",
     "text": [
      "INFO:tensorflow:global_step/sec: 0.972998\n"
     ]
    },
    {
     "name": "stderr",
     "output_type": "stream",
     "text": [
      "I0511 10:29:16.043317 139902602618752 basic_session_run_hooks.py:680] global_step/sec: 0.972998\n"
     ]
    },
    {
     "name": "stdout",
     "output_type": "stream",
     "text": [
      "INFO:tensorflow:loss = 0.0029941916, step = 17500 (102.773 sec)\n"
     ]
    },
    {
     "name": "stderr",
     "output_type": "stream",
     "text": [
      "I0511 10:29:16.045276 139902602618752 basic_session_run_hooks.py:247] loss = 0.0029941916, step = 17500 (102.773 sec)\n"
     ]
    },
    {
     "name": "stdout",
     "output_type": "stream",
     "text": [
      "INFO:tensorflow:global_step/sec: 1.08788\n"
     ]
    },
    {
     "name": "stderr",
     "output_type": "stream",
     "text": [
      "I0511 10:30:47.965199 139902602618752 basic_session_run_hooks.py:680] global_step/sec: 1.08788\n"
     ]
    },
    {
     "name": "stdout",
     "output_type": "stream",
     "text": [
      "INFO:tensorflow:loss = 0.024145091, step = 17600 (91.922 sec)\n"
     ]
    },
    {
     "name": "stderr",
     "output_type": "stream",
     "text": [
      "I0511 10:30:47.967749 139902602618752 basic_session_run_hooks.py:247] loss = 0.024145091, step = 17600 (91.922 sec)\n"
     ]
    },
    {
     "name": "stdout",
     "output_type": "stream",
     "text": [
      "INFO:tensorflow:global_step/sec: 1.09314\n"
     ]
    },
    {
     "name": "stderr",
     "output_type": "stream",
     "text": [
      "I0511 10:32:19.444625 139902602618752 basic_session_run_hooks.py:680] global_step/sec: 1.09314\n"
     ]
    },
    {
     "name": "stdout",
     "output_type": "stream",
     "text": [
      "INFO:tensorflow:loss = 0.00017382656, step = 17700 (91.479 sec)\n"
     ]
    },
    {
     "name": "stderr",
     "output_type": "stream",
     "text": [
      "I0511 10:32:19.446763 139902602618752 basic_session_run_hooks.py:247] loss = 0.00017382656, step = 17700 (91.479 sec)\n"
     ]
    },
    {
     "name": "stdout",
     "output_type": "stream",
     "text": [
      "INFO:tensorflow:global_step/sec: 1.09528\n"
     ]
    },
    {
     "name": "stderr",
     "output_type": "stream",
     "text": [
      "I0511 10:33:50.745345 139902602618752 basic_session_run_hooks.py:680] global_step/sec: 1.09528\n"
     ]
    },
    {
     "name": "stdout",
     "output_type": "stream",
     "text": [
      "INFO:tensorflow:loss = 0.28172475, step = 17800 (91.303 sec)\n"
     ]
    },
    {
     "name": "stderr",
     "output_type": "stream",
     "text": [
      "I0511 10:33:50.749644 139902602618752 basic_session_run_hooks.py:247] loss = 0.28172475, step = 17800 (91.303 sec)\n"
     ]
    },
    {
     "name": "stdout",
     "output_type": "stream",
     "text": [
      "INFO:tensorflow:global_step/sec: 1.09699\n"
     ]
    },
    {
     "name": "stderr",
     "output_type": "stream",
     "text": [
      "I0511 10:35:21.903646 139902602618752 basic_session_run_hooks.py:680] global_step/sec: 1.09699\n"
     ]
    },
    {
     "name": "stdout",
     "output_type": "stream",
     "text": [
      "INFO:tensorflow:loss = 0.00022402825, step = 17900 (91.156 sec)\n"
     ]
    },
    {
     "name": "stderr",
     "output_type": "stream",
     "text": [
      "I0511 10:35:21.905905 139902602618752 basic_session_run_hooks.py:247] loss = 0.00022402825, step = 17900 (91.156 sec)\n"
     ]
    },
    {
     "name": "stdout",
     "output_type": "stream",
     "text": [
      "INFO:tensorflow:Saving checkpoints for 18000 into OUTPUT_DIR_NAME/model.ckpt.\n"
     ]
    },
    {
     "name": "stderr",
     "output_type": "stream",
     "text": [
      "I0511 10:36:52.558273 139902602618752 basic_session_run_hooks.py:594] Saving checkpoints for 18000 into OUTPUT_DIR_NAME/model.ckpt.\n"
     ]
    },
    {
     "name": "stdout",
     "output_type": "stream",
     "text": [
      "INFO:tensorflow:global_step/sec: 0.972138\n"
     ]
    },
    {
     "name": "stderr",
     "output_type": "stream",
     "text": [
      "I0511 10:37:04.769657 139902602618752 basic_session_run_hooks.py:680] global_step/sec: 0.972138\n"
     ]
    },
    {
     "name": "stdout",
     "output_type": "stream",
     "text": [
      "INFO:tensorflow:loss = 0.00024655554, step = 18000 (102.866 sec)\n"
     ]
    },
    {
     "name": "stderr",
     "output_type": "stream",
     "text": [
      "I0511 10:37:04.771936 139902602618752 basic_session_run_hooks.py:247] loss = 0.00024655554, step = 18000 (102.866 sec)\n"
     ]
    },
    {
     "name": "stdout",
     "output_type": "stream",
     "text": [
      "INFO:tensorflow:global_step/sec: 1.08614\n"
     ]
    },
    {
     "name": "stderr",
     "output_type": "stream",
     "text": [
      "I0511 10:38:36.839123 139902602618752 basic_session_run_hooks.py:680] global_step/sec: 1.08614\n"
     ]
    },
    {
     "name": "stdout",
     "output_type": "stream",
     "text": [
      "INFO:tensorflow:loss = 0.08493449, step = 18100 (92.074 sec)\n"
     ]
    },
    {
     "name": "stderr",
     "output_type": "stream",
     "text": [
      "I0511 10:38:36.845615 139902602618752 basic_session_run_hooks.py:247] loss = 0.08493449, step = 18100 (92.074 sec)\n"
     ]
    },
    {
     "name": "stdout",
     "output_type": "stream",
     "text": [
      "INFO:tensorflow:global_step/sec: 1.09161\n"
     ]
    },
    {
     "name": "stderr",
     "output_type": "stream",
     "text": [
      "I0511 10:40:08.447275 139902602618752 basic_session_run_hooks.py:680] global_step/sec: 1.09161\n"
     ]
    },
    {
     "name": "stdout",
     "output_type": "stream",
     "text": [
      "INFO:tensorflow:loss = 0.00014261903, step = 18200 (91.606 sec)\n"
     ]
    },
    {
     "name": "stderr",
     "output_type": "stream",
     "text": [
      "I0511 10:40:08.451724 139902602618752 basic_session_run_hooks.py:247] loss = 0.00014261903, step = 18200 (91.606 sec)\n"
     ]
    },
    {
     "name": "stdout",
     "output_type": "stream",
     "text": [
      "INFO:tensorflow:global_step/sec: 1.09223\n"
     ]
    },
    {
     "name": "stderr",
     "output_type": "stream",
     "text": [
      "I0511 10:41:40.003462 139902602618752 basic_session_run_hooks.py:680] global_step/sec: 1.09223\n"
     ]
    },
    {
     "name": "stdout",
     "output_type": "stream",
     "text": [
      "INFO:tensorflow:loss = 0.00026480737, step = 18300 (91.557 sec)\n"
     ]
    },
    {
     "name": "stderr",
     "output_type": "stream",
     "text": [
      "I0511 10:41:40.008545 139902602618752 basic_session_run_hooks.py:247] loss = 0.00026480737, step = 18300 (91.557 sec)\n"
     ]
    },
    {
     "name": "stdout",
     "output_type": "stream",
     "text": [
      "INFO:tensorflow:global_step/sec: 1.09414\n"
     ]
    },
    {
     "name": "stderr",
     "output_type": "stream",
     "text": [
      "I0511 10:43:11.399452 139902602618752 basic_session_run_hooks.py:680] global_step/sec: 1.09414\n"
     ]
    },
    {
     "name": "stdout",
     "output_type": "stream",
     "text": [
      "INFO:tensorflow:loss = 0.00042942612, step = 18400 (91.395 sec)\n"
     ]
    },
    {
     "name": "stderr",
     "output_type": "stream",
     "text": [
      "I0511 10:43:11.403996 139902602618752 basic_session_run_hooks.py:247] loss = 0.00042942612, step = 18400 (91.395 sec)\n"
     ]
    },
    {
     "name": "stdout",
     "output_type": "stream",
     "text": [
      "INFO:tensorflow:Saving checkpoints for 18500 into OUTPUT_DIR_NAME/model.ckpt.\n"
     ]
    },
    {
     "name": "stderr",
     "output_type": "stream",
     "text": [
      "I0511 10:44:41.949361 139902602618752 basic_session_run_hooks.py:594] Saving checkpoints for 18500 into OUTPUT_DIR_NAME/model.ckpt.\n"
     ]
    },
    {
     "name": "stdout",
     "output_type": "stream",
     "text": [
      "INFO:tensorflow:global_step/sec: 0.971562\n"
     ]
    },
    {
     "name": "stderr",
     "output_type": "stream",
     "text": [
      "I0511 10:44:54.326282 139902602618752 basic_session_run_hooks.py:680] global_step/sec: 0.971562\n"
     ]
    },
    {
     "name": "stdout",
     "output_type": "stream",
     "text": [
      "INFO:tensorflow:loss = 0.00017409876, step = 18500 (102.925 sec)\n"
     ]
    },
    {
     "name": "stderr",
     "output_type": "stream",
     "text": [
      "I0511 10:44:54.328722 139902602618752 basic_session_run_hooks.py:247] loss = 0.00017409876, step = 18500 (102.925 sec)\n"
     ]
    },
    {
     "name": "stdout",
     "output_type": "stream",
     "text": [
      "INFO:tensorflow:global_step/sec: 1.08628\n"
     ]
    },
    {
     "name": "stderr",
     "output_type": "stream",
     "text": [
      "I0511 10:46:26.383544 139902602618752 basic_session_run_hooks.py:680] global_step/sec: 1.08628\n"
     ]
    },
    {
     "name": "stdout",
     "output_type": "stream",
     "text": [
      "INFO:tensorflow:loss = 0.10445423, step = 18600 (92.061 sec)\n"
     ]
    },
    {
     "name": "stderr",
     "output_type": "stream",
     "text": [
      "I0511 10:46:26.390097 139902602618752 basic_session_run_hooks.py:247] loss = 0.10445423, step = 18600 (92.061 sec)\n"
     ]
    },
    {
     "name": "stdout",
     "output_type": "stream",
     "text": [
      "INFO:tensorflow:global_step/sec: 1.08975\n"
     ]
    },
    {
     "name": "stderr",
     "output_type": "stream",
     "text": [
      "I0511 10:47:58.147507 139902602618752 basic_session_run_hooks.py:680] global_step/sec: 1.08975\n"
     ]
    },
    {
     "name": "stdout",
     "output_type": "stream",
     "text": [
      "INFO:tensorflow:loss = 0.00030947727, step = 18700 (91.760 sec)\n"
     ]
    },
    {
     "name": "stderr",
     "output_type": "stream",
     "text": [
      "I0511 10:47:58.149743 139902602618752 basic_session_run_hooks.py:247] loss = 0.00030947727, step = 18700 (91.760 sec)\n"
     ]
    },
    {
     "name": "stdout",
     "output_type": "stream",
     "text": [
      "INFO:tensorflow:global_step/sec: 1.08908\n"
     ]
    },
    {
     "name": "stderr",
     "output_type": "stream",
     "text": [
      "I0511 10:49:29.968504 139902602618752 basic_session_run_hooks.py:680] global_step/sec: 1.08908\n"
     ]
    },
    {
     "name": "stdout",
     "output_type": "stream",
     "text": [
      "INFO:tensorflow:loss = 0.0003516365, step = 18800 (91.826 sec)\n"
     ]
    },
    {
     "name": "stderr",
     "output_type": "stream",
     "text": [
      "I0511 10:49:29.976223 139902602618752 basic_session_run_hooks.py:247] loss = 0.0003516365, step = 18800 (91.826 sec)\n"
     ]
    },
    {
     "name": "stdout",
     "output_type": "stream",
     "text": [
      "INFO:tensorflow:global_step/sec: 1.0917\n"
     ]
    },
    {
     "name": "stderr",
     "output_type": "stream",
     "text": [
      "I0511 10:51:01.568855 139902602618752 basic_session_run_hooks.py:680] global_step/sec: 1.0917\n"
     ]
    },
    {
     "name": "stdout",
     "output_type": "stream",
     "text": [
      "INFO:tensorflow:loss = 0.00019047146, step = 18900 (91.599 sec)\n"
     ]
    },
    {
     "name": "stderr",
     "output_type": "stream",
     "text": [
      "I0511 10:51:01.575262 139902602618752 basic_session_run_hooks.py:247] loss = 0.00019047146, step = 18900 (91.599 sec)\n"
     ]
    },
    {
     "name": "stdout",
     "output_type": "stream",
     "text": [
      "INFO:tensorflow:Saving checkpoints for 19000 into OUTPUT_DIR_NAME/model.ckpt.\n"
     ]
    },
    {
     "name": "stderr",
     "output_type": "stream",
     "text": [
      "I0511 10:52:31.996400 139902602618752 basic_session_run_hooks.py:594] Saving checkpoints for 19000 into OUTPUT_DIR_NAME/model.ckpt.\n"
     ]
    },
    {
     "name": "stdout",
     "output_type": "stream",
     "text": [
      "INFO:tensorflow:global_step/sec: 0.973813\n"
     ]
    },
    {
     "name": "stderr",
     "output_type": "stream",
     "text": [
      "I0511 10:52:44.257936 139902602618752 basic_session_run_hooks.py:680] global_step/sec: 0.973813\n"
     ]
    },
    {
     "name": "stdout",
     "output_type": "stream",
     "text": [
      "INFO:tensorflow:loss = 0.0004697038, step = 19000 (102.691 sec)\n"
     ]
    },
    {
     "name": "stderr",
     "output_type": "stream",
     "text": [
      "I0511 10:52:44.265901 139902602618752 basic_session_run_hooks.py:247] loss = 0.0004697038, step = 19000 (102.691 sec)\n",
      "I0511 10:54:16.368459 139902602618752 basic_session_run_hooks.py:680] global_step/sec: 1.08565\n"
     ]
    },
    {
     "name": "stdout",
     "output_type": "stream",
     "text": [
      "INFO:tensorflow:loss = 0.0004371124, step = 19100 (92.109 sec)\n"
     ]
    },
    {
     "name": "stderr",
     "output_type": "stream",
     "text": [
      "I0511 10:54:16.375408 139902602618752 basic_session_run_hooks.py:247] loss = 0.0004371124, step = 19100 (92.109 sec)\n"
     ]
    },
    {
     "name": "stdout",
     "output_type": "stream",
     "text": [
      "INFO:tensorflow:global_step/sec: 1.09347\n"
     ]
    },
    {
     "name": "stderr",
     "output_type": "stream",
     "text": [
      "I0511 10:55:47.820384 139902602618752 basic_session_run_hooks.py:680] global_step/sec: 1.09347\n"
     ]
    },
    {
     "name": "stdout",
     "output_type": "stream",
     "text": [
      "INFO:tensorflow:loss = 0.00018021167, step = 19200 (91.448 sec)\n"
     ]
    },
    {
     "name": "stderr",
     "output_type": "stream",
     "text": [
      "I0511 10:55:47.823249 139902602618752 basic_session_run_hooks.py:247] loss = 0.00018021167, step = 19200 (91.448 sec)\n"
     ]
    },
    {
     "name": "stdout",
     "output_type": "stream",
     "text": [
      "INFO:tensorflow:global_step/sec: 1.09583\n"
     ]
    },
    {
     "name": "stderr",
     "output_type": "stream",
     "text": [
      "I0511 10:57:19.075800 139902602618752 basic_session_run_hooks.py:680] global_step/sec: 1.09583\n"
     ]
    },
    {
     "name": "stdout",
     "output_type": "stream",
     "text": [
      "INFO:tensorflow:loss = 0.00026326493, step = 19300 (91.255 sec)\n"
     ]
    },
    {
     "name": "stderr",
     "output_type": "stream",
     "text": [
      "I0511 10:57:19.078230 139902602618752 basic_session_run_hooks.py:247] loss = 0.00026326493, step = 19300 (91.255 sec)\n"
     ]
    },
    {
     "name": "stdout",
     "output_type": "stream",
     "text": [
      "INFO:tensorflow:global_step/sec: 1.0934\n"
     ]
    },
    {
     "name": "stderr",
     "output_type": "stream",
     "text": [
      "I0511 10:58:50.533992 139902602618752 basic_session_run_hooks.py:680] global_step/sec: 1.0934\n"
     ]
    },
    {
     "name": "stdout",
     "output_type": "stream",
     "text": [
      "INFO:tensorflow:loss = 0.0006527265, step = 19400 (91.460 sec)\n"
     ]
    },
    {
     "name": "stderr",
     "output_type": "stream",
     "text": [
      "I0511 10:58:50.537887 139902602618752 basic_session_run_hooks.py:247] loss = 0.0006527265, step = 19400 (91.460 sec)\n"
     ]
    },
    {
     "name": "stdout",
     "output_type": "stream",
     "text": [
      "INFO:tensorflow:Saving checkpoints for 19500 into OUTPUT_DIR_NAME/model.ckpt.\n"
     ]
    },
    {
     "name": "stderr",
     "output_type": "stream",
     "text": [
      "I0511 11:00:21.243716 139902602618752 basic_session_run_hooks.py:594] Saving checkpoints for 19500 into OUTPUT_DIR_NAME/model.ckpt.\n"
     ]
    },
    {
     "name": "stdout",
     "output_type": "stream",
     "text": [
      "INFO:tensorflow:global_step/sec: 0.972399\n"
     ]
    },
    {
     "name": "stderr",
     "output_type": "stream",
     "text": [
      "I0511 11:00:33.372361 139902602618752 basic_session_run_hooks.py:680] global_step/sec: 0.972399\n"
     ]
    },
    {
     "name": "stdout",
     "output_type": "stream",
     "text": [
      "INFO:tensorflow:loss = 0.00021585386, step = 19500 (102.841 sec)\n"
     ]
    },
    {
     "name": "stderr",
     "output_type": "stream",
     "text": [
      "I0511 11:00:33.378940 139902602618752 basic_session_run_hooks.py:247] loss = 0.00021585386, step = 19500 (102.841 sec)\n"
     ]
    },
    {
     "name": "stdout",
     "output_type": "stream",
     "text": [
      "INFO:tensorflow:global_step/sec: 1.0866\n"
     ]
    },
    {
     "name": "stderr",
     "output_type": "stream",
     "text": [
      "I0511 11:02:05.402815 139902602618752 basic_session_run_hooks.py:680] global_step/sec: 1.0866\n"
     ]
    },
    {
     "name": "stdout",
     "output_type": "stream",
     "text": [
      "INFO:tensorflow:loss = 0.00028360425, step = 19600 (92.026 sec)\n"
     ]
    },
    {
     "name": "stderr",
     "output_type": "stream",
     "text": [
      "I0511 11:02:05.405026 139902602618752 basic_session_run_hooks.py:247] loss = 0.00028360425, step = 19600 (92.026 sec)\n"
     ]
    },
    {
     "name": "stdout",
     "output_type": "stream",
     "text": [
      "INFO:tensorflow:global_step/sec: 1.09306\n"
     ]
    },
    {
     "name": "stderr",
     "output_type": "stream",
     "text": [
      "I0511 11:03:36.889154 139902602618752 basic_session_run_hooks.py:680] global_step/sec: 1.09306\n"
     ]
    },
    {
     "name": "stdout",
     "output_type": "stream",
     "text": [
      "INFO:tensorflow:loss = 0.00022560875, step = 19700 (91.489 sec)\n"
     ]
    },
    {
     "name": "stderr",
     "output_type": "stream",
     "text": [
      "I0511 11:03:36.893616 139902602618752 basic_session_run_hooks.py:247] loss = 0.00022560875, step = 19700 (91.489 sec)\n"
     ]
    },
    {
     "name": "stdout",
     "output_type": "stream",
     "text": [
      "INFO:tensorflow:global_step/sec: 1.09331\n"
     ]
    },
    {
     "name": "stderr",
     "output_type": "stream",
     "text": [
      "I0511 11:05:08.354254 139902602618752 basic_session_run_hooks.py:680] global_step/sec: 1.09331\n"
     ]
    },
    {
     "name": "stdout",
     "output_type": "stream",
     "text": [
      "INFO:tensorflow:loss = 0.00041742594, step = 19800 (91.468 sec)\n"
     ]
    },
    {
     "name": "stderr",
     "output_type": "stream",
     "text": [
      "I0511 11:05:08.361897 139902602618752 basic_session_run_hooks.py:247] loss = 0.00041742594, step = 19800 (91.468 sec)\n"
     ]
    },
    {
     "name": "stdout",
     "output_type": "stream",
     "text": [
      "INFO:tensorflow:global_step/sec: 1.09086\n"
     ]
    },
    {
     "name": "stderr",
     "output_type": "stream",
     "text": [
      "I0511 11:06:40.025352 139902602618752 basic_session_run_hooks.py:680] global_step/sec: 1.09086\n"
     ]
    },
    {
     "name": "stdout",
     "output_type": "stream",
     "text": [
      "INFO:tensorflow:loss = 0.00020923681, step = 19900 (91.670 sec)\n"
     ]
    },
    {
     "name": "stderr",
     "output_type": "stream",
     "text": [
      "I0511 11:06:40.032351 139902602618752 basic_session_run_hooks.py:247] loss = 0.00020923681, step = 19900 (91.670 sec)\n"
     ]
    },
    {
     "name": "stdout",
     "output_type": "stream",
     "text": [
      "INFO:tensorflow:Saving checkpoints for 20000 into OUTPUT_DIR_NAME/model.ckpt.\n"
     ]
    },
    {
     "name": "stderr",
     "output_type": "stream",
     "text": [
      "I0511 11:08:10.578366 139902602618752 basic_session_run_hooks.py:594] Saving checkpoints for 20000 into OUTPUT_DIR_NAME/model.ckpt.\n"
     ]
    },
    {
     "name": "stdout",
     "output_type": "stream",
     "text": [
      "INFO:tensorflow:Loss for final step: 0.00030886475.\n"
     ]
    },
    {
     "name": "stderr",
     "output_type": "stream",
     "text": [
      "I0511 11:08:22.876711 139902602618752 estimator.py:359] Loss for final step: 0.00030886475.\n"
     ]
    },
    {
     "name": "stdout",
     "output_type": "stream",
     "text": [
      "Training took time  5:16:35.342101\n"
     ]
    }
   ],
   "source": [
    "print(f'Beginning Training!')  # Print a message indicating the start of training\n",
    "current_time = datetime.now()  # Record the current time\n",
    "# Train the estimator using the input function for training data and a maximum number of steps\n",
    "estimator.train(input_fn=train_input_fn, max_steps=num_train_steps)\n",
    "# Print the time taken for training by subtracting the start time from the current time\n",
    "print(\"Training took time \", datetime.now() - current_time)\n"
   ]
  },
  {
   "cell_type": "code",
   "execution_count": null,
   "metadata": {
    "colab": {},
    "colab_type": "code",
    "id": "CkVyR9542xm0"
   },
   "outputs": [],
   "source": [
    "# Create an input function for testing. drop_remainder = False as we may have incomplete batches for testing.\n",
    "test_input_fn = run_classifier.input_fn_builder(\n",
    "    features=test_features,  # Testing features\n",
    "    seq_length=MAX_SEQ_LENGTH,  # Maximum sequence length\n",
    "    is_training=False,  # Indicate testing mode\n",
    "    drop_remainder=False)  # Do not drop the remainder of the data when batching\n"
   ]
  },
  {
   "cell_type": "code",
   "execution_count": null,
   "metadata": {
    "colab": {
     "base_uri": "https://localhost:8080/",
     "height": 734
    },
    "colab_type": "code",
    "id": "wmn74t0-2zqD",
    "outputId": "ea8d6d5c-f9e7-4127-ec7a-d7249c35b7ef"
   },
   "outputs": [
    {
     "name": "stdout",
     "output_type": "stream",
     "text": [
      "INFO:tensorflow:Calling model_fn.\n"
     ]
    },
    {
     "name": "stderr",
     "output_type": "stream",
     "text": [
      "I0511 11:08:43.252585 139902602618752 estimator.py:1111] Calling model_fn.\n"
     ]
    },
    {
     "name": "stdout",
     "output_type": "stream",
     "text": [
      "INFO:tensorflow:Saver not created because there are no variables in the graph to restore\n"
     ]
    },
    {
     "name": "stderr",
     "output_type": "stream",
     "text": [
      "I0511 11:08:47.060864 139902602618752 saver.py:1483] Saver not created because there are no variables in the graph to restore\n",
      "/usr/local/lib/python3.6/dist-packages/tensorflow/python/ops/gradients_impl.py:110: UserWarning: Converting sparse IndexedSlices to a dense Tensor of unknown shape. This may consume a large amount of memory.\n",
      "  \"Converting sparse IndexedSlices to a dense Tensor of unknown shape. \"\n"
     ]
    },
    {
     "name": "stdout",
     "output_type": "stream",
     "text": [
      "INFO:tensorflow:Done calling model_fn.\n"
     ]
    },
    {
     "name": "stderr",
     "output_type": "stream",
     "text": [
      "I0511 11:08:57.131701 139902602618752 estimator.py:1113] Done calling model_fn.\n"
     ]
    },
    {
     "name": "stdout",
     "output_type": "stream",
     "text": [
      "INFO:tensorflow:Starting evaluation at 2019-05-11T11:08:57Z\n"
     ]
    },
    {
     "name": "stderr",
     "output_type": "stream",
     "text": [
      "I0511 11:08:57.156750 139902602618752 evaluation.py:257] Starting evaluation at 2019-05-11T11:08:57Z\n"
     ]
    },
    {
     "name": "stdout",
     "output_type": "stream",
     "text": [
      "INFO:tensorflow:Graph was finalized.\n"
     ]
    },
    {
     "name": "stderr",
     "output_type": "stream",
     "text": [
      "I0511 11:08:58.567784 139902602618752 monitored_session.py:222] Graph was finalized.\n"
     ]
    },
    {
     "name": "stdout",
     "output_type": "stream",
     "text": [
      "WARNING:tensorflow:From /usr/local/lib/python3.6/dist-packages/tensorflow/python/training/saver.py:1266: checkpoint_exists (from tensorflow.python.training.checkpoint_management) is deprecated and will be removed in a future version.\n",
      "Instructions for updating:\n",
      "Use standard file APIs to check for files with this prefix.\n"
     ]
    },
    {
     "name": "stderr",
     "output_type": "stream",
     "text": [
      "W0511 11:08:58.573354 139902602618752 deprecation.py:323] From /usr/local/lib/python3.6/dist-packages/tensorflow/python/training/saver.py:1266: checkpoint_exists (from tensorflow.python.training.checkpoint_management) is deprecated and will be removed in a future version.\n",
      "Instructions for updating:\n",
      "Use standard file APIs to check for files with this prefix.\n"
     ]
    },
    {
     "name": "stdout",
     "output_type": "stream",
     "text": [
      "INFO:tensorflow:Restoring parameters from OUTPUT_DIR_NAME/model.ckpt-20000\n"
     ]
    },
    {
     "name": "stderr",
     "output_type": "stream",
     "text": [
      "I0511 11:08:58.579125 139902602618752 saver.py:1270] Restoring parameters from OUTPUT_DIR_NAME/model.ckpt-20000\n"
     ]
    },
    {
     "name": "stdout",
     "output_type": "stream",
     "text": [
      "INFO:tensorflow:Running local_init_op.\n"
     ]
    },
    {
     "name": "stderr",
     "output_type": "stream",
     "text": [
      "I0511 11:09:00.713626 139902602618752 session_manager.py:491] Running local_init_op.\n"
     ]
    },
    {
     "name": "stdout",
     "output_type": "stream",
     "text": [
      "INFO:tensorflow:Done running local_init_op.\n"
     ]
    },
    {
     "name": "stderr",
     "output_type": "stream",
     "text": [
      "I0511 11:09:00.940775 139902602618752 session_manager.py:493] Done running local_init_op.\n"
     ]
    },
    {
     "name": "stdout",
     "output_type": "stream",
     "text": [
      "INFO:tensorflow:Finished evaluation at 2019-05-11-11:15:33\n"
     ]
    },
    {
     "name": "stderr",
     "output_type": "stream",
     "text": [
      "I0511 11:15:33.781086 139902602618752 evaluation.py:277] Finished evaluation at 2019-05-11-11:15:33\n"
     ]
    },
    {
     "name": "stdout",
     "output_type": "stream",
     "text": [
      "INFO:tensorflow:Saving dict for global step 20000: auc = 0.9777, eval_accuracy = 0.9777, f1_score = 0.97769326, false_negatives = 444.0, false_positives = 448.0, global_step = 20000, loss = 0.14377308, precision = 0.9775955, recall = 0.97779113, true_negatives = 19560.0, true_positives = 19548.0\n"
     ]
    },
    {
     "name": "stderr",
     "output_type": "stream",
     "text": [
      "I0511 11:15:33.785886 139902602618752 estimator.py:1979] Saving dict for global step 20000: auc = 0.9777, eval_accuracy = 0.9777, f1_score = 0.97769326, false_negatives = 444.0, false_positives = 448.0, global_step = 20000, loss = 0.14377308, precision = 0.9775955, recall = 0.97779113, true_negatives = 19560.0, true_positives = 19548.0\n"
     ]
    },
    {
     "name": "stdout",
     "output_type": "stream",
     "text": [
      "INFO:tensorflow:Saving 'checkpoint_path' summary for global step 20000: OUTPUT_DIR_NAME/model.ckpt-20000\n"
     ]
    },
    {
     "name": "stderr",
     "output_type": "stream",
     "text": [
      "I0511 11:15:36.466785 139902602618752 estimator.py:2039] Saving 'checkpoint_path' summary for global step 20000: OUTPUT_DIR_NAME/model.ckpt-20000\n"
     ]
    },
    {
     "data": {
      "text/plain": [
       "{'auc': 0.9777,\n",
       " 'eval_accuracy': 0.9777,\n",
       " 'f1_score': 0.97769326,\n",
       " 'false_negatives': 444.0,\n",
       " 'false_positives': 448.0,\n",
       " 'global_step': 20000,\n",
       " 'loss': 0.14377308,\n",
       " 'precision': 0.9775955,\n",
       " 'recall': 0.97779113,\n",
       " 'true_negatives': 19560.0,\n",
       " 'true_positives': 19548.0}"
      ]
     },
     "execution_count": 23,
     "metadata": {
      "tags": []
     },
     "output_type": "execute_result"
    }
   ],
   "source": [
    "# Use the estimator's evaluate method to evaluate the model on the test data\n",
    "# using the input function for testing\n",
    "# The steps parameter controls the number of steps (batches) to run the evaluation.\n",
    "# If steps is None, all the data will be evaluated.\n",
    "evaluation_result = estimator.evaluate(input_fn=test_input_fn, steps=None)\n"
   ]
  },
  {
   "cell_type": "code",
   "execution_count": null,
   "metadata": {
    "colab": {},
    "colab_type": "code",
    "id": "wz6V63OG23KB"
   },
   "outputs": [],
   "source": []
  }
 ],
 "metadata": {
  "accelerator": "GPU",
  "colab": {
   "collapsed_sections": [],
   "name": " BERT .(200kb32e4)ipynb",
   "provenance": [],
   "version": "0.3.2"
  },
  "kernelspec": {
   "display_name": "Python 3 (ipykernel)",
   "language": "python",
   "name": "python3"
  },
  "language_info": {
   "codemirror_mode": {
    "name": "ipython",
    "version": 3
   },
   "file_extension": ".py",
   "mimetype": "text/x-python",
   "name": "python",
   "nbconvert_exporter": "python",
   "pygments_lexer": "ipython3",
   "version": "3.11.7"
  }
 },
 "nbformat": 4,
 "nbformat_minor": 4
}
